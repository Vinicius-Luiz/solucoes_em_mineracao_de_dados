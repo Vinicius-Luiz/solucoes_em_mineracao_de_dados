{
  "nbformat": 4,
  "nbformat_minor": 0,
  "metadata": {
    "colab": {
      "name": "PROJETO_MD_VARIACAO_PARAMETRICA_KNN.ipynb",
      "provenance": [],
      "collapsed_sections": []
    },
    "kernelspec": {
      "name": "python3",
      "display_name": "Python 3"
    },
    "language_info": {
      "name": "python"
    }
  },
  "cells": [
    {
      "cell_type": "code",
      "source": [
        "from sklearn.metrics import classification_report, confusion_matrix\n",
        "import seaborn as sns\n",
        "import pandas as pd\n",
        "import pickle"
      ],
      "metadata": {
        "id": "3PToi2GmXLra"
      },
      "execution_count": 1,
      "outputs": []
    },
    {
      "cell_type": "markdown",
      "source": [
        "# Importando variáveis de treino e teste desenvolvidos na etapa de preparação dos dados"
      ],
      "metadata": {
        "id": "0snAXLGLeogy"
      }
    },
    {
      "cell_type": "code",
      "source": [
        "def open_train_test():\n",
        "  with open('train_test.pkl','rb') as f:\n",
        "    return pickle.load(f)"
      ],
      "metadata": {
        "id": "mR4IRb1me0M3"
      },
      "execution_count": 2,
      "outputs": []
    },
    {
      "cell_type": "code",
      "source": [
        "X_train, X_test, y_train, y_test = open_train_test()"
      ],
      "metadata": {
        "id": "lzhmGeB3fHQ4"
      },
      "execution_count": 3,
      "outputs": []
    },
    {
      "cell_type": "markdown",
      "source": [
        "# GridSearchCV\n",
        "O GridSearchCV é um módulo do Scikit Learn e é amplamente usado para automatizar grande parte do processo de tuning. O objetivo primário do GridSearchCV é a criação de combinações de parâmetros para posteriormente avaliá-las."
      ],
      "metadata": {
        "id": "-lbtxdRilp94"
      }
    },
    {
      "cell_type": "code",
      "source": [
        "from sklearn.model_selection import GridSearchCV\n",
        "from sklearn.metrics import make_scorer\n",
        "from sklearn.metrics import precision_score\n",
        "from sklearn.metrics import accuracy_score\n",
        "from sklearn.metrics import recall_score\n",
        "from sklearn.metrics import fbeta_score"
      ],
      "metadata": {
        "id": "19qfGimlltjl"
      },
      "execution_count": 4,
      "outputs": []
    },
    {
      "cell_type": "markdown",
      "source": [
        "Vamos visualizar os resultados dos testes utitlizando 4 métricas diferentes  \n",
        "- **Precision**: é usada para medir o desempenho do modelo ao medir a contageem de positivos verdadeiros da maneira correta de todas as previsões positivas feitas.\n",
        "- **Recall**: é usada para medir o desempenho do modeleo ao medir a contagem de positivos verdadeiros de maneira correta de todos os valores posititvos reais.\n",
        "- **Precision**: é usada para medir o desempenho do modelo ao medir a razão da soma de positivos verdadeiros e verdadeiros negativos de todas as previsões\n",
        "- **F1-score**: é a média harmônica de precision e recall e é usada como uma métrica nos cenários em que a escolha de precisão ou pontuação de recall pode resultar em comprometimento em termos de modeleo dando altos falsos positivos e falsos negativos, respectivamente."
      ],
      "metadata": {
        "id": "sJwdgWhWmb0s"
      }
    },
    {
      "cell_type": "code",
      "source": [
        "metrics = {'accuracy' :make_scorer(accuracy_score),\n",
        "           'recall'   :make_scorer(recall_score),\n",
        "           'precision':make_scorer(precision_score),\n",
        "           'f1'       :make_scorer(fbeta_score, beta = 1)}"
      ],
      "metadata": {
        "id": "Hbm4PSkYl9vM"
      },
      "execution_count": 5,
      "outputs": []
    },
    {
      "cell_type": "markdown",
      "source": [
        "## Cross Validation\n",
        "O Cross validation cria várias combinações diferentes para treino e teste, o que torna o resultado das métricas mais precisa e condinzente com o desempenho real do algoritmo.  \n",
        "\n",
        "Para definir o número de CV no nosso algoritmto, vamos utilizar o StratifiedShuffleSplit, que fornece índices de treinamento/teste para dividir dados em conjuntos de treinamento/teste."
      ],
      "metadata": {
        "id": "6dTISF98pFyY"
      }
    },
    {
      "cell_type": "code",
      "source": [
        "from sklearn.model_selection import StratifiedShuffleSplit\n",
        "\n",
        "cv_sss = StratifiedShuffleSplit(n_splits = 10, test_size = 0.2)"
      ],
      "metadata": {
        "id": "9lL24sLorO8a"
      },
      "execution_count": 6,
      "outputs": []
    },
    {
      "cell_type": "markdown",
      "source": [
        "# KNN - K-Nearest Neighbors"
      ],
      "metadata": {
        "id": "BPgIOuG6eLQE"
      }
    },
    {
      "cell_type": "markdown",
      "source": [
        "## Teste 1\n",
        "Na primeira etapa de teste do KNN, vamos utilizar o conjunto dos parâmetros possíveis para esse modelo. A partir dos resultados obtidos, vamos realizar o funilamento de parâmetros para extrair a melhor combinação possível"
      ],
      "metadata": {
        "id": "yrhNW9CFk8B-"
      }
    },
    {
      "cell_type": "code",
      "source": [
        "from sklearn.neighbors import KNeighborsClassifier\n",
        "knn = KNeighborsClassifier()"
      ],
      "metadata": {
        "id": "sBdvax1Cf7Qi"
      },
      "execution_count": 7,
      "outputs": []
    },
    {
      "cell_type": "code",
      "source": [
        "knn_parameters = {\n",
        "      'n_neighbors': (5, 7, 9, 11, 13, 15)\n",
        "    , 'weights': ['uniform', 'distance'] \n",
        "    , 'algorithm': ['auto','ball_tree','kd_tree','brute']\n",
        "    , 'p': (1,2)\n",
        "    , 'metric': ['euclidean', 'manhattan', 'chebyshev', 'minkowski', 'wminkowski', 'seuclidean', 'mahalanobis']\n",
        "}"
      ],
      "metadata": {
        "id": "wdiF3nEW9Xz_"
      },
      "execution_count": 8,
      "outputs": []
    },
    {
      "cell_type": "code",
      "source": [
        "def knn_count(df, count = False, **kargs):\n",
        "  alg, met, n_neig, p_dict, weig = dict(), dict(), dict(), dict(), dict()\n",
        "\n",
        "  for param in kargs['algorithm']:\n",
        "    alg[param] = 0\n",
        "  \n",
        "  for param in kargs['metric']:\n",
        "    met[param] = 0\n",
        "  \n",
        "  for param in kargs['n_neighbors']:\n",
        "    n_neig[param] = 0\n",
        "  \n",
        "  for param in kargs['p']:\n",
        "    p_dict[param] = 0\n",
        "  \n",
        "  for param in kargs['weights']:\n",
        "    weig[param] = 0\n",
        "\n",
        "  knn_params_count = {\n",
        "        'algorithm': alg\n",
        "      , 'metric': met\n",
        "      , 'n_neighbors': n_neig\n",
        "      , 'p': p_dict\n",
        "      , 'weights': weig\n",
        "  }\n",
        "\n",
        "  if not count:\n",
        "    count = df.shape[0]\n",
        "\n",
        "  for i in range(count):\n",
        "    algorithm   = df['params'][i]['algorithm']\n",
        "    metric      = df['params'][i]['metric']\n",
        "    n_neighbors = df['params'][i]['n_neighbors']\n",
        "    p           = df['params'][i]['p']\n",
        "    weights     = df['params'][i]['weights']\n",
        "\n",
        "    knn_params_count['algorithm'][algorithm] += 1\n",
        "    knn_params_count['metric'][metric] += 1\n",
        "    knn_params_count['n_neighbors'][n_neighbors] += 1\n",
        "    knn_params_count['p'][p] += 1\n",
        "    knn_params_count['weights'][weights] += 1\n",
        "\n",
        "  return knn_params_count"
      ],
      "metadata": {
        "id": "XFOkFPVM49LY"
      },
      "execution_count": 9,
      "outputs": []
    },
    {
      "cell_type": "code",
      "source": [
        "%%capture\n",
        "test_1_knn = GridSearchCV(estimator = knn,\n",
        "                      param_grid = knn_parameters,\n",
        "                      cv = cv_sss,\n",
        "                      scoring = metrics,\n",
        "                      refit=False)\n",
        "\n",
        "test_1_knn.fit(X_train, y_train)"
      ],
      "metadata": {
        "id": "aboV8gA6rq34"
      },
      "execution_count": 10,
      "outputs": []
    },
    {
      "cell_type": "code",
      "source": [
        "df_knn_1 = pd.DataFrame(test_1_knn.cv_results_)[['params', 'rank_test_f1', 'rank_test_accuracy', 'rank_test_recall', 'rank_test_precision','mean_test_accuracy', 'mean_test_recall','mean_test_precision','mean_test_f1']]\n",
        "df_knn_1.sort_values(by=['rank_test_f1', 'rank_test_accuracy', 'rank_test_recall', 'rank_test_precision'], inplace=True)"
      ],
      "metadata": {
        "id": "OI-BBgHhtTVe"
      },
      "execution_count": 11,
      "outputs": []
    },
    {
      "cell_type": "code",
      "source": [
        "print(f\"Verificando os 5 melhores resultados das {df_knn_1.shape[0]} combinações diferentes ordenados por: rank_test_f1, rank_test_accuracy, rank_test_recall e rank_test_precision\")"
      ],
      "metadata": {
        "colab": {
          "base_uri": "https://localhost:8080/"
        },
        "id": "4r9uHR5055W7",
        "outputId": "5c45263e-d863-4490-f379-fb2b37d73cec"
      },
      "execution_count": 12,
      "outputs": [
        {
          "output_type": "stream",
          "name": "stdout",
          "text": [
            "Verificando os 5 melhores resultados das 672 combinações diferentes ordenados por: rank_test_f1, rank_test_accuracy, rank_test_recall e rank_test_precision\n"
          ]
        }
      ]
    },
    {
      "cell_type": "code",
      "source": [
        "df_knn_1.head()"
      ],
      "metadata": {
        "colab": {
          "base_uri": "https://localhost:8080/",
          "height": 337
        },
        "id": "KXsyRaze58Ia",
        "outputId": "8aba1e27-d69d-4070-83ab-1387e051abb3"
      },
      "execution_count": 13,
      "outputs": [
        {
          "output_type": "execute_result",
          "data": {
            "text/plain": [
              "                                                params  rank_test_f1  \\\n",
              "25   {'algorithm': 'auto', 'metric': 'manhattan', '...             1   \n",
              "27   {'algorithm': 'auto', 'metric': 'manhattan', '...             1   \n",
              "73   {'algorithm': 'auto', 'metric': 'minkowski', '...             1   \n",
              "193  {'algorithm': 'ball_tree', 'metric': 'manhatta...             1   \n",
              "195  {'algorithm': 'ball_tree', 'metric': 'manhatta...             1   \n",
              "\n",
              "     rank_test_accuracy  rank_test_recall  rank_test_precision  \\\n",
              "25                    1                 1                    1   \n",
              "27                    1                 1                    1   \n",
              "73                    1                 1                    1   \n",
              "193                   1                 1                    1   \n",
              "195                   1                 1                    1   \n",
              "\n",
              "     mean_test_accuracy  mean_test_recall  mean_test_precision  mean_test_f1  \n",
              "25             0.838425          0.720335             0.942399      0.816276  \n",
              "27             0.838425          0.720335             0.942399      0.816276  \n",
              "73             0.838425          0.720335             0.942399      0.816276  \n",
              "193            0.838425          0.720335             0.942399      0.816276  \n",
              "195            0.838425          0.720335             0.942399      0.816276  "
            ],
            "text/html": [
              "\n",
              "  <div id=\"df-02278e1f-3b15-49d4-aec9-d1b657a841ca\">\n",
              "    <div class=\"colab-df-container\">\n",
              "      <div>\n",
              "<style scoped>\n",
              "    .dataframe tbody tr th:only-of-type {\n",
              "        vertical-align: middle;\n",
              "    }\n",
              "\n",
              "    .dataframe tbody tr th {\n",
              "        vertical-align: top;\n",
              "    }\n",
              "\n",
              "    .dataframe thead th {\n",
              "        text-align: right;\n",
              "    }\n",
              "</style>\n",
              "<table border=\"1\" class=\"dataframe\">\n",
              "  <thead>\n",
              "    <tr style=\"text-align: right;\">\n",
              "      <th></th>\n",
              "      <th>params</th>\n",
              "      <th>rank_test_f1</th>\n",
              "      <th>rank_test_accuracy</th>\n",
              "      <th>rank_test_recall</th>\n",
              "      <th>rank_test_precision</th>\n",
              "      <th>mean_test_accuracy</th>\n",
              "      <th>mean_test_recall</th>\n",
              "      <th>mean_test_precision</th>\n",
              "      <th>mean_test_f1</th>\n",
              "    </tr>\n",
              "  </thead>\n",
              "  <tbody>\n",
              "    <tr>\n",
              "      <th>25</th>\n",
              "      <td>{'algorithm': 'auto', 'metric': 'manhattan', '...</td>\n",
              "      <td>1</td>\n",
              "      <td>1</td>\n",
              "      <td>1</td>\n",
              "      <td>1</td>\n",
              "      <td>0.838425</td>\n",
              "      <td>0.720335</td>\n",
              "      <td>0.942399</td>\n",
              "      <td>0.816276</td>\n",
              "    </tr>\n",
              "    <tr>\n",
              "      <th>27</th>\n",
              "      <td>{'algorithm': 'auto', 'metric': 'manhattan', '...</td>\n",
              "      <td>1</td>\n",
              "      <td>1</td>\n",
              "      <td>1</td>\n",
              "      <td>1</td>\n",
              "      <td>0.838425</td>\n",
              "      <td>0.720335</td>\n",
              "      <td>0.942399</td>\n",
              "      <td>0.816276</td>\n",
              "    </tr>\n",
              "    <tr>\n",
              "      <th>73</th>\n",
              "      <td>{'algorithm': 'auto', 'metric': 'minkowski', '...</td>\n",
              "      <td>1</td>\n",
              "      <td>1</td>\n",
              "      <td>1</td>\n",
              "      <td>1</td>\n",
              "      <td>0.838425</td>\n",
              "      <td>0.720335</td>\n",
              "      <td>0.942399</td>\n",
              "      <td>0.816276</td>\n",
              "    </tr>\n",
              "    <tr>\n",
              "      <th>193</th>\n",
              "      <td>{'algorithm': 'ball_tree', 'metric': 'manhatta...</td>\n",
              "      <td>1</td>\n",
              "      <td>1</td>\n",
              "      <td>1</td>\n",
              "      <td>1</td>\n",
              "      <td>0.838425</td>\n",
              "      <td>0.720335</td>\n",
              "      <td>0.942399</td>\n",
              "      <td>0.816276</td>\n",
              "    </tr>\n",
              "    <tr>\n",
              "      <th>195</th>\n",
              "      <td>{'algorithm': 'ball_tree', 'metric': 'manhatta...</td>\n",
              "      <td>1</td>\n",
              "      <td>1</td>\n",
              "      <td>1</td>\n",
              "      <td>1</td>\n",
              "      <td>0.838425</td>\n",
              "      <td>0.720335</td>\n",
              "      <td>0.942399</td>\n",
              "      <td>0.816276</td>\n",
              "    </tr>\n",
              "  </tbody>\n",
              "</table>\n",
              "</div>\n",
              "      <button class=\"colab-df-convert\" onclick=\"convertToInteractive('df-02278e1f-3b15-49d4-aec9-d1b657a841ca')\"\n",
              "              title=\"Convert this dataframe to an interactive table.\"\n",
              "              style=\"display:none;\">\n",
              "        \n",
              "  <svg xmlns=\"http://www.w3.org/2000/svg\" height=\"24px\"viewBox=\"0 0 24 24\"\n",
              "       width=\"24px\">\n",
              "    <path d=\"M0 0h24v24H0V0z\" fill=\"none\"/>\n",
              "    <path d=\"M18.56 5.44l.94 2.06.94-2.06 2.06-.94-2.06-.94-.94-2.06-.94 2.06-2.06.94zm-11 1L8.5 8.5l.94-2.06 2.06-.94-2.06-.94L8.5 2.5l-.94 2.06-2.06.94zm10 10l.94 2.06.94-2.06 2.06-.94-2.06-.94-.94-2.06-.94 2.06-2.06.94z\"/><path d=\"M17.41 7.96l-1.37-1.37c-.4-.4-.92-.59-1.43-.59-.52 0-1.04.2-1.43.59L10.3 9.45l-7.72 7.72c-.78.78-.78 2.05 0 2.83L4 21.41c.39.39.9.59 1.41.59.51 0 1.02-.2 1.41-.59l7.78-7.78 2.81-2.81c.8-.78.8-2.07 0-2.86zM5.41 20L4 18.59l7.72-7.72 1.47 1.35L5.41 20z\"/>\n",
              "  </svg>\n",
              "      </button>\n",
              "      \n",
              "  <style>\n",
              "    .colab-df-container {\n",
              "      display:flex;\n",
              "      flex-wrap:wrap;\n",
              "      gap: 12px;\n",
              "    }\n",
              "\n",
              "    .colab-df-convert {\n",
              "      background-color: #E8F0FE;\n",
              "      border: none;\n",
              "      border-radius: 50%;\n",
              "      cursor: pointer;\n",
              "      display: none;\n",
              "      fill: #1967D2;\n",
              "      height: 32px;\n",
              "      padding: 0 0 0 0;\n",
              "      width: 32px;\n",
              "    }\n",
              "\n",
              "    .colab-df-convert:hover {\n",
              "      background-color: #E2EBFA;\n",
              "      box-shadow: 0px 1px 2px rgba(60, 64, 67, 0.3), 0px 1px 3px 1px rgba(60, 64, 67, 0.15);\n",
              "      fill: #174EA6;\n",
              "    }\n",
              "\n",
              "    [theme=dark] .colab-df-convert {\n",
              "      background-color: #3B4455;\n",
              "      fill: #D2E3FC;\n",
              "    }\n",
              "\n",
              "    [theme=dark] .colab-df-convert:hover {\n",
              "      background-color: #434B5C;\n",
              "      box-shadow: 0px 1px 3px 1px rgba(0, 0, 0, 0.15);\n",
              "      filter: drop-shadow(0px 1px 2px rgba(0, 0, 0, 0.3));\n",
              "      fill: #FFFFFF;\n",
              "    }\n",
              "  </style>\n",
              "\n",
              "      <script>\n",
              "        const buttonEl =\n",
              "          document.querySelector('#df-02278e1f-3b15-49d4-aec9-d1b657a841ca button.colab-df-convert');\n",
              "        buttonEl.style.display =\n",
              "          google.colab.kernel.accessAllowed ? 'block' : 'none';\n",
              "\n",
              "        async function convertToInteractive(key) {\n",
              "          const element = document.querySelector('#df-02278e1f-3b15-49d4-aec9-d1b657a841ca');\n",
              "          const dataTable =\n",
              "            await google.colab.kernel.invokeFunction('convertToInteractive',\n",
              "                                                     [key], {});\n",
              "          if (!dataTable) return;\n",
              "\n",
              "          const docLinkHtml = 'Like what you see? Visit the ' +\n",
              "            '<a target=\"_blank\" href=https://colab.research.google.com/notebooks/data_table.ipynb>data table notebook</a>'\n",
              "            + ' to learn more about interactive tables.';\n",
              "          element.innerHTML = '';\n",
              "          dataTable['output_type'] = 'display_data';\n",
              "          await google.colab.output.renderOutput(dataTable, element);\n",
              "          const docLink = document.createElement('div');\n",
              "          docLink.innerHTML = docLinkHtml;\n",
              "          element.appendChild(docLink);\n",
              "        }\n",
              "      </script>\n",
              "    </div>\n",
              "  </div>\n",
              "  "
            ]
          },
          "metadata": {},
          "execution_count": 13
        }
      ]
    },
    {
      "cell_type": "markdown",
      "source": [
        "### Realizando a contagem dos parâmetros que foram utitlizados nas 20 melhores classificações"
      ],
      "metadata": {
        "id": "SpP9ZfBF8uPB"
      }
    },
    {
      "cell_type": "code",
      "source": [
        "knn_count(df = df_knn_1, count = 20\n",
        "          , n_neighbors = knn_parameters['n_neighbors']\n",
        "          , weights = knn_parameters['weights']\n",
        "          , algorithm = knn_parameters['algorithm']\n",
        "          , p = knn_parameters['p']\n",
        "          , metric = knn_parameters['metric'])"
      ],
      "metadata": {
        "colab": {
          "base_uri": "https://localhost:8080/"
        },
        "id": "vM7DYRVX-oeu",
        "outputId": "e9ab4c64-07bf-438c-a43f-f5d9021e49ab"
      },
      "execution_count": 14,
      "outputs": [
        {
          "output_type": "execute_result",
          "data": {
            "text/plain": [
              "{'algorithm': {'auto': 20, 'ball_tree': 0, 'brute': 0, 'kd_tree': 0},\n",
              " 'metric': {'chebyshev': 0,\n",
              "  'euclidean': 20,\n",
              "  'mahalanobis': 0,\n",
              "  'manhattan': 0,\n",
              "  'minkowski': 0,\n",
              "  'seuclidean': 0,\n",
              "  'wminkowski': 0},\n",
              " 'n_neighbors': {5: 4, 7: 4, 9: 4, 11: 4, 13: 4, 15: 0},\n",
              " 'p': {1: 10, 2: 10},\n",
              " 'weights': {'distance': 10, 'uniform': 10}}"
            ]
          },
          "metadata": {},
          "execution_count": 14
        }
      ]
    },
    {
      "cell_type": "markdown",
      "source": [
        "## Teste 2\n",
        "Vamos utitlizar os parâmetros mais recorrentes nas melhores classificações e realizar uma segunda rodada de testes para determinar a melhor combinação de parâmetros"
      ],
      "metadata": {
        "id": "EClPzDKo9Gel"
      }
    },
    {
      "cell_type": "code",
      "source": [
        "knn_parameters = {\n",
        "      'n_neighbors': (5, 7)\n",
        "    , 'weights': ['uniform', 'distance'] \n",
        "    , 'algorithm': ['auto']\n",
        "    , 'p': (1,2)\n",
        "    , 'metric': ['euclidean']\n",
        "}"
      ],
      "metadata": {
        "id": "dUf0jE2b9aIp"
      },
      "execution_count": 15,
      "outputs": []
    },
    {
      "cell_type": "code",
      "source": [
        "%%capture\n",
        "test_2_knn = GridSearchCV(estimator = knn,\n",
        "                      param_grid = knn_parameters,\n",
        "                      cv = cv_sss,\n",
        "                      scoring = metrics,\n",
        "                      refit=False)\n",
        "\n",
        "test_2_knn.fit(X_train, y_train)"
      ],
      "metadata": {
        "id": "exOktj4x9fJm"
      },
      "execution_count": 16,
      "outputs": []
    },
    {
      "cell_type": "code",
      "source": [
        "df_knn_2 = pd.DataFrame(test_2_knn.cv_results_)[['params', 'rank_test_f1', 'rank_test_accuracy', 'rank_test_recall', 'rank_test_precision','mean_test_accuracy', 'mean_test_recall','mean_test_precision','mean_test_f1']]\n",
        "df_knn_2.sort_values(by=['rank_test_f1', 'rank_test_accuracy', 'rank_test_recall', 'rank_test_precision'], inplace=True)"
      ],
      "metadata": {
        "id": "ZDbyEJC4-Kuh"
      },
      "execution_count": 17,
      "outputs": []
    },
    {
      "cell_type": "code",
      "source": [
        "print(f\"Verificando os 5 melhores resultados das {df_knn_2.shape[0]} combinações diferentes ordenados por: rank_test_f1, rank_test_accuracy, rank_test_recall e rank_test_precision\")"
      ],
      "metadata": {
        "colab": {
          "base_uri": "https://localhost:8080/"
        },
        "id": "3m6ytuE1-QsQ",
        "outputId": "22b16026-caae-4513-dccb-a8a35d70c6cc"
      },
      "execution_count": 18,
      "outputs": [
        {
          "output_type": "stream",
          "name": "stdout",
          "text": [
            "Verificando os 5 melhores resultados das 8 combinações diferentes ordenados por: rank_test_f1, rank_test_accuracy, rank_test_recall e rank_test_precision\n"
          ]
        }
      ]
    },
    {
      "cell_type": "code",
      "source": [
        "df_knn_2.head()"
      ],
      "metadata": {
        "colab": {
          "base_uri": "https://localhost:8080/",
          "height": 250
        },
        "id": "lBg-bgrN-YfR",
        "outputId": "95c15edb-6c70-409b-9f85-ad6990e04293"
      },
      "execution_count": 19,
      "outputs": [
        {
          "output_type": "execute_result",
          "data": {
            "text/plain": [
              "                                              params  rank_test_f1  \\\n",
              "1  {'algorithm': 'auto', 'metric': 'euclidean', '...             1   \n",
              "3  {'algorithm': 'auto', 'metric': 'euclidean', '...             1   \n",
              "5  {'algorithm': 'auto', 'metric': 'euclidean', '...             3   \n",
              "7  {'algorithm': 'auto', 'metric': 'euclidean', '...             3   \n",
              "0  {'algorithm': 'auto', 'metric': 'euclidean', '...             5   \n",
              "\n",
              "   rank_test_accuracy  rank_test_recall  rank_test_precision  \\\n",
              "1                   1                 1                    1   \n",
              "3                   1                 1                    1   \n",
              "5                   3                 3                    3   \n",
              "7                   3                 3                    3   \n",
              "0                   5                 5                    5   \n",
              "\n",
              "   mean_test_accuracy  mean_test_recall  mean_test_precision  mean_test_f1  \n",
              "1            0.823150          0.701196             0.926618      0.798119  \n",
              "3            0.823150          0.701196             0.926618      0.798119  \n",
              "5            0.818019          0.696172             0.919476      0.792254  \n",
              "7            0.818019          0.696172             0.919476      0.792254  \n",
              "0            0.804177          0.693301             0.889941      0.779304  "
            ],
            "text/html": [
              "\n",
              "  <div id=\"df-37ae739d-8bf8-43bb-a800-22ba813dbd29\">\n",
              "    <div class=\"colab-df-container\">\n",
              "      <div>\n",
              "<style scoped>\n",
              "    .dataframe tbody tr th:only-of-type {\n",
              "        vertical-align: middle;\n",
              "    }\n",
              "\n",
              "    .dataframe tbody tr th {\n",
              "        vertical-align: top;\n",
              "    }\n",
              "\n",
              "    .dataframe thead th {\n",
              "        text-align: right;\n",
              "    }\n",
              "</style>\n",
              "<table border=\"1\" class=\"dataframe\">\n",
              "  <thead>\n",
              "    <tr style=\"text-align: right;\">\n",
              "      <th></th>\n",
              "      <th>params</th>\n",
              "      <th>rank_test_f1</th>\n",
              "      <th>rank_test_accuracy</th>\n",
              "      <th>rank_test_recall</th>\n",
              "      <th>rank_test_precision</th>\n",
              "      <th>mean_test_accuracy</th>\n",
              "      <th>mean_test_recall</th>\n",
              "      <th>mean_test_precision</th>\n",
              "      <th>mean_test_f1</th>\n",
              "    </tr>\n",
              "  </thead>\n",
              "  <tbody>\n",
              "    <tr>\n",
              "      <th>1</th>\n",
              "      <td>{'algorithm': 'auto', 'metric': 'euclidean', '...</td>\n",
              "      <td>1</td>\n",
              "      <td>1</td>\n",
              "      <td>1</td>\n",
              "      <td>1</td>\n",
              "      <td>0.823150</td>\n",
              "      <td>0.701196</td>\n",
              "      <td>0.926618</td>\n",
              "      <td>0.798119</td>\n",
              "    </tr>\n",
              "    <tr>\n",
              "      <th>3</th>\n",
              "      <td>{'algorithm': 'auto', 'metric': 'euclidean', '...</td>\n",
              "      <td>1</td>\n",
              "      <td>1</td>\n",
              "      <td>1</td>\n",
              "      <td>1</td>\n",
              "      <td>0.823150</td>\n",
              "      <td>0.701196</td>\n",
              "      <td>0.926618</td>\n",
              "      <td>0.798119</td>\n",
              "    </tr>\n",
              "    <tr>\n",
              "      <th>5</th>\n",
              "      <td>{'algorithm': 'auto', 'metric': 'euclidean', '...</td>\n",
              "      <td>3</td>\n",
              "      <td>3</td>\n",
              "      <td>3</td>\n",
              "      <td>3</td>\n",
              "      <td>0.818019</td>\n",
              "      <td>0.696172</td>\n",
              "      <td>0.919476</td>\n",
              "      <td>0.792254</td>\n",
              "    </tr>\n",
              "    <tr>\n",
              "      <th>7</th>\n",
              "      <td>{'algorithm': 'auto', 'metric': 'euclidean', '...</td>\n",
              "      <td>3</td>\n",
              "      <td>3</td>\n",
              "      <td>3</td>\n",
              "      <td>3</td>\n",
              "      <td>0.818019</td>\n",
              "      <td>0.696172</td>\n",
              "      <td>0.919476</td>\n",
              "      <td>0.792254</td>\n",
              "    </tr>\n",
              "    <tr>\n",
              "      <th>0</th>\n",
              "      <td>{'algorithm': 'auto', 'metric': 'euclidean', '...</td>\n",
              "      <td>5</td>\n",
              "      <td>5</td>\n",
              "      <td>5</td>\n",
              "      <td>5</td>\n",
              "      <td>0.804177</td>\n",
              "      <td>0.693301</td>\n",
              "      <td>0.889941</td>\n",
              "      <td>0.779304</td>\n",
              "    </tr>\n",
              "  </tbody>\n",
              "</table>\n",
              "</div>\n",
              "      <button class=\"colab-df-convert\" onclick=\"convertToInteractive('df-37ae739d-8bf8-43bb-a800-22ba813dbd29')\"\n",
              "              title=\"Convert this dataframe to an interactive table.\"\n",
              "              style=\"display:none;\">\n",
              "        \n",
              "  <svg xmlns=\"http://www.w3.org/2000/svg\" height=\"24px\"viewBox=\"0 0 24 24\"\n",
              "       width=\"24px\">\n",
              "    <path d=\"M0 0h24v24H0V0z\" fill=\"none\"/>\n",
              "    <path d=\"M18.56 5.44l.94 2.06.94-2.06 2.06-.94-2.06-.94-.94-2.06-.94 2.06-2.06.94zm-11 1L8.5 8.5l.94-2.06 2.06-.94-2.06-.94L8.5 2.5l-.94 2.06-2.06.94zm10 10l.94 2.06.94-2.06 2.06-.94-2.06-.94-.94-2.06-.94 2.06-2.06.94z\"/><path d=\"M17.41 7.96l-1.37-1.37c-.4-.4-.92-.59-1.43-.59-.52 0-1.04.2-1.43.59L10.3 9.45l-7.72 7.72c-.78.78-.78 2.05 0 2.83L4 21.41c.39.39.9.59 1.41.59.51 0 1.02-.2 1.41-.59l7.78-7.78 2.81-2.81c.8-.78.8-2.07 0-2.86zM5.41 20L4 18.59l7.72-7.72 1.47 1.35L5.41 20z\"/>\n",
              "  </svg>\n",
              "      </button>\n",
              "      \n",
              "  <style>\n",
              "    .colab-df-container {\n",
              "      display:flex;\n",
              "      flex-wrap:wrap;\n",
              "      gap: 12px;\n",
              "    }\n",
              "\n",
              "    .colab-df-convert {\n",
              "      background-color: #E8F0FE;\n",
              "      border: none;\n",
              "      border-radius: 50%;\n",
              "      cursor: pointer;\n",
              "      display: none;\n",
              "      fill: #1967D2;\n",
              "      height: 32px;\n",
              "      padding: 0 0 0 0;\n",
              "      width: 32px;\n",
              "    }\n",
              "\n",
              "    .colab-df-convert:hover {\n",
              "      background-color: #E2EBFA;\n",
              "      box-shadow: 0px 1px 2px rgba(60, 64, 67, 0.3), 0px 1px 3px 1px rgba(60, 64, 67, 0.15);\n",
              "      fill: #174EA6;\n",
              "    }\n",
              "\n",
              "    [theme=dark] .colab-df-convert {\n",
              "      background-color: #3B4455;\n",
              "      fill: #D2E3FC;\n",
              "    }\n",
              "\n",
              "    [theme=dark] .colab-df-convert:hover {\n",
              "      background-color: #434B5C;\n",
              "      box-shadow: 0px 1px 3px 1px rgba(0, 0, 0, 0.15);\n",
              "      filter: drop-shadow(0px 1px 2px rgba(0, 0, 0, 0.3));\n",
              "      fill: #FFFFFF;\n",
              "    }\n",
              "  </style>\n",
              "\n",
              "      <script>\n",
              "        const buttonEl =\n",
              "          document.querySelector('#df-37ae739d-8bf8-43bb-a800-22ba813dbd29 button.colab-df-convert');\n",
              "        buttonEl.style.display =\n",
              "          google.colab.kernel.accessAllowed ? 'block' : 'none';\n",
              "\n",
              "        async function convertToInteractive(key) {\n",
              "          const element = document.querySelector('#df-37ae739d-8bf8-43bb-a800-22ba813dbd29');\n",
              "          const dataTable =\n",
              "            await google.colab.kernel.invokeFunction('convertToInteractive',\n",
              "                                                     [key], {});\n",
              "          if (!dataTable) return;\n",
              "\n",
              "          const docLinkHtml = 'Like what you see? Visit the ' +\n",
              "            '<a target=\"_blank\" href=https://colab.research.google.com/notebooks/data_table.ipynb>data table notebook</a>'\n",
              "            + ' to learn more about interactive tables.';\n",
              "          element.innerHTML = '';\n",
              "          dataTable['output_type'] = 'display_data';\n",
              "          await google.colab.output.renderOutput(dataTable, element);\n",
              "          const docLink = document.createElement('div');\n",
              "          docLink.innerHTML = docLinkHtml;\n",
              "          element.appendChild(docLink);\n",
              "        }\n",
              "      </script>\n",
              "    </div>\n",
              "  </div>\n",
              "  "
            ]
          },
          "metadata": {},
          "execution_count": 19
        }
      ]
    },
    {
      "cell_type": "code",
      "source": [
        "knn_count(df = df_knn_2\n",
        "          , n_neighbors = knn_parameters['n_neighbors']\n",
        "          , weights = knn_parameters['weights']\n",
        "          , algorithm = knn_parameters['algorithm']\n",
        "          , p = knn_parameters['p']\n",
        "          , metric = knn_parameters['metric'])"
      ],
      "metadata": {
        "colab": {
          "base_uri": "https://localhost:8080/"
        },
        "id": "a57KTZsZ_DyA",
        "outputId": "acc35beb-507e-44da-c301-f7c563a29202"
      },
      "execution_count": 20,
      "outputs": [
        {
          "output_type": "execute_result",
          "data": {
            "text/plain": [
              "{'algorithm': {'auto': 8},\n",
              " 'metric': {'euclidean': 8},\n",
              " 'n_neighbors': {5: 4, 7: 4},\n",
              " 'p': {1: 4, 2: 4},\n",
              " 'weights': {'distance': 4, 'uniform': 4}}"
            ]
          },
          "metadata": {},
          "execution_count": 20
        }
      ]
    },
    {
      "cell_type": "code",
      "source": [
        "knn_best_param = df_knn_2['params'][0]"
      ],
      "metadata": {
        "id": "D0OFWt4uIPIu"
      },
      "execution_count": 21,
      "outputs": []
    },
    {
      "cell_type": "code",
      "source": [
        "algorithm   = knn_best_param['algorithm']\n",
        "metric      = knn_best_param['metric']\n",
        "n_neighbors = knn_best_param['n_neighbors']\n",
        "p           = knn_best_param['p']\n",
        "weights     = knn_best_param['weights']\n",
        "knn_best_param"
      ],
      "metadata": {
        "colab": {
          "base_uri": "https://localhost:8080/"
        },
        "id": "QIWCSMm_IUm3",
        "outputId": "635c1fe4-e4f4-4ef9-d018-71bf98e4cd54"
      },
      "execution_count": 22,
      "outputs": [
        {
          "output_type": "execute_result",
          "data": {
            "text/plain": [
              "{'algorithm': 'auto',\n",
              " 'metric': 'euclidean',\n",
              " 'n_neighbors': 5,\n",
              " 'p': 1,\n",
              " 'weights': 'uniform'}"
            ]
          },
          "metadata": {},
          "execution_count": 22
        }
      ]
    },
    {
      "cell_type": "markdown",
      "source": [
        "# Classificação com os melhores parâmetros"
      ],
      "metadata": {
        "id": "G2n9dki3JAZm"
      }
    },
    {
      "cell_type": "code",
      "source": [
        "KNN = KNeighborsClassifier(algorithm=algorithm, metric=metric, n_neighbors=n_neighbors, p=p, weights=weights)\n",
        "KNN.fit(X_train, y_train);\n",
        "y_pred = KNN.predict(X_test)"
      ],
      "metadata": {
        "id": "HMnzkKC1I_X8"
      },
      "execution_count": 23,
      "outputs": []
    },
    {
      "cell_type": "code",
      "source": [
        "print('1: Masculino\\n2: Feminino\\n',classification_report(y_test, y_pred))"
      ],
      "metadata": {
        "colab": {
          "base_uri": "https://localhost:8080/"
        },
        "id": "bTSnbCvaJxFS",
        "outputId": "057daad6-0c4b-47fb-bbbb-b4fc2f8dbef2"
      },
      "execution_count": 24,
      "outputs": [
        {
          "output_type": "stream",
          "name": "stdout",
          "text": [
            "1: Masculino\n",
            "2: Feminino\n",
            "               precision    recall  f1-score   support\n",
            "\n",
            "           1       0.92      0.74      0.82       704\n",
            "           2       0.78      0.93      0.85       692\n",
            "\n",
            "    accuracy                           0.84      1396\n",
            "   macro avg       0.85      0.84      0.84      1396\n",
            "weighted avg       0.85      0.84      0.84      1396\n",
            "\n"
          ]
        }
      ]
    },
    {
      "cell_type": "code",
      "source": [
        "cm = confusion_matrix(y_test, y_pred)\n",
        "sns.heatmap(cm, annot=True, fmt='g')"
      ],
      "metadata": {
        "colab": {
          "base_uri": "https://localhost:8080/",
          "height": 282
        },
        "id": "VxF_gM2DJx9c",
        "outputId": "8781085a-2d7a-4ed8-9268-028461fb6be9"
      },
      "execution_count": 25,
      "outputs": [
        {
          "output_type": "execute_result",
          "data": {
            "text/plain": [
              "<matplotlib.axes._subplots.AxesSubplot at 0x7fa4eb1c4550>"
            ]
          },
          "metadata": {},
          "execution_count": 25
        },
        {
          "output_type": "display_data",
          "data": {
            "text/plain": [
              "<Figure size 432x288 with 2 Axes>"
            ],
            "image/png": "[encoded data removed]"
          },
          "metadata": {
            "needs_background": "light"
          }
        }
      ]
    },
    {
      "cell_type": "markdown",
      "source": [
        "# Exportando modelo treinado"
      ],
      "metadata": {
        "id": "FWdVjQyGOJer"
      }
    },
    {
      "cell_type": "code",
      "source": [
        "path = '/content/drive/MyDrive/Mineração de Dados/IF998 - Missões SMD/Projeto/'\n",
        "with open(path+'KNN_model.pkl', 'wb') as f:\n",
        "    pickle.dump([KNN], f) "
      ],
      "metadata": {
        "id": "lDTTpBu9OLER"
      },
      "execution_count": 26,
      "outputs": []
    }
  ]
}