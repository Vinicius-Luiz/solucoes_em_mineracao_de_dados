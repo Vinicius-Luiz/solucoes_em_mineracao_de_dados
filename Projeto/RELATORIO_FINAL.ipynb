{
  "nbformat": 4,
  "nbformat_minor": 0,
  "metadata": {
    "colab": {
      "name": "PROJETO_MD_RELATORIO_FINAL.ipynb",
      "provenance": [],
      "collapsed_sections": []
    },
    "kernelspec": {
      "name": "python3",
      "display_name": "Python 3"
    },
    "language_info": {
      "name": "python"
    }
  },
  "cells": [
    {
      "cell_type": "code",
      "execution_count": null,
      "metadata": {
        "id": "cZn4NknyG13B"
      },
      "outputs": [],
      "source": [
        "import pickle\n",
        "import pandas as pd\n",
        "import seaborn as sns\n",
        "import matplotlib.pyplot as plt\n",
        "\n",
        "path = '/content/drive/MyDrive/Mineração de Dados/IF998 - Missões SMD/Projeto/'"
      ]
    },
    {
      "cell_type": "markdown",
      "source": [
        "# Importando modelo\n",
        "Vamos utilizar o classificador VotingClassifier, visto que ele obteve os melhores resultados nos testes realizados."
      ],
      "metadata": {
        "id": "GSOfVIDhH2Om"
      }
    },
    {
      "cell_type": "code",
      "source": [
        "with open(path+'VOTING_model.pkl','rb') as f:\n",
        "    voting_model = pickle.load(f)[0]"
      ],
      "metadata": {
        "id": "qNCvVc8gJNts"
      },
      "execution_count": null,
      "outputs": []
    },
    {
      "cell_type": "markdown",
      "source": [
        "# Importando base de dados\n",
        "Vamos importar a base de dados que possui somente perfis com gênero desconhecido para realizar as predições dos seus respectivos gêneros"
      ],
      "metadata": {
        "id": "KjhApArZJWp0"
      }
    },
    {
      "cell_type": "code",
      "source": [
        "df = pd.read_csv(path+'data_predict.csv')\n",
        "df.drop(columns=['Unnamed: 0', 'gender'], inplace = True)\n",
        "df.head()"
      ],
      "metadata": {
        "colab": {
          "base_uri": "https://localhost:8080/",
          "height": 206
        },
        "id": "_MZZ2cctJqgl",
        "outputId": "8fcac3a4-4296-4e47-f0f7-9eb2a9e04503"
      },
      "execution_count": null,
      "outputs": [
        {
          "output_type": "execute_result",
          "data": {
            "text/plain": [
              "   firstDay   lastDay      NEds     NDays  NActDays    NPages  NPcreated  \\\n",
              "0  0.309966  0.905316  0.094197  0.230836  0.884603  0.009702  -0.122675   \n",
              "1 -0.827711 -0.788145 -0.236891  0.569913 -0.417553 -0.168245  -0.146215   \n",
              "2  0.890181 -1.383145 -0.253189 -1.516946 -0.471029 -0.201628  -0.142852   \n",
              "3  0.315654  0.344643 -0.239971 -0.055845 -0.382793 -0.192984  -0.146215   \n",
              "4  0.045456 -0.238914 -0.250109 -0.215279 -0.388141 -0.195369  -0.146215   \n",
              "\n",
              "   pagesWomen  wikiprojWomen   ns_user  ns_wikipedia   ns_talk  ns_userTalk  \\\n",
              "0   -0.082393      -0.024674  0.104014      0.311440  0.617321     1.009083   \n",
              "1   -0.082393      -0.024674 -0.196334     -0.114795 -0.208544    -0.132268   \n",
              "2   -0.082393      -0.024674 -0.261274     -0.132629 -0.213183    -0.165297   \n",
              "3   -0.082393      -0.024674 -0.155746     -0.132629 -0.073993    -0.124928   \n",
              "4   -0.082393      -0.024674 -0.167922     -0.132629 -0.231742    -0.176307   \n",
              "\n",
              "   ns_content  \n",
              "0    0.000675  \n",
              "1   -0.231191  \n",
              "2   -0.243489  \n",
              "3   -0.239718  \n",
              "4   -0.244637  "
            ],
            "text/html": [
              "\n",
              "  <div id=\"df-b4f65183-b325-4dd4-9ad7-4e9409e16c2c\">\n",
              "    <div class=\"colab-df-container\">\n",
              "      <div>\n",
              "<style scoped>\n",
              "    .dataframe tbody tr th:only-of-type {\n",
              "        vertical-align: middle;\n",
              "    }\n",
              "\n",
              "    .dataframe tbody tr th {\n",
              "        vertical-align: top;\n",
              "    }\n",
              "\n",
              "    .dataframe thead th {\n",
              "        text-align: right;\n",
              "    }\n",
              "</style>\n",
              "<table border=\"1\" class=\"dataframe\">\n",
              "  <thead>\n",
              "    <tr style=\"text-align: right;\">\n",
              "      <th></th>\n",
              "      <th>firstDay</th>\n",
              "      <th>lastDay</th>\n",
              "      <th>NEds</th>\n",
              "      <th>NDays</th>\n",
              "      <th>NActDays</th>\n",
              "      <th>NPages</th>\n",
              "      <th>NPcreated</th>\n",
              "      <th>pagesWomen</th>\n",
              "      <th>wikiprojWomen</th>\n",
              "      <th>ns_user</th>\n",
              "      <th>ns_wikipedia</th>\n",
              "      <th>ns_talk</th>\n",
              "      <th>ns_userTalk</th>\n",
              "      <th>ns_content</th>\n",
              "    </tr>\n",
              "  </thead>\n",
              "  <tbody>\n",
              "    <tr>\n",
              "      <th>0</th>\n",
              "      <td>0.309966</td>\n",
              "      <td>0.905316</td>\n",
              "      <td>0.094197</td>\n",
              "      <td>0.230836</td>\n",
              "      <td>0.884603</td>\n",
              "      <td>0.009702</td>\n",
              "      <td>-0.122675</td>\n",
              "      <td>-0.082393</td>\n",
              "      <td>-0.024674</td>\n",
              "      <td>0.104014</td>\n",
              "      <td>0.311440</td>\n",
              "      <td>0.617321</td>\n",
              "      <td>1.009083</td>\n",
              "      <td>0.000675</td>\n",
              "    </tr>\n",
              "    <tr>\n",
              "      <th>1</th>\n",
              "      <td>-0.827711</td>\n",
              "      <td>-0.788145</td>\n",
              "      <td>-0.236891</td>\n",
              "      <td>0.569913</td>\n",
              "      <td>-0.417553</td>\n",
              "      <td>-0.168245</td>\n",
              "      <td>-0.146215</td>\n",
              "      <td>-0.082393</td>\n",
              "      <td>-0.024674</td>\n",
              "      <td>-0.196334</td>\n",
              "      <td>-0.114795</td>\n",
              "      <td>-0.208544</td>\n",
              "      <td>-0.132268</td>\n",
              "      <td>-0.231191</td>\n",
              "    </tr>\n",
              "    <tr>\n",
              "      <th>2</th>\n",
              "      <td>0.890181</td>\n",
              "      <td>-1.383145</td>\n",
              "      <td>-0.253189</td>\n",
              "      <td>-1.516946</td>\n",
              "      <td>-0.471029</td>\n",
              "      <td>-0.201628</td>\n",
              "      <td>-0.142852</td>\n",
              "      <td>-0.082393</td>\n",
              "      <td>-0.024674</td>\n",
              "      <td>-0.261274</td>\n",
              "      <td>-0.132629</td>\n",
              "      <td>-0.213183</td>\n",
              "      <td>-0.165297</td>\n",
              "      <td>-0.243489</td>\n",
              "    </tr>\n",
              "    <tr>\n",
              "      <th>3</th>\n",
              "      <td>0.315654</td>\n",
              "      <td>0.344643</td>\n",
              "      <td>-0.239971</td>\n",
              "      <td>-0.055845</td>\n",
              "      <td>-0.382793</td>\n",
              "      <td>-0.192984</td>\n",
              "      <td>-0.146215</td>\n",
              "      <td>-0.082393</td>\n",
              "      <td>-0.024674</td>\n",
              "      <td>-0.155746</td>\n",
              "      <td>-0.132629</td>\n",
              "      <td>-0.073993</td>\n",
              "      <td>-0.124928</td>\n",
              "      <td>-0.239718</td>\n",
              "    </tr>\n",
              "    <tr>\n",
              "      <th>4</th>\n",
              "      <td>0.045456</td>\n",
              "      <td>-0.238914</td>\n",
              "      <td>-0.250109</td>\n",
              "      <td>-0.215279</td>\n",
              "      <td>-0.388141</td>\n",
              "      <td>-0.195369</td>\n",
              "      <td>-0.146215</td>\n",
              "      <td>-0.082393</td>\n",
              "      <td>-0.024674</td>\n",
              "      <td>-0.167922</td>\n",
              "      <td>-0.132629</td>\n",
              "      <td>-0.231742</td>\n",
              "      <td>-0.176307</td>\n",
              "      <td>-0.244637</td>\n",
              "    </tr>\n",
              "  </tbody>\n",
              "</table>\n",
              "</div>\n",
              "      <button class=\"colab-df-convert\" onclick=\"convertToInteractive('df-b4f65183-b325-4dd4-9ad7-4e9409e16c2c')\"\n",
              "              title=\"Convert this dataframe to an interactive table.\"\n",
              "              style=\"display:none;\">\n",
              "        \n",
              "  <svg xmlns=\"http://www.w3.org/2000/svg\" height=\"24px\"viewBox=\"0 0 24 24\"\n",
              "       width=\"24px\">\n",
              "    <path d=\"M0 0h24v24H0V0z\" fill=\"none\"/>\n",
              "    <path d=\"M18.56 5.44l.94 2.06.94-2.06 2.06-.94-2.06-.94-.94-2.06-.94 2.06-2.06.94zm-11 1L8.5 8.5l.94-2.06 2.06-.94-2.06-.94L8.5 2.5l-.94 2.06-2.06.94zm10 10l.94 2.06.94-2.06 2.06-.94-2.06-.94-.94-2.06-.94 2.06-2.06.94z\"/><path d=\"M17.41 7.96l-1.37-1.37c-.4-.4-.92-.59-1.43-.59-.52 0-1.04.2-1.43.59L10.3 9.45l-7.72 7.72c-.78.78-.78 2.05 0 2.83L4 21.41c.39.39.9.59 1.41.59.51 0 1.02-.2 1.41-.59l7.78-7.78 2.81-2.81c.8-.78.8-2.07 0-2.86zM5.41 20L4 18.59l7.72-7.72 1.47 1.35L5.41 20z\"/>\n",
              "  </svg>\n",
              "      </button>\n",
              "      \n",
              "  <style>\n",
              "    .colab-df-container {\n",
              "      display:flex;\n",
              "      flex-wrap:wrap;\n",
              "      gap: 12px;\n",
              "    }\n",
              "\n",
              "    .colab-df-convert {\n",
              "      background-color: #E8F0FE;\n",
              "      border: none;\n",
              "      border-radius: 50%;\n",
              "      cursor: pointer;\n",
              "      display: none;\n",
              "      fill: #1967D2;\n",
              "      height: 32px;\n",
              "      padding: 0 0 0 0;\n",
              "      width: 32px;\n",
              "    }\n",
              "\n",
              "    .colab-df-convert:hover {\n",
              "      background-color: #E2EBFA;\n",
              "      box-shadow: 0px 1px 2px rgba(60, 64, 67, 0.3), 0px 1px 3px 1px rgba(60, 64, 67, 0.15);\n",
              "      fill: #174EA6;\n",
              "    }\n",
              "\n",
              "    [theme=dark] .colab-df-convert {\n",
              "      background-color: #3B4455;\n",
              "      fill: #D2E3FC;\n",
              "    }\n",
              "\n",
              "    [theme=dark] .colab-df-convert:hover {\n",
              "      background-color: #434B5C;\n",
              "      box-shadow: 0px 1px 3px 1px rgba(0, 0, 0, 0.15);\n",
              "      filter: drop-shadow(0px 1px 2px rgba(0, 0, 0, 0.3));\n",
              "      fill: #FFFFFF;\n",
              "    }\n",
              "  </style>\n",
              "\n",
              "      <script>\n",
              "        const buttonEl =\n",
              "          document.querySelector('#df-b4f65183-b325-4dd4-9ad7-4e9409e16c2c button.colab-df-convert');\n",
              "        buttonEl.style.display =\n",
              "          google.colab.kernel.accessAllowed ? 'block' : 'none';\n",
              "\n",
              "        async function convertToInteractive(key) {\n",
              "          const element = document.querySelector('#df-b4f65183-b325-4dd4-9ad7-4e9409e16c2c');\n",
              "          const dataTable =\n",
              "            await google.colab.kernel.invokeFunction('convertToInteractive',\n",
              "                                                     [key], {});\n",
              "          if (!dataTable) return;\n",
              "\n",
              "          const docLinkHtml = 'Like what you see? Visit the ' +\n",
              "            '<a target=\"_blank\" href=https://colab.research.google.com/notebooks/data_table.ipynb>data table notebook</a>'\n",
              "            + ' to learn more about interactive tables.';\n",
              "          element.innerHTML = '';\n",
              "          dataTable['output_type'] = 'display_data';\n",
              "          await google.colab.output.renderOutput(dataTable, element);\n",
              "          const docLink = document.createElement('div');\n",
              "          docLink.innerHTML = docLinkHtml;\n",
              "          element.appendChild(docLink);\n",
              "        }\n",
              "      </script>\n",
              "    </div>\n",
              "  </div>\n",
              "  "
            ]
          },
          "metadata": {},
          "execution_count": 3
        }
      ]
    },
    {
      "cell_type": "code",
      "source": [
        "pred = voting_model.predict(df)\n",
        "pred"
      ],
      "metadata": {
        "colab": {
          "base_uri": "https://localhost:8080/"
        },
        "id": "S9g3fGepNqZU",
        "outputId": "f49de413-a447-466d-b8d9-e4590ffb4a4f"
      },
      "execution_count": null,
      "outputs": [
        {
          "output_type": "execute_result",
          "data": {
            "text/plain": [
              "array([1, 1, 2, ..., 1, 1, 1])"
            ]
          },
          "metadata": {},
          "execution_count": 6
        }
      ]
    },
    {
      "cell_type": "code",
      "source": [
        "df_pred = pd.DataFrame(data=pred, columns = ['gender_ml'])\n",
        "df_final = pd.concat([df, df_pred], axis=1)"
      ],
      "metadata": {
        "id": "oG5wI8sSQU8u"
      },
      "execution_count": null,
      "outputs": []
    },
    {
      "cell_type": "code",
      "source": [
        "df_final.head()"
      ],
      "metadata": {
        "colab": {
          "base_uri": "https://localhost:8080/",
          "height": 206
        },
        "id": "Z6fTDUReOsHA",
        "outputId": "9f6779fc-fd84-4416-e460-7125c8f9c310"
      },
      "execution_count": null,
      "outputs": [
        {
          "output_type": "execute_result",
          "data": {
            "text/plain": [
              "   firstDay   lastDay      NEds     NDays  NActDays    NPages  NPcreated  \\\n",
              "0  0.309966  0.905316  0.094197  0.230836  0.884603  0.009702  -0.122675   \n",
              "1 -0.827711 -0.788145 -0.236891  0.569913 -0.417553 -0.168245  -0.146215   \n",
              "2  0.890181 -1.383145 -0.253189 -1.516946 -0.471029 -0.201628  -0.142852   \n",
              "3  0.315654  0.344643 -0.239971 -0.055845 -0.382793 -0.192984  -0.146215   \n",
              "4  0.045456 -0.238914 -0.250109 -0.215279 -0.388141 -0.195369  -0.146215   \n",
              "\n",
              "   pagesWomen  wikiprojWomen   ns_user  ns_wikipedia   ns_talk  ns_userTalk  \\\n",
              "0   -0.082393      -0.024674  0.104014      0.311440  0.617321     1.009083   \n",
              "1   -0.082393      -0.024674 -0.196334     -0.114795 -0.208544    -0.132268   \n",
              "2   -0.082393      -0.024674 -0.261274     -0.132629 -0.213183    -0.165297   \n",
              "3   -0.082393      -0.024674 -0.155746     -0.132629 -0.073993    -0.124928   \n",
              "4   -0.082393      -0.024674 -0.167922     -0.132629 -0.231742    -0.176307   \n",
              "\n",
              "   ns_content  gender_ml  \n",
              "0    0.000675          1  \n",
              "1   -0.231191          1  \n",
              "2   -0.243489          2  \n",
              "3   -0.239718          1  \n",
              "4   -0.244637          1  "
            ],
            "text/html": [
              "\n",
              "  <div id=\"df-881ce7b2-e679-49da-b190-41bf68bdc216\">\n",
              "    <div class=\"colab-df-container\">\n",
              "      <div>\n",
              "<style scoped>\n",
              "    .dataframe tbody tr th:only-of-type {\n",
              "        vertical-align: middle;\n",
              "    }\n",
              "\n",
              "    .dataframe tbody tr th {\n",
              "        vertical-align: top;\n",
              "    }\n",
              "\n",
              "    .dataframe thead th {\n",
              "        text-align: right;\n",
              "    }\n",
              "</style>\n",
              "<table border=\"1\" class=\"dataframe\">\n",
              "  <thead>\n",
              "    <tr style=\"text-align: right;\">\n",
              "      <th></th>\n",
              "      <th>firstDay</th>\n",
              "      <th>lastDay</th>\n",
              "      <th>NEds</th>\n",
              "      <th>NDays</th>\n",
              "      <th>NActDays</th>\n",
              "      <th>NPages</th>\n",
              "      <th>NPcreated</th>\n",
              "      <th>pagesWomen</th>\n",
              "      <th>wikiprojWomen</th>\n",
              "      <th>ns_user</th>\n",
              "      <th>ns_wikipedia</th>\n",
              "      <th>ns_talk</th>\n",
              "      <th>ns_userTalk</th>\n",
              "      <th>ns_content</th>\n",
              "      <th>gender_ml</th>\n",
              "    </tr>\n",
              "  </thead>\n",
              "  <tbody>\n",
              "    <tr>\n",
              "      <th>0</th>\n",
              "      <td>0.309966</td>\n",
              "      <td>0.905316</td>\n",
              "      <td>0.094197</td>\n",
              "      <td>0.230836</td>\n",
              "      <td>0.884603</td>\n",
              "      <td>0.009702</td>\n",
              "      <td>-0.122675</td>\n",
              "      <td>-0.082393</td>\n",
              "      <td>-0.024674</td>\n",
              "      <td>0.104014</td>\n",
              "      <td>0.311440</td>\n",
              "      <td>0.617321</td>\n",
              "      <td>1.009083</td>\n",
              "      <td>0.000675</td>\n",
              "      <td>1</td>\n",
              "    </tr>\n",
              "    <tr>\n",
              "      <th>1</th>\n",
              "      <td>-0.827711</td>\n",
              "      <td>-0.788145</td>\n",
              "      <td>-0.236891</td>\n",
              "      <td>0.569913</td>\n",
              "      <td>-0.417553</td>\n",
              "      <td>-0.168245</td>\n",
              "      <td>-0.146215</td>\n",
              "      <td>-0.082393</td>\n",
              "      <td>-0.024674</td>\n",
              "      <td>-0.196334</td>\n",
              "      <td>-0.114795</td>\n",
              "      <td>-0.208544</td>\n",
              "      <td>-0.132268</td>\n",
              "      <td>-0.231191</td>\n",
              "      <td>1</td>\n",
              "    </tr>\n",
              "    <tr>\n",
              "      <th>2</th>\n",
              "      <td>0.890181</td>\n",
              "      <td>-1.383145</td>\n",
              "      <td>-0.253189</td>\n",
              "      <td>-1.516946</td>\n",
              "      <td>-0.471029</td>\n",
              "      <td>-0.201628</td>\n",
              "      <td>-0.142852</td>\n",
              "      <td>-0.082393</td>\n",
              "      <td>-0.024674</td>\n",
              "      <td>-0.261274</td>\n",
              "      <td>-0.132629</td>\n",
              "      <td>-0.213183</td>\n",
              "      <td>-0.165297</td>\n",
              "      <td>-0.243489</td>\n",
              "      <td>2</td>\n",
              "    </tr>\n",
              "    <tr>\n",
              "      <th>3</th>\n",
              "      <td>0.315654</td>\n",
              "      <td>0.344643</td>\n",
              "      <td>-0.239971</td>\n",
              "      <td>-0.055845</td>\n",
              "      <td>-0.382793</td>\n",
              "      <td>-0.192984</td>\n",
              "      <td>-0.146215</td>\n",
              "      <td>-0.082393</td>\n",
              "      <td>-0.024674</td>\n",
              "      <td>-0.155746</td>\n",
              "      <td>-0.132629</td>\n",
              "      <td>-0.073993</td>\n",
              "      <td>-0.124928</td>\n",
              "      <td>-0.239718</td>\n",
              "      <td>1</td>\n",
              "    </tr>\n",
              "    <tr>\n",
              "      <th>4</th>\n",
              "      <td>0.045456</td>\n",
              "      <td>-0.238914</td>\n",
              "      <td>-0.250109</td>\n",
              "      <td>-0.215279</td>\n",
              "      <td>-0.388141</td>\n",
              "      <td>-0.195369</td>\n",
              "      <td>-0.146215</td>\n",
              "      <td>-0.082393</td>\n",
              "      <td>-0.024674</td>\n",
              "      <td>-0.167922</td>\n",
              "      <td>-0.132629</td>\n",
              "      <td>-0.231742</td>\n",
              "      <td>-0.176307</td>\n",
              "      <td>-0.244637</td>\n",
              "      <td>1</td>\n",
              "    </tr>\n",
              "  </tbody>\n",
              "</table>\n",
              "</div>\n",
              "      <button class=\"colab-df-convert\" onclick=\"convertToInteractive('df-881ce7b2-e679-49da-b190-41bf68bdc216')\"\n",
              "              title=\"Convert this dataframe to an interactive table.\"\n",
              "              style=\"display:none;\">\n",
              "        \n",
              "  <svg xmlns=\"http://www.w3.org/2000/svg\" height=\"24px\"viewBox=\"0 0 24 24\"\n",
              "       width=\"24px\">\n",
              "    <path d=\"M0 0h24v24H0V0z\" fill=\"none\"/>\n",
              "    <path d=\"M18.56 5.44l.94 2.06.94-2.06 2.06-.94-2.06-.94-.94-2.06-.94 2.06-2.06.94zm-11 1L8.5 8.5l.94-2.06 2.06-.94-2.06-.94L8.5 2.5l-.94 2.06-2.06.94zm10 10l.94 2.06.94-2.06 2.06-.94-2.06-.94-.94-2.06-.94 2.06-2.06.94z\"/><path d=\"M17.41 7.96l-1.37-1.37c-.4-.4-.92-.59-1.43-.59-.52 0-1.04.2-1.43.59L10.3 9.45l-7.72 7.72c-.78.78-.78 2.05 0 2.83L4 21.41c.39.39.9.59 1.41.59.51 0 1.02-.2 1.41-.59l7.78-7.78 2.81-2.81c.8-.78.8-2.07 0-2.86zM5.41 20L4 18.59l7.72-7.72 1.47 1.35L5.41 20z\"/>\n",
              "  </svg>\n",
              "      </button>\n",
              "      \n",
              "  <style>\n",
              "    .colab-df-container {\n",
              "      display:flex;\n",
              "      flex-wrap:wrap;\n",
              "      gap: 12px;\n",
              "    }\n",
              "\n",
              "    .colab-df-convert {\n",
              "      background-color: #E8F0FE;\n",
              "      border: none;\n",
              "      border-radius: 50%;\n",
              "      cursor: pointer;\n",
              "      display: none;\n",
              "      fill: #1967D2;\n",
              "      height: 32px;\n",
              "      padding: 0 0 0 0;\n",
              "      width: 32px;\n",
              "    }\n",
              "\n",
              "    .colab-df-convert:hover {\n",
              "      background-color: #E2EBFA;\n",
              "      box-shadow: 0px 1px 2px rgba(60, 64, 67, 0.3), 0px 1px 3px 1px rgba(60, 64, 67, 0.15);\n",
              "      fill: #174EA6;\n",
              "    }\n",
              "\n",
              "    [theme=dark] .colab-df-convert {\n",
              "      background-color: #3B4455;\n",
              "      fill: #D2E3FC;\n",
              "    }\n",
              "\n",
              "    [theme=dark] .colab-df-convert:hover {\n",
              "      background-color: #434B5C;\n",
              "      box-shadow: 0px 1px 3px 1px rgba(0, 0, 0, 0.15);\n",
              "      filter: drop-shadow(0px 1px 2px rgba(0, 0, 0, 0.3));\n",
              "      fill: #FFFFFF;\n",
              "    }\n",
              "  </style>\n",
              "\n",
              "      <script>\n",
              "        const buttonEl =\n",
              "          document.querySelector('#df-881ce7b2-e679-49da-b190-41bf68bdc216 button.colab-df-convert');\n",
              "        buttonEl.style.display =\n",
              "          google.colab.kernel.accessAllowed ? 'block' : 'none';\n",
              "\n",
              "        async function convertToInteractive(key) {\n",
              "          const element = document.querySelector('#df-881ce7b2-e679-49da-b190-41bf68bdc216');\n",
              "          const dataTable =\n",
              "            await google.colab.kernel.invokeFunction('convertToInteractive',\n",
              "                                                     [key], {});\n",
              "          if (!dataTable) return;\n",
              "\n",
              "          const docLinkHtml = 'Like what you see? Visit the ' +\n",
              "            '<a target=\"_blank\" href=https://colab.research.google.com/notebooks/data_table.ipynb>data table notebook</a>'\n",
              "            + ' to learn more about interactive tables.';\n",
              "          element.innerHTML = '';\n",
              "          dataTable['output_type'] = 'display_data';\n",
              "          await google.colab.output.renderOutput(dataTable, element);\n",
              "          const docLink = document.createElement('div');\n",
              "          docLink.innerHTML = docLinkHtml;\n",
              "          element.appendChild(docLink);\n",
              "        }\n",
              "      </script>\n",
              "    </div>\n",
              "  </div>\n",
              "  "
            ]
          },
          "metadata": {},
          "execution_count": 8
        }
      ]
    },
    {
      "cell_type": "markdown",
      "source": [
        "# Análise dos resultados"
      ],
      "metadata": {
        "id": "HtWXbrUIQ628"
      }
    },
    {
      "cell_type": "code",
      "source": [
        "attr_previsores = ['firstDay','lastDay','NEds','NDays','NActDays','NPages','NPcreated','pagesWomen','wikiprojWomen','ns_user','ns_wikipedia','ns_talk','ns_userTalk','ns_content']"
      ],
      "metadata": {
        "id": "NwJAmMUuecoU"
      },
      "execution_count": null,
      "outputs": []
    },
    {
      "cell_type": "code",
      "source": [
        "\n",
        "df_male   = df_final[df_final['gender_ml'] == 1]\n",
        "df_female = df_final[df_final['gender_ml'] == 2]\n",
        "\n",
        "df       = df_final[attr_previsores]\n",
        "class_df = df_final[['gender_ml']]"
      ],
      "metadata": {
        "id": "2Uet26-BQ8Yp"
      },
      "execution_count": null,
      "outputs": []
    },
    {
      "cell_type": "markdown",
      "source": [
        "## Contagem de instâncias por classe"
      ],
      "metadata": {
        "id": "eBBfRRMuREn3"
      }
    },
    {
      "cell_type": "code",
      "source": [
        "femaleCount, maleCount = df_female['gender_ml'].count(), df_male['gender_ml'].count()\n",
        "data = [femaleCount, maleCount]\n",
        "labels = [f'Feminino ({femaleCount})', f'Masculino ({maleCount})']\n",
        "colors= ['#A93226', '#2471A3']\n",
        " \n",
        "fig = plt.figure(figsize=(10, 10))\n",
        "patches, texts = plt.pie(data, labels=labels, colors=colors)\n",
        "\n",
        "plt.tight_layout()\n",
        "plt.show()"
      ],
      "metadata": {
        "colab": {
          "base_uri": "https://localhost:8080/",
          "height": 712
        },
        "id": "2iKbok-5RJPw",
        "outputId": "08a3a8d6-4c39-435d-91de-fedb7ccecba3"
      },
      "execution_count": null,
      "outputs": [
        {
          "output_type": "display_data",
          "data": {
            "text/plain": [
              "<Figure size 720x720 with 1 Axes>"
            ],
            "image/png": "[encoded data removed]"
          },
          "metadata": {}
        }
      ]
    },
    {
      "cell_type": "markdown",
      "source": [
        "# Aplicação de PCA (principal component analysis) e visualização dos resultados"
      ],
      "metadata": {
        "id": "JIutib0QVnwc"
      }
    },
    {
      "cell_type": "code",
      "source": [
        "from sklearn.decomposition import PCA\n",
        "\n",
        "pca = PCA(n_components=2)\n",
        "principal_comp = pca.fit_transform(df)\n",
        "principal_comp"
      ],
      "metadata": {
        "colab": {
          "base_uri": "https://localhost:8080/"
        },
        "id": "a7Vo0_6STF40",
        "outputId": "04d8af31-e59e-4049-d61a-8391a42d077a"
      },
      "execution_count": null,
      "outputs": [
        {
          "output_type": "execute_result",
          "data": {
            "text/plain": [
              "array([[ 1.12669479,  0.58829589],\n",
              "       [-0.20177374, -1.11112978],\n",
              "       [-1.49568472,  1.21235723],\n",
              "       ...,\n",
              "       [-0.50044812, -0.90539037],\n",
              "       [-0.44109386,  0.1753395 ],\n",
              "       [ 0.15418401,  0.3168795 ]])"
            ]
          },
          "metadata": {},
          "execution_count": 13
        }
      ]
    },
    {
      "cell_type": "code",
      "source": [
        "pca_df = pd.DataFrame(data = principal_comp, columns = ['PCA1','PCA2'])"
      ],
      "metadata": {
        "id": "kL-wnuVZT28G"
      },
      "execution_count": null,
      "outputs": []
    },
    {
      "cell_type": "code",
      "source": [
        "pca_df = pd.concat([pca_df, class_df], axis=1)\n",
        "pca_df.head()"
      ],
      "metadata": {
        "colab": {
          "base_uri": "https://localhost:8080/",
          "height": 206
        },
        "id": "tgNVzpOVT6DD",
        "outputId": "46514cb7-687e-40e3-dd76-f80ef49b07b4"
      },
      "execution_count": null,
      "outputs": [
        {
          "output_type": "execute_result",
          "data": {
            "text/plain": [
              "       PCA1      PCA2  gender_ml\n",
              "0  1.126695  0.588296          1\n",
              "1 -0.201774 -1.111130          1\n",
              "2 -1.495685  1.212357          2\n",
              "3 -0.464853  0.172327          1\n",
              "4 -0.609340 -0.000168          1"
            ],
            "text/html": [
              "\n",
              "  <div id=\"df-6ca7b576-954f-4c83-bb3c-1d2bf9ea567c\">\n",
              "    <div class=\"colab-df-container\">\n",
              "      <div>\n",
              "<style scoped>\n",
              "    .dataframe tbody tr th:only-of-type {\n",
              "        vertical-align: middle;\n",
              "    }\n",
              "\n",
              "    .dataframe tbody tr th {\n",
              "        vertical-align: top;\n",
              "    }\n",
              "\n",
              "    .dataframe thead th {\n",
              "        text-align: right;\n",
              "    }\n",
              "</style>\n",
              "<table border=\"1\" class=\"dataframe\">\n",
              "  <thead>\n",
              "    <tr style=\"text-align: right;\">\n",
              "      <th></th>\n",
              "      <th>PCA1</th>\n",
              "      <th>PCA2</th>\n",
              "      <th>gender_ml</th>\n",
              "    </tr>\n",
              "  </thead>\n",
              "  <tbody>\n",
              "    <tr>\n",
              "      <th>0</th>\n",
              "      <td>1.126695</td>\n",
              "      <td>0.588296</td>\n",
              "      <td>1</td>\n",
              "    </tr>\n",
              "    <tr>\n",
              "      <th>1</th>\n",
              "      <td>-0.201774</td>\n",
              "      <td>-1.111130</td>\n",
              "      <td>1</td>\n",
              "    </tr>\n",
              "    <tr>\n",
              "      <th>2</th>\n",
              "      <td>-1.495685</td>\n",
              "      <td>1.212357</td>\n",
              "      <td>2</td>\n",
              "    </tr>\n",
              "    <tr>\n",
              "      <th>3</th>\n",
              "      <td>-0.464853</td>\n",
              "      <td>0.172327</td>\n",
              "      <td>1</td>\n",
              "    </tr>\n",
              "    <tr>\n",
              "      <th>4</th>\n",
              "      <td>-0.609340</td>\n",
              "      <td>-0.000168</td>\n",
              "      <td>1</td>\n",
              "    </tr>\n",
              "  </tbody>\n",
              "</table>\n",
              "</div>\n",
              "      <button class=\"colab-df-convert\" onclick=\"convertToInteractive('df-6ca7b576-954f-4c83-bb3c-1d2bf9ea567c')\"\n",
              "              title=\"Convert this dataframe to an interactive table.\"\n",
              "              style=\"display:none;\">\n",
              "        \n",
              "  <svg xmlns=\"http://www.w3.org/2000/svg\" height=\"24px\"viewBox=\"0 0 24 24\"\n",
              "       width=\"24px\">\n",
              "    <path d=\"M0 0h24v24H0V0z\" fill=\"none\"/>\n",
              "    <path d=\"M18.56 5.44l.94 2.06.94-2.06 2.06-.94-2.06-.94-.94-2.06-.94 2.06-2.06.94zm-11 1L8.5 8.5l.94-2.06 2.06-.94-2.06-.94L8.5 2.5l-.94 2.06-2.06.94zm10 10l.94 2.06.94-2.06 2.06-.94-2.06-.94-.94-2.06-.94 2.06-2.06.94z\"/><path d=\"M17.41 7.96l-1.37-1.37c-.4-.4-.92-.59-1.43-.59-.52 0-1.04.2-1.43.59L10.3 9.45l-7.72 7.72c-.78.78-.78 2.05 0 2.83L4 21.41c.39.39.9.59 1.41.59.51 0 1.02-.2 1.41-.59l7.78-7.78 2.81-2.81c.8-.78.8-2.07 0-2.86zM5.41 20L4 18.59l7.72-7.72 1.47 1.35L5.41 20z\"/>\n",
              "  </svg>\n",
              "      </button>\n",
              "      \n",
              "  <style>\n",
              "    .colab-df-container {\n",
              "      display:flex;\n",
              "      flex-wrap:wrap;\n",
              "      gap: 12px;\n",
              "    }\n",
              "\n",
              "    .colab-df-convert {\n",
              "      background-color: #E8F0FE;\n",
              "      border: none;\n",
              "      border-radius: 50%;\n",
              "      cursor: pointer;\n",
              "      display: none;\n",
              "      fill: #1967D2;\n",
              "      height: 32px;\n",
              "      padding: 0 0 0 0;\n",
              "      width: 32px;\n",
              "    }\n",
              "\n",
              "    .colab-df-convert:hover {\n",
              "      background-color: #E2EBFA;\n",
              "      box-shadow: 0px 1px 2px rgba(60, 64, 67, 0.3), 0px 1px 3px 1px rgba(60, 64, 67, 0.15);\n",
              "      fill: #174EA6;\n",
              "    }\n",
              "\n",
              "    [theme=dark] .colab-df-convert {\n",
              "      background-color: #3B4455;\n",
              "      fill: #D2E3FC;\n",
              "    }\n",
              "\n",
              "    [theme=dark] .colab-df-convert:hover {\n",
              "      background-color: #434B5C;\n",
              "      box-shadow: 0px 1px 3px 1px rgba(0, 0, 0, 0.15);\n",
              "      filter: drop-shadow(0px 1px 2px rgba(0, 0, 0, 0.3));\n",
              "      fill: #FFFFFF;\n",
              "    }\n",
              "  </style>\n",
              "\n",
              "      <script>\n",
              "        const buttonEl =\n",
              "          document.querySelector('#df-6ca7b576-954f-4c83-bb3c-1d2bf9ea567c button.colab-df-convert');\n",
              "        buttonEl.style.display =\n",
              "          google.colab.kernel.accessAllowed ? 'block' : 'none';\n",
              "\n",
              "        async function convertToInteractive(key) {\n",
              "          const element = document.querySelector('#df-6ca7b576-954f-4c83-bb3c-1d2bf9ea567c');\n",
              "          const dataTable =\n",
              "            await google.colab.kernel.invokeFunction('convertToInteractive',\n",
              "                                                     [key], {});\n",
              "          if (!dataTable) return;\n",
              "\n",
              "          const docLinkHtml = 'Like what you see? Visit the ' +\n",
              "            '<a target=\"_blank\" href=https://colab.research.google.com/notebooks/data_table.ipynb>data table notebook</a>'\n",
              "            + ' to learn more about interactive tables.';\n",
              "          element.innerHTML = '';\n",
              "          dataTable['output_type'] = 'display_data';\n",
              "          await google.colab.output.renderOutput(dataTable, element);\n",
              "          const docLink = document.createElement('div');\n",
              "          docLink.innerHTML = docLinkHtml;\n",
              "          element.appendChild(docLink);\n",
              "        }\n",
              "      </script>\n",
              "    </div>\n",
              "  </div>\n",
              "  "
            ]
          },
          "metadata": {},
          "execution_count": 15
        }
      ]
    },
    {
      "cell_type": "code",
      "source": [
        "plt.figure(figsize=(15,10))\n",
        "sns.scatterplot(x = 'PCA1', y = 'PCA2', hue = 'gender_ml', data = pca_df, palette = ['blue','red'])"
      ],
      "metadata": {
        "colab": {
          "base_uri": "https://localhost:8080/",
          "height": 623
        },
        "id": "q_cwpF2YT9VQ",
        "outputId": "dcfbc55f-87a1-450b-9172-007443044495"
      },
      "execution_count": null,
      "outputs": [
        {
          "output_type": "execute_result",
          "data": {
            "text/plain": [
              "<matplotlib.axes._subplots.AxesSubplot at 0x7fafb75b6f50>"
            ]
          },
          "metadata": {},
          "execution_count": 16
        },
        {
          "output_type": "display_data",
          "data": {
            "text/plain": [
              "<Figure size 1440x720 with 1 Axes>"
            ],
            "image/png": "[encoded data removed]"
          },
          "metadata": {
            "needs_background": "light"
          }
        }
      ]
    }
  ]
}