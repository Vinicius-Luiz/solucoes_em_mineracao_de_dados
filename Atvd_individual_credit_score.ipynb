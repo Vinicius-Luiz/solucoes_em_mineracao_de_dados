{
  "cells": [
    {
      "cell_type": "code",
      "execution_count": 1,
      "metadata": {
        "id": "OmV2E6IaenPY"
      },
      "outputs": [],
      "source": [
        "#1. Definicao das bibliotecas\n",
        "%%capture\n",
        "!pip install neupy\n",
        "!pip install tensorflow\n",
        "from sklearn.model_selection import RepeatedStratifiedKFold\n",
        "from sklearn.model_selection import RandomizedSearchCV\n",
        "from sklearn.model_selection import train_test_split\n",
        "from sklearn.model_selection import cross_val_score\n",
        "from sklearn.model_selection import StratifiedKFold\n",
        "from sklearn.ensemble import RandomForestClassifier\n",
        "from sklearn.neighbors import KNeighborsClassifier\n",
        "from sklearn.metrics import classification_report\n",
        "from sklearn.neural_network import MLPClassifier\n",
        "from sklearn.tree import DecisionTreeClassifier\n",
        "from sklearn.preprocessing import OneHotEncoder\n",
        "from sklearn.ensemble import BaggingClassifier\n",
        "from sklearn.metrics import confusion_matrix\n",
        "from sklearn.metrics import accuracy_score\n",
        "from matplotlib import pyplot as plt\n",
        "from warnings import filterwarnings\n",
        "from sklearn import model_selection\n",
        "from sklearn.cluster import KMeans\n",
        "import matplotlib.pyplot as plt\n",
        "from neupy import algorithms\n",
        "from sklearn.svm import SVC\n",
        "from sklearn import tree\n",
        "from scipy import stats\n",
        "import seaborn as sns\n",
        "import numpy as np\n",
        "import pandas\n",
        "filterwarnings('ignore')"
      ]
    },
    {
      "cell_type": "code",
      "execution_count": 2,
      "metadata": {
        "id": "7yM5bIfTEgn6"
      },
      "outputs": [],
      "source": [
        "#2. Definicao da semente para geracao de numereos aleatorios\n",
        "seed = 7\n",
        "\n",
        "#3. Leitura dos dados\n",
        "url = \"https://archive.ics.uci.edu/ml/machine-learning-databases/credit-screening/crx.data\"\n",
        "dt_parameters = ['Male','Age','Debt','Married','BankCustomer','EducationLevel','Ethnicity','YearsEmployed','PriorDefault','Employed','CreditScore','DriversLicense','Citizen','ZipCode','Income','Approved']\n",
        "\n",
        "dataframe = pandas.read_csv(url, delimiter=\",\", names=dt_parameters)\n",
        "\n",
        "#4. A analise exploratoria dos dados realizada em outro script"
      ]
    },
    {
      "cell_type": "markdown",
      "metadata": {
        "id": "qRvY2mbXo3bH"
      },
      "source": [
        "# Tratamento dos dados"
      ]
    },
    {
      "cell_type": "code",
      "execution_count": 3,
      "metadata": {
        "id": "7AAjBCdR-Ogo"
      },
      "outputs": [],
      "source": [
        "# CONVERTENDO COLUNA Age EM NUMÉRICO\n",
        "\n",
        "dataframe_inc = dataframe[dataframe['Age'] == '?'] #Pegar valores inconsistentes em Age\n",
        "dataframe    =  dataframe[dataframe['Age'] != '?'] #Pegar valores consistentes em Age\n",
        "\n",
        "dataframe.Age = dataframe.Age.astype(np.float32) #Convertendo atributo Age para numérico\n",
        "dataframe_inc.loc[(dataframe_inc['Age'] == '?'), 'Age'] = dataframe['Age'].mode() #Inserindo a moda de Age nas instâncias inconsistentes\n",
        "dataframe_inc.Age = dataframe_inc.Age.astype(np.float32)\n",
        "dataframe = pandas.concat([dataframe, dataframe_inc], axis=0) #Concatenando e finalizando ajuste"
      ]
    },
    {
      "cell_type": "code",
      "execution_count": 4,
      "metadata": {
        "id": "7ftlfgw9-QUf"
      },
      "outputs": [],
      "source": [
        "dataframe.sort_index(ascending=True, inplace=True)\n",
        "dataframe.replace('?', np.nan, inplace = True) # Substituindo as interrogações por um valor numérico nulo"
      ]
    },
    {
      "cell_type": "code",
      "execution_count": 5,
      "metadata": {
        "colab": {
          "base_uri": "https://localhost:8080/",
          "height": 0
        },
        "id": "qTjkbXOim2qw",
        "outputId": "4f02919e-1db3-45e6-f40c-96b26e907363"
      },
      "outputs": [
        {
          "output_type": "execute_result",
          "data": {
            "text/plain": [
              "          Age      Debt  YearsEmployed  CreditScore    Income\n",
              "0   -0.059715 -0.955920      -0.290872    -0.287892 -0.195272\n",
              "1    2.279601 -0.060007       0.244013     0.740293 -0.087788\n",
              "2   -0.591607 -0.855481      -0.216167    -0.493529 -0.037117\n",
              "3   -0.311797 -0.646569       0.456175     0.534656 -0.194696\n",
              "4   -0.955445  0.174015      -0.153415    -0.493529 -0.195272\n",
              "..        ...       ...            ...          ...       ...\n",
              "685 -0.878980  1.069928      -0.290872    -0.493529 -0.195272\n",
              "686 -0.745377 -0.805262      -0.066758    -0.082255 -0.119649\n",
              "687 -0.528587  1.755924      -0.066758    -0.287892 -0.195080\n",
              "688 -1.144506 -0.914740      -0.652442    -0.493529 -0.051321\n",
              "689  0.290678 -0.277959       1.812810    -0.493529 -0.195272\n",
              "\n",
              "[690 rows x 5 columns]"
            ],
            "text/html": [
              "\n",
              "  <div id=\"df-7e63fe2e-2b8f-48a2-a67f-0d259dbb6135\">\n",
              "    <div class=\"colab-df-container\">\n",
              "      <div>\n",
              "<style scoped>\n",
              "    .dataframe tbody tr th:only-of-type {\n",
              "        vertical-align: middle;\n",
              "    }\n",
              "\n",
              "    .dataframe tbody tr th {\n",
              "        vertical-align: top;\n",
              "    }\n",
              "\n",
              "    .dataframe thead th {\n",
              "        text-align: right;\n",
              "    }\n",
              "</style>\n",
              "<table border=\"1\" class=\"dataframe\">\n",
              "  <thead>\n",
              "    <tr style=\"text-align: right;\">\n",
              "      <th></th>\n",
              "      <th>Age</th>\n",
              "      <th>Debt</th>\n",
              "      <th>YearsEmployed</th>\n",
              "      <th>CreditScore</th>\n",
              "      <th>Income</th>\n",
              "    </tr>\n",
              "  </thead>\n",
              "  <tbody>\n",
              "    <tr>\n",
              "      <th>0</th>\n",
              "      <td>-0.059715</td>\n",
              "      <td>-0.955920</td>\n",
              "      <td>-0.290872</td>\n",
              "      <td>-0.287892</td>\n",
              "      <td>-0.195272</td>\n",
              "    </tr>\n",
              "    <tr>\n",
              "      <th>1</th>\n",
              "      <td>2.279601</td>\n",
              "      <td>-0.060007</td>\n",
              "      <td>0.244013</td>\n",
              "      <td>0.740293</td>\n",
              "      <td>-0.087788</td>\n",
              "    </tr>\n",
              "    <tr>\n",
              "      <th>2</th>\n",
              "      <td>-0.591607</td>\n",
              "      <td>-0.855481</td>\n",
              "      <td>-0.216167</td>\n",
              "      <td>-0.493529</td>\n",
              "      <td>-0.037117</td>\n",
              "    </tr>\n",
              "    <tr>\n",
              "      <th>3</th>\n",
              "      <td>-0.311797</td>\n",
              "      <td>-0.646569</td>\n",
              "      <td>0.456175</td>\n",
              "      <td>0.534656</td>\n",
              "      <td>-0.194696</td>\n",
              "    </tr>\n",
              "    <tr>\n",
              "      <th>4</th>\n",
              "      <td>-0.955445</td>\n",
              "      <td>0.174015</td>\n",
              "      <td>-0.153415</td>\n",
              "      <td>-0.493529</td>\n",
              "      <td>-0.195272</td>\n",
              "    </tr>\n",
              "    <tr>\n",
              "      <th>...</th>\n",
              "      <td>...</td>\n",
              "      <td>...</td>\n",
              "      <td>...</td>\n",
              "      <td>...</td>\n",
              "      <td>...</td>\n",
              "    </tr>\n",
              "    <tr>\n",
              "      <th>685</th>\n",
              "      <td>-0.878980</td>\n",
              "      <td>1.069928</td>\n",
              "      <td>-0.290872</td>\n",
              "      <td>-0.493529</td>\n",
              "      <td>-0.195272</td>\n",
              "    </tr>\n",
              "    <tr>\n",
              "      <th>686</th>\n",
              "      <td>-0.745377</td>\n",
              "      <td>-0.805262</td>\n",
              "      <td>-0.066758</td>\n",
              "      <td>-0.082255</td>\n",
              "      <td>-0.119649</td>\n",
              "    </tr>\n",
              "    <tr>\n",
              "      <th>687</th>\n",
              "      <td>-0.528587</td>\n",
              "      <td>1.755924</td>\n",
              "      <td>-0.066758</td>\n",
              "      <td>-0.287892</td>\n",
              "      <td>-0.195080</td>\n",
              "    </tr>\n",
              "    <tr>\n",
              "      <th>688</th>\n",
              "      <td>-1.144506</td>\n",
              "      <td>-0.914740</td>\n",
              "      <td>-0.652442</td>\n",
              "      <td>-0.493529</td>\n",
              "      <td>-0.051321</td>\n",
              "    </tr>\n",
              "    <tr>\n",
              "      <th>689</th>\n",
              "      <td>0.290678</td>\n",
              "      <td>-0.277959</td>\n",
              "      <td>1.812810</td>\n",
              "      <td>-0.493529</td>\n",
              "      <td>-0.195272</td>\n",
              "    </tr>\n",
              "  </tbody>\n",
              "</table>\n",
              "<p>690 rows × 5 columns</p>\n",
              "</div>\n",
              "      <button class=\"colab-df-convert\" onclick=\"convertToInteractive('df-7e63fe2e-2b8f-48a2-a67f-0d259dbb6135')\"\n",
              "              title=\"Convert this dataframe to an interactive table.\"\n",
              "              style=\"display:none;\">\n",
              "        \n",
              "  <svg xmlns=\"http://www.w3.org/2000/svg\" height=\"24px\"viewBox=\"0 0 24 24\"\n",
              "       width=\"24px\">\n",
              "    <path d=\"M0 0h24v24H0V0z\" fill=\"none\"/>\n",
              "    <path d=\"M18.56 5.44l.94 2.06.94-2.06 2.06-.94-2.06-.94-.94-2.06-.94 2.06-2.06.94zm-11 1L8.5 8.5l.94-2.06 2.06-.94-2.06-.94L8.5 2.5l-.94 2.06-2.06.94zm10 10l.94 2.06.94-2.06 2.06-.94-2.06-.94-.94-2.06-.94 2.06-2.06.94z\"/><path d=\"M17.41 7.96l-1.37-1.37c-.4-.4-.92-.59-1.43-.59-.52 0-1.04.2-1.43.59L10.3 9.45l-7.72 7.72c-.78.78-.78 2.05 0 2.83L4 21.41c.39.39.9.59 1.41.59.51 0 1.02-.2 1.41-.59l7.78-7.78 2.81-2.81c.8-.78.8-2.07 0-2.86zM5.41 20L4 18.59l7.72-7.72 1.47 1.35L5.41 20z\"/>\n",
              "  </svg>\n",
              "      </button>\n",
              "      \n",
              "  <style>\n",
              "    .colab-df-container {\n",
              "      display:flex;\n",
              "      flex-wrap:wrap;\n",
              "      gap: 12px;\n",
              "    }\n",
              "\n",
              "    .colab-df-convert {\n",
              "      background-color: #E8F0FE;\n",
              "      border: none;\n",
              "      border-radius: 50%;\n",
              "      cursor: pointer;\n",
              "      display: none;\n",
              "      fill: #1967D2;\n",
              "      height: 32px;\n",
              "      padding: 0 0 0 0;\n",
              "      width: 32px;\n",
              "    }\n",
              "\n",
              "    .colab-df-convert:hover {\n",
              "      background-color: #E2EBFA;\n",
              "      box-shadow: 0px 1px 2px rgba(60, 64, 67, 0.3), 0px 1px 3px 1px rgba(60, 64, 67, 0.15);\n",
              "      fill: #174EA6;\n",
              "    }\n",
              "\n",
              "    [theme=dark] .colab-df-convert {\n",
              "      background-color: #3B4455;\n",
              "      fill: #D2E3FC;\n",
              "    }\n",
              "\n",
              "    [theme=dark] .colab-df-convert:hover {\n",
              "      background-color: #434B5C;\n",
              "      box-shadow: 0px 1px 3px 1px rgba(0, 0, 0, 0.15);\n",
              "      filter: drop-shadow(0px 1px 2px rgba(0, 0, 0, 0.3));\n",
              "      fill: #FFFFFF;\n",
              "    }\n",
              "  </style>\n",
              "\n",
              "      <script>\n",
              "        const buttonEl =\n",
              "          document.querySelector('#df-7e63fe2e-2b8f-48a2-a67f-0d259dbb6135 button.colab-df-convert');\n",
              "        buttonEl.style.display =\n",
              "          google.colab.kernel.accessAllowed ? 'block' : 'none';\n",
              "\n",
              "        async function convertToInteractive(key) {\n",
              "          const element = document.querySelector('#df-7e63fe2e-2b8f-48a2-a67f-0d259dbb6135');\n",
              "          const dataTable =\n",
              "            await google.colab.kernel.invokeFunction('convertToInteractive',\n",
              "                                                     [key], {});\n",
              "          if (!dataTable) return;\n",
              "\n",
              "          const docLinkHtml = 'Like what you see? Visit the ' +\n",
              "            '<a target=\"_blank\" href=https://colab.research.google.com/notebooks/data_table.ipynb>data table notebook</a>'\n",
              "            + ' to learn more about interactive tables.';\n",
              "          element.innerHTML = '';\n",
              "          dataTable['output_type'] = 'display_data';\n",
              "          await google.colab.output.renderOutput(dataTable, element);\n",
              "          const docLink = document.createElement('div');\n",
              "          docLink.innerHTML = docLinkHtml;\n",
              "          element.appendChild(docLink);\n",
              "        }\n",
              "      </script>\n",
              "    </div>\n",
              "  </div>\n",
              "  "
            ]
          },
          "metadata": {},
          "execution_count": 5
        }
      ],
      "source": [
        "# TRATANDO DADOS NUMÉRICOS\n",
        "def mean_norm(dataset):\n",
        "    return numerics_dataframe.apply(lambda x: (x-x.mean())/ x.std(), axis=0)\n",
        "\n",
        "numerics_dataframe = dataframe[['Age', 'Debt', 'YearsEmployed', 'CreditScore', 'Income']]\n",
        "numerics_dataframe.interpolate(inplace = True, method='linear') # Interpolando os valores numéricos nulos\n",
        "numerics_dataframe = mean_norm(numerics_dataframe)\n",
        "numerics_dataframe"
      ]
    },
    {
      "cell_type": "code",
      "execution_count": 6,
      "metadata": {
        "colab": {
          "base_uri": "https://localhost:8080/"
        },
        "id": "grnx6ItnrUIJ",
        "outputId": "09f335c9-d5d5-424d-98aa-0526a2824f4e"
      },
      "outputs": [
        {
          "output_type": "execute_result",
          "data": {
            "text/plain": [
              "(690, 16)"
            ]
          },
          "metadata": {},
          "execution_count": 6
        }
      ],
      "source": [
        "dataframe.shape"
      ]
    },
    {
      "cell_type": "code",
      "execution_count": 7,
      "metadata": {
        "id": "0z3rtyQ4mlpl"
      },
      "outputs": [],
      "source": [
        "dataframe.reset_index(drop=True, inplace=True)\n",
        "\n",
        "# CONVERTENDO CLASSE PARA VALORES BOOLEANOS\n",
        "dataframe['Approved'].replace(['+', '-'],\n",
        "                        [1, 0], inplace=True)\n",
        "\n",
        "# SEPARANDO CLASSE QUE VAMOS REALIZAR A PREDIÇÃO\n",
        "class_dataframe = dataframe[['Approved']]"
      ]
    },
    {
      "cell_type": "code",
      "execution_count": 8,
      "metadata": {
        "id": "uHZ6RshtrDWA"
      },
      "outputs": [],
      "source": [
        "# SELEÇÃO DE DADOS CATEGÓRICOS\n",
        "attr_drop=  ['Ethnicity', 'ZipCode'] # Removendo dados de etnia e código postal\n",
        "for attr in attr_drop:\n",
        "  dataframe.drop(attr, axis=1, inplace=True)"
      ]
    },
    {
      "cell_type": "code",
      "execution_count": 9,
      "metadata": {
        "colab": {
          "base_uri": "https://localhost:8080/"
        },
        "id": "q6j_xSXWp9Vt",
        "outputId": "03d2f669-1d30-4aaf-e93b-58d28319b746"
      },
      "outputs": [
        {
          "output_type": "stream",
          "name": "stdout",
          "text": [
            "selecionar apenas as colunas que sao do tipo objeto/categorigos\n",
            "\n",
            "Male              12\n",
            "Married            6\n",
            "BankCustomer       6\n",
            "EducationLevel     9\n",
            "PriorDefault       0\n",
            "Employed           0\n",
            "DriversLicense     0\n",
            "Citizen            0\n",
            "dtype: int64\n",
            "Os 8 atributos categóricos foram transformados em 31 Colunas\n"
          ]
        }
      ],
      "source": [
        "# CONVERTENDO VALORES CATEGÓRICOS EM NUMÉRICOS (BINÁRIOS)\n",
        "onehotenconder = OneHotEncoder() \n",
        "\n",
        "print(\"selecionar apenas as colunas que sao do tipo objeto/categorigos\\n\")\n",
        "categorical_dataframe = dataframe.select_dtypes(include=['object']).copy()\n",
        "\n",
        "print(categorical_dataframe.isnull().sum()) # Soma de valores nulos de atributos categóricos\n",
        "\n",
        "# SUBSTITUINDO VALORES NULOS PELA MODA\n",
        "for col in categorical_dataframe.columns.values.tolist():\n",
        "  dataframe[col] = dataframe[col].fillna(dataframe[col].mode()[0])\n",
        "\n",
        "categorical_dataframe = dataframe.select_dtypes(include=['object']).copy()\n",
        "categorical_dataframe_ohe = onehotenconder.fit_transform(categorical_dataframe).toarray()\n",
        "print(f'Os {categorical_dataframe.shape[1]} atributos categóricos foram transformados em {categorical_dataframe_ohe.shape[1]} Colunas')\n",
        "\n",
        "feature_names_ohe = onehotenconder.get_feature_names(categorical_dataframe.columns)\n",
        "categorical_dataframe_ohe = pandas.DataFrame(categorical_dataframe_ohe, columns=feature_names_ohe)"
      ]
    },
    {
      "cell_type": "code",
      "execution_count": 10,
      "metadata": {
        "colab": {
          "base_uri": "https://localhost:8080/",
          "height": 0
        },
        "id": "RBv9VQCzs8YF",
        "outputId": "87986e2f-b66e-4671-d114-152308e7de6e"
      },
      "outputs": [
        {
          "output_type": "execute_result",
          "data": {
            "text/plain": [
              "     Male_a  Male_b  Married_l  Married_u  Married_y  BankCustomer_g  \\\n",
              "0       0.0     1.0        0.0        1.0        0.0             1.0   \n",
              "1       1.0     0.0        0.0        1.0        0.0             1.0   \n",
              "2       1.0     0.0        0.0        1.0        0.0             1.0   \n",
              "3       0.0     1.0        0.0        1.0        0.0             1.0   \n",
              "4       0.0     1.0        0.0        1.0        0.0             1.0   \n",
              "..      ...     ...        ...        ...        ...             ...   \n",
              "685     0.0     1.0        0.0        0.0        1.0             0.0   \n",
              "686     1.0     0.0        0.0        1.0        0.0             1.0   \n",
              "687     1.0     0.0        0.0        0.0        1.0             0.0   \n",
              "688     0.0     1.0        0.0        1.0        0.0             1.0   \n",
              "689     0.0     1.0        0.0        1.0        0.0             1.0   \n",
              "\n",
              "     BankCustomer_gg  BankCustomer_p  EducationLevel_aa  EducationLevel_c  \\\n",
              "0                0.0             0.0                0.0               0.0   \n",
              "1                0.0             0.0                0.0               0.0   \n",
              "2                0.0             0.0                0.0               0.0   \n",
              "3                0.0             0.0                0.0               0.0   \n",
              "4                0.0             0.0                0.0               0.0   \n",
              "..               ...             ...                ...               ...   \n",
              "685              0.0             1.0                0.0               0.0   \n",
              "686              0.0             0.0                0.0               1.0   \n",
              "687              0.0             1.0                0.0               0.0   \n",
              "688              0.0             0.0                1.0               0.0   \n",
              "689              0.0             0.0                0.0               1.0   \n",
              "\n",
              "     ...  DriversLicense_f  DriversLicense_t  Citizen_g  Citizen_p  Citizen_s  \\\n",
              "0    ...               1.0               0.0        1.0        0.0        0.0   \n",
              "1    ...               1.0               0.0        1.0        0.0        0.0   \n",
              "2    ...               1.0               0.0        1.0        0.0        0.0   \n",
              "3    ...               0.0               1.0        1.0        0.0        0.0   \n",
              "4    ...               1.0               0.0        0.0        0.0        1.0   \n",
              "..   ...               ...               ...        ...        ...        ...   \n",
              "685  ...               1.0               0.0        1.0        0.0        0.0   \n",
              "686  ...               0.0               1.0        1.0        0.0        0.0   \n",
              "687  ...               0.0               1.0        1.0        0.0        0.0   \n",
              "688  ...               1.0               0.0        1.0        0.0        0.0   \n",
              "689  ...               0.0               1.0        1.0        0.0        0.0   \n",
              "\n",
              "          Age      Debt  YearsEmployed  CreditScore    Income  \n",
              "0   -0.059715 -0.955920      -0.290872    -0.287892 -0.195272  \n",
              "1    2.279601 -0.060007       0.244013     0.740293 -0.087788  \n",
              "2   -0.591607 -0.855481      -0.216167    -0.493529 -0.037117  \n",
              "3   -0.311797 -0.646569       0.456175     0.534656 -0.194696  \n",
              "4   -0.955445  0.174015      -0.153415    -0.493529 -0.195272  \n",
              "..        ...       ...            ...          ...       ...  \n",
              "685 -0.878980  1.069928      -0.290872    -0.493529 -0.195272  \n",
              "686 -0.745377 -0.805262      -0.066758    -0.082255 -0.119649  \n",
              "687 -0.528587  1.755924      -0.066758    -0.287892 -0.195080  \n",
              "688 -1.144506 -0.914740      -0.652442    -0.493529 -0.051321  \n",
              "689  0.290678 -0.277959       1.812810    -0.493529 -0.195272  \n",
              "\n",
              "[690 rows x 36 columns]"
            ],
            "text/html": [
              "\n",
              "  <div id=\"df-8a33aa7d-dded-4d75-95f8-f73e1d6a40c5\">\n",
              "    <div class=\"colab-df-container\">\n",
              "      <div>\n",
              "<style scoped>\n",
              "    .dataframe tbody tr th:only-of-type {\n",
              "        vertical-align: middle;\n",
              "    }\n",
              "\n",
              "    .dataframe tbody tr th {\n",
              "        vertical-align: top;\n",
              "    }\n",
              "\n",
              "    .dataframe thead th {\n",
              "        text-align: right;\n",
              "    }\n",
              "</style>\n",
              "<table border=\"1\" class=\"dataframe\">\n",
              "  <thead>\n",
              "    <tr style=\"text-align: right;\">\n",
              "      <th></th>\n",
              "      <th>Male_a</th>\n",
              "      <th>Male_b</th>\n",
              "      <th>Married_l</th>\n",
              "      <th>Married_u</th>\n",
              "      <th>Married_y</th>\n",
              "      <th>BankCustomer_g</th>\n",
              "      <th>BankCustomer_gg</th>\n",
              "      <th>BankCustomer_p</th>\n",
              "      <th>EducationLevel_aa</th>\n",
              "      <th>EducationLevel_c</th>\n",
              "      <th>...</th>\n",
              "      <th>DriversLicense_f</th>\n",
              "      <th>DriversLicense_t</th>\n",
              "      <th>Citizen_g</th>\n",
              "      <th>Citizen_p</th>\n",
              "      <th>Citizen_s</th>\n",
              "      <th>Age</th>\n",
              "      <th>Debt</th>\n",
              "      <th>YearsEmployed</th>\n",
              "      <th>CreditScore</th>\n",
              "      <th>Income</th>\n",
              "    </tr>\n",
              "  </thead>\n",
              "  <tbody>\n",
              "    <tr>\n",
              "      <th>0</th>\n",
              "      <td>0.0</td>\n",
              "      <td>1.0</td>\n",
              "      <td>0.0</td>\n",
              "      <td>1.0</td>\n",
              "      <td>0.0</td>\n",
              "      <td>1.0</td>\n",
              "      <td>0.0</td>\n",
              "      <td>0.0</td>\n",
              "      <td>0.0</td>\n",
              "      <td>0.0</td>\n",
              "      <td>...</td>\n",
              "      <td>1.0</td>\n",
              "      <td>0.0</td>\n",
              "      <td>1.0</td>\n",
              "      <td>0.0</td>\n",
              "      <td>0.0</td>\n",
              "      <td>-0.059715</td>\n",
              "      <td>-0.955920</td>\n",
              "      <td>-0.290872</td>\n",
              "      <td>-0.287892</td>\n",
              "      <td>-0.195272</td>\n",
              "    </tr>\n",
              "    <tr>\n",
              "      <th>1</th>\n",
              "      <td>1.0</td>\n",
              "      <td>0.0</td>\n",
              "      <td>0.0</td>\n",
              "      <td>1.0</td>\n",
              "      <td>0.0</td>\n",
              "      <td>1.0</td>\n",
              "      <td>0.0</td>\n",
              "      <td>0.0</td>\n",
              "      <td>0.0</td>\n",
              "      <td>0.0</td>\n",
              "      <td>...</td>\n",
              "      <td>1.0</td>\n",
              "      <td>0.0</td>\n",
              "      <td>1.0</td>\n",
              "      <td>0.0</td>\n",
              "      <td>0.0</td>\n",
              "      <td>2.279601</td>\n",
              "      <td>-0.060007</td>\n",
              "      <td>0.244013</td>\n",
              "      <td>0.740293</td>\n",
              "      <td>-0.087788</td>\n",
              "    </tr>\n",
              "    <tr>\n",
              "      <th>2</th>\n",
              "      <td>1.0</td>\n",
              "      <td>0.0</td>\n",
              "      <td>0.0</td>\n",
              "      <td>1.0</td>\n",
              "      <td>0.0</td>\n",
              "      <td>1.0</td>\n",
              "      <td>0.0</td>\n",
              "      <td>0.0</td>\n",
              "      <td>0.0</td>\n",
              "      <td>0.0</td>\n",
              "      <td>...</td>\n",
              "      <td>1.0</td>\n",
              "      <td>0.0</td>\n",
              "      <td>1.0</td>\n",
              "      <td>0.0</td>\n",
              "      <td>0.0</td>\n",
              "      <td>-0.591607</td>\n",
              "      <td>-0.855481</td>\n",
              "      <td>-0.216167</td>\n",
              "      <td>-0.493529</td>\n",
              "      <td>-0.037117</td>\n",
              "    </tr>\n",
              "    <tr>\n",
              "      <th>3</th>\n",
              "      <td>0.0</td>\n",
              "      <td>1.0</td>\n",
              "      <td>0.0</td>\n",
              "      <td>1.0</td>\n",
              "      <td>0.0</td>\n",
              "      <td>1.0</td>\n",
              "      <td>0.0</td>\n",
              "      <td>0.0</td>\n",
              "      <td>0.0</td>\n",
              "      <td>0.0</td>\n",
              "      <td>...</td>\n",
              "      <td>0.0</td>\n",
              "      <td>1.0</td>\n",
              "      <td>1.0</td>\n",
              "      <td>0.0</td>\n",
              "      <td>0.0</td>\n",
              "      <td>-0.311797</td>\n",
              "      <td>-0.646569</td>\n",
              "      <td>0.456175</td>\n",
              "      <td>0.534656</td>\n",
              "      <td>-0.194696</td>\n",
              "    </tr>\n",
              "    <tr>\n",
              "      <th>4</th>\n",
              "      <td>0.0</td>\n",
              "      <td>1.0</td>\n",
              "      <td>0.0</td>\n",
              "      <td>1.0</td>\n",
              "      <td>0.0</td>\n",
              "      <td>1.0</td>\n",
              "      <td>0.0</td>\n",
              "      <td>0.0</td>\n",
              "      <td>0.0</td>\n",
              "      <td>0.0</td>\n",
              "      <td>...</td>\n",
              "      <td>1.0</td>\n",
              "      <td>0.0</td>\n",
              "      <td>0.0</td>\n",
              "      <td>0.0</td>\n",
              "      <td>1.0</td>\n",
              "      <td>-0.955445</td>\n",
              "      <td>0.174015</td>\n",
              "      <td>-0.153415</td>\n",
              "      <td>-0.493529</td>\n",
              "      <td>-0.195272</td>\n",
              "    </tr>\n",
              "    <tr>\n",
              "      <th>...</th>\n",
              "      <td>...</td>\n",
              "      <td>...</td>\n",
              "      <td>...</td>\n",
              "      <td>...</td>\n",
              "      <td>...</td>\n",
              "      <td>...</td>\n",
              "      <td>...</td>\n",
              "      <td>...</td>\n",
              "      <td>...</td>\n",
              "      <td>...</td>\n",
              "      <td>...</td>\n",
              "      <td>...</td>\n",
              "      <td>...</td>\n",
              "      <td>...</td>\n",
              "      <td>...</td>\n",
              "      <td>...</td>\n",
              "      <td>...</td>\n",
              "      <td>...</td>\n",
              "      <td>...</td>\n",
              "      <td>...</td>\n",
              "      <td>...</td>\n",
              "    </tr>\n",
              "    <tr>\n",
              "      <th>685</th>\n",
              "      <td>0.0</td>\n",
              "      <td>1.0</td>\n",
              "      <td>0.0</td>\n",
              "      <td>0.0</td>\n",
              "      <td>1.0</td>\n",
              "      <td>0.0</td>\n",
              "      <td>0.0</td>\n",
              "      <td>1.0</td>\n",
              "      <td>0.0</td>\n",
              "      <td>0.0</td>\n",
              "      <td>...</td>\n",
              "      <td>1.0</td>\n",
              "      <td>0.0</td>\n",
              "      <td>1.0</td>\n",
              "      <td>0.0</td>\n",
              "      <td>0.0</td>\n",
              "      <td>-0.878980</td>\n",
              "      <td>1.069928</td>\n",
              "      <td>-0.290872</td>\n",
              "      <td>-0.493529</td>\n",
              "      <td>-0.195272</td>\n",
              "    </tr>\n",
              "    <tr>\n",
              "      <th>686</th>\n",
              "      <td>1.0</td>\n",
              "      <td>0.0</td>\n",
              "      <td>0.0</td>\n",
              "      <td>1.0</td>\n",
              "      <td>0.0</td>\n",
              "      <td>1.0</td>\n",
              "      <td>0.0</td>\n",
              "      <td>0.0</td>\n",
              "      <td>0.0</td>\n",
              "      <td>1.0</td>\n",
              "      <td>...</td>\n",
              "      <td>0.0</td>\n",
              "      <td>1.0</td>\n",
              "      <td>1.0</td>\n",
              "      <td>0.0</td>\n",
              "      <td>0.0</td>\n",
              "      <td>-0.745377</td>\n",
              "      <td>-0.805262</td>\n",
              "      <td>-0.066758</td>\n",
              "      <td>-0.082255</td>\n",
              "      <td>-0.119649</td>\n",
              "    </tr>\n",
              "    <tr>\n",
              "      <th>687</th>\n",
              "      <td>1.0</td>\n",
              "      <td>0.0</td>\n",
              "      <td>0.0</td>\n",
              "      <td>0.0</td>\n",
              "      <td>1.0</td>\n",
              "      <td>0.0</td>\n",
              "      <td>0.0</td>\n",
              "      <td>1.0</td>\n",
              "      <td>0.0</td>\n",
              "      <td>0.0</td>\n",
              "      <td>...</td>\n",
              "      <td>0.0</td>\n",
              "      <td>1.0</td>\n",
              "      <td>1.0</td>\n",
              "      <td>0.0</td>\n",
              "      <td>0.0</td>\n",
              "      <td>-0.528587</td>\n",
              "      <td>1.755924</td>\n",
              "      <td>-0.066758</td>\n",
              "      <td>-0.287892</td>\n",
              "      <td>-0.195080</td>\n",
              "    </tr>\n",
              "    <tr>\n",
              "      <th>688</th>\n",
              "      <td>0.0</td>\n",
              "      <td>1.0</td>\n",
              "      <td>0.0</td>\n",
              "      <td>1.0</td>\n",
              "      <td>0.0</td>\n",
              "      <td>1.0</td>\n",
              "      <td>0.0</td>\n",
              "      <td>0.0</td>\n",
              "      <td>1.0</td>\n",
              "      <td>0.0</td>\n",
              "      <td>...</td>\n",
              "      <td>1.0</td>\n",
              "      <td>0.0</td>\n",
              "      <td>1.0</td>\n",
              "      <td>0.0</td>\n",
              "      <td>0.0</td>\n",
              "      <td>-1.144506</td>\n",
              "      <td>-0.914740</td>\n",
              "      <td>-0.652442</td>\n",
              "      <td>-0.493529</td>\n",
              "      <td>-0.051321</td>\n",
              "    </tr>\n",
              "    <tr>\n",
              "      <th>689</th>\n",
              "      <td>0.0</td>\n",
              "      <td>1.0</td>\n",
              "      <td>0.0</td>\n",
              "      <td>1.0</td>\n",
              "      <td>0.0</td>\n",
              "      <td>1.0</td>\n",
              "      <td>0.0</td>\n",
              "      <td>0.0</td>\n",
              "      <td>0.0</td>\n",
              "      <td>1.0</td>\n",
              "      <td>...</td>\n",
              "      <td>0.0</td>\n",
              "      <td>1.0</td>\n",
              "      <td>1.0</td>\n",
              "      <td>0.0</td>\n",
              "      <td>0.0</td>\n",
              "      <td>0.290678</td>\n",
              "      <td>-0.277959</td>\n",
              "      <td>1.812810</td>\n",
              "      <td>-0.493529</td>\n",
              "      <td>-0.195272</td>\n",
              "    </tr>\n",
              "  </tbody>\n",
              "</table>\n",
              "<p>690 rows × 36 columns</p>\n",
              "</div>\n",
              "      <button class=\"colab-df-convert\" onclick=\"convertToInteractive('df-8a33aa7d-dded-4d75-95f8-f73e1d6a40c5')\"\n",
              "              title=\"Convert this dataframe to an interactive table.\"\n",
              "              style=\"display:none;\">\n",
              "        \n",
              "  <svg xmlns=\"http://www.w3.org/2000/svg\" height=\"24px\"viewBox=\"0 0 24 24\"\n",
              "       width=\"24px\">\n",
              "    <path d=\"M0 0h24v24H0V0z\" fill=\"none\"/>\n",
              "    <path d=\"M18.56 5.44l.94 2.06.94-2.06 2.06-.94-2.06-.94-.94-2.06-.94 2.06-2.06.94zm-11 1L8.5 8.5l.94-2.06 2.06-.94-2.06-.94L8.5 2.5l-.94 2.06-2.06.94zm10 10l.94 2.06.94-2.06 2.06-.94-2.06-.94-.94-2.06-.94 2.06-2.06.94z\"/><path d=\"M17.41 7.96l-1.37-1.37c-.4-.4-.92-.59-1.43-.59-.52 0-1.04.2-1.43.59L10.3 9.45l-7.72 7.72c-.78.78-.78 2.05 0 2.83L4 21.41c.39.39.9.59 1.41.59.51 0 1.02-.2 1.41-.59l7.78-7.78 2.81-2.81c.8-.78.8-2.07 0-2.86zM5.41 20L4 18.59l7.72-7.72 1.47 1.35L5.41 20z\"/>\n",
              "  </svg>\n",
              "      </button>\n",
              "      \n",
              "  <style>\n",
              "    .colab-df-container {\n",
              "      display:flex;\n",
              "      flex-wrap:wrap;\n",
              "      gap: 12px;\n",
              "    }\n",
              "\n",
              "    .colab-df-convert {\n",
              "      background-color: #E8F0FE;\n",
              "      border: none;\n",
              "      border-radius: 50%;\n",
              "      cursor: pointer;\n",
              "      display: none;\n",
              "      fill: #1967D2;\n",
              "      height: 32px;\n",
              "      padding: 0 0 0 0;\n",
              "      width: 32px;\n",
              "    }\n",
              "\n",
              "    .colab-df-convert:hover {\n",
              "      background-color: #E2EBFA;\n",
              "      box-shadow: 0px 1px 2px rgba(60, 64, 67, 0.3), 0px 1px 3px 1px rgba(60, 64, 67, 0.15);\n",
              "      fill: #174EA6;\n",
              "    }\n",
              "\n",
              "    [theme=dark] .colab-df-convert {\n",
              "      background-color: #3B4455;\n",
              "      fill: #D2E3FC;\n",
              "    }\n",
              "\n",
              "    [theme=dark] .colab-df-convert:hover {\n",
              "      background-color: #434B5C;\n",
              "      box-shadow: 0px 1px 3px 1px rgba(0, 0, 0, 0.15);\n",
              "      filter: drop-shadow(0px 1px 2px rgba(0, 0, 0, 0.3));\n",
              "      fill: #FFFFFF;\n",
              "    }\n",
              "  </style>\n",
              "\n",
              "      <script>\n",
              "        const buttonEl =\n",
              "          document.querySelector('#df-8a33aa7d-dded-4d75-95f8-f73e1d6a40c5 button.colab-df-convert');\n",
              "        buttonEl.style.display =\n",
              "          google.colab.kernel.accessAllowed ? 'block' : 'none';\n",
              "\n",
              "        async function convertToInteractive(key) {\n",
              "          const element = document.querySelector('#df-8a33aa7d-dded-4d75-95f8-f73e1d6a40c5');\n",
              "          const dataTable =\n",
              "            await google.colab.kernel.invokeFunction('convertToInteractive',\n",
              "                                                     [key], {});\n",
              "          if (!dataTable) return;\n",
              "\n",
              "          const docLinkHtml = 'Like what you see? Visit the ' +\n",
              "            '<a target=\"_blank\" href=https://colab.research.google.com/notebooks/data_table.ipynb>data table notebook</a>'\n",
              "            + ' to learn more about interactive tables.';\n",
              "          element.innerHTML = '';\n",
              "          dataTable['output_type'] = 'display_data';\n",
              "          await google.colab.output.renderOutput(dataTable, element);\n",
              "          const docLink = document.createElement('div');\n",
              "          docLink.innerHTML = docLinkHtml;\n",
              "          element.appendChild(docLink);\n",
              "        }\n",
              "      </script>\n",
              "    </div>\n",
              "  </div>\n",
              "  "
            ]
          },
          "metadata": {},
          "execution_count": 10
        }
      ],
      "source": [
        "dataframe = pandas.concat([categorical_dataframe_ohe, numerics_dataframe], axis=1) #Uma coluna ao lado da outra\n",
        "dataframe"
      ]
    },
    {
      "cell_type": "code",
      "execution_count": 11,
      "metadata": {
        "colab": {
          "base_uri": "https://localhost:8080/"
        },
        "id": "Rf77g-p1nqvV",
        "outputId": "79122eba-1b1e-471a-98bd-abf646ee4c9f"
      },
      "outputs": [
        {
          "output_type": "execute_result",
          "data": {
            "text/plain": [
              "Male_a               0\n",
              "Male_b               0\n",
              "Married_l            0\n",
              "Married_u            0\n",
              "Married_y            0\n",
              "BankCustomer_g       0\n",
              "BankCustomer_gg      0\n",
              "BankCustomer_p       0\n",
              "EducationLevel_aa    0\n",
              "EducationLevel_c     0\n",
              "EducationLevel_cc    0\n",
              "EducationLevel_d     0\n",
              "EducationLevel_e     0\n",
              "EducationLevel_ff    0\n",
              "EducationLevel_i     0\n",
              "EducationLevel_j     0\n",
              "EducationLevel_k     0\n",
              "EducationLevel_m     0\n",
              "EducationLevel_q     0\n",
              "EducationLevel_r     0\n",
              "EducationLevel_w     0\n",
              "EducationLevel_x     0\n",
              "PriorDefault_f       0\n",
              "PriorDefault_t       0\n",
              "Employed_f           0\n",
              "Employed_t           0\n",
              "DriversLicense_f     0\n",
              "DriversLicense_t     0\n",
              "Citizen_g            0\n",
              "Citizen_p            0\n",
              "Citizen_s            0\n",
              "Age                  0\n",
              "Debt                 0\n",
              "YearsEmployed        0\n",
              "CreditScore          0\n",
              "Income               0\n",
              "dtype: int64"
            ]
          },
          "metadata": {},
          "execution_count": 11
        }
      ],
      "source": [
        " dataframe.isnull().sum()# Validando o tratamento de nulos"
      ]
    },
    {
      "cell_type": "markdown",
      "metadata": {
        "id": "ZC7bwSXktzzh"
      },
      "source": [
        "# Testando modelos"
      ]
    },
    {
      "cell_type": "code",
      "execution_count": 12,
      "metadata": {
        "colab": {
          "base_uri": "https://localhost:8080/"
        },
        "id": "Sly3zDotmXMv",
        "outputId": "056b28e4-df69-43d0-b5c4-d5ba89bbe278"
      },
      "outputs": [
        {
          "output_type": "stream",
          "name": "stdout",
          "text": [
            "Apresentando o shape dos dados (dimenssoes)\n",
            "(690, 36)\n"
          ]
        }
      ],
      "source": [
        "\n",
        "#5. Preparacao dos dados conduzida em outro script\n",
        "print(\"Apresentando o shape dos dados (dimenssoes)\")\n",
        "print(dataframe.shape)\n",
        "array = dataframe.values\n",
        "\n",
        "#6. Divisao da base de dados em treinamento, validacao e teste\n",
        "X_train, X_test, y_train, y_test = train_test_split(dataframe, class_dataframe, random_state=seed)\n",
        "X_train_p, X_valid, y_train_p, y_valid = train_test_split(X_train, y_train, random_state=seed)\n",
        "\n",
        "# define evaluation\n",
        "cv = model_selection.StratifiedKFold(n_splits=10)"
      ]
    },
    {
      "cell_type": "markdown",
      "metadata": {
        "id": "aYXEd8fSsvUy"
      },
      "source": [
        "## Realizar busca com o gridsearch ou randonsearhc para encontrar os melhores parametros de cada modelo"
      ]
    },
    {
      "cell_type": "code",
      "execution_count": 15,
      "metadata": {
        "id": "y6ipBhDHxKZd"
      },
      "outputs": [],
      "source": [
        "def definir_n_iter(combinacoes):\n",
        "  if combinacoes >= 100:\n",
        "    return range(10, 110, 10)\n",
        "  \n",
        "  if combinacoes >= 50:\n",
        "    return range(5, 55, 5)\n",
        "  \n",
        "  if combinacoes >= 20:\n",
        "    return range(2, 22, 2)\n",
        "  else:\n",
        "    return range(2, 14)"
      ]
    },
    {
      "cell_type": "markdown",
      "metadata": {
        "id": "85CxJPUCQlhP"
      },
      "source": [
        "### LVQ"
      ]
    },
    {
      "cell_type": "markdown",
      "metadata": {
        "id": "EUeK9-VZaeRz"
      },
      "source": [
        "#### Teste 1\n"
      ]
    },
    {
      "cell_type": "code",
      "execution_count": null,
      "metadata": {
        "id": "VqbRutkHQ879"
      },
      "outputs": [],
      "source": [
        "param_lvq = {'step': [0.1, 0.3, 0.5, 0.7, 0.9]}"
      ]
    },
    {
      "cell_type": "code",
      "execution_count": null,
      "metadata": {
        "colab": {
          "base_uri": "https://localhost:8080/"
        },
        "id": "jenEAAJTD_SB",
        "outputId": "04f6e4f1-cc39-488a-beec-260f4959d216"
      },
      "outputs": [
        {
          "name": "stdout",
          "output_type": "stream",
          "text": [
            "=========Random Search Results for LVQ Teste 1==========\n",
            "Best Score: 0.8318627450980391\n",
            "Best Hyperparameters: {'step': 0.1, 'n_subclasses': 6, 'prototypes_per_class': [3, 3]}\n",
            "=========Random Search Results for LVQ Teste 1==========\n",
            "Best Score: 0.8277903469079939\n",
            "Best Hyperparameters: {'step': 0.1, 'n_subclasses': 6, 'prototypes_per_class': [3, 3]}\n",
            "=========Random Search Results for LVQ Teste 1==========\n",
            "Best Score: 0.8259803921568627\n",
            "Best Hyperparameters: {'step': 0.1, 'n_subclasses': 6, 'prototypes_per_class': [3, 3]}\n",
            "=========Random Search Results for LVQ Teste 1==========\n",
            "Best Score: 0.8220588235294117\n",
            "Best Hyperparameters: {'step': 0.1, 'n_subclasses': 6, 'prototypes_per_class': [3, 3]}\n",
            "=========Random Search Results for LVQ Teste 1==========\n",
            "Best Score: 0.8219457013574661\n",
            "Best Hyperparameters: {'step': 0.1, 'n_subclasses': 8, 'prototypes_per_class': [4, 4]}\n",
            "=========Random Search Results for LVQ Teste 1==========\n",
            "Best Score: 0.8335218702865763\n",
            "Best Hyperparameters: {'step': 0.1, 'n_subclasses': 8, 'prototypes_per_class': [4, 4]}\n",
            "=========Random Search Results for LVQ Teste 1==========\n",
            "Best Score: 0.8200980392156861\n",
            "Best Hyperparameters: {'step': 0.1, 'n_subclasses': 8, 'prototypes_per_class': [4, 4]}\n",
            "=========Random Search Results for LVQ Teste 1==========\n",
            "Best Score: 0.8296757164404223\n",
            "Best Hyperparameters: {'step': 0.1, 'n_subclasses': 8, 'prototypes_per_class': [4, 4]}\n",
            "=========Random Search Results for LVQ Teste 1==========\n",
            "Best Score: 0.8297134238310708\n",
            "Best Hyperparameters: {'step': 0.1, 'n_subclasses': 10, 'prototypes_per_class': [5, 5]}\n",
            "=========Random Search Results for LVQ Teste 1==========\n",
            "Best Score: 0.8085972850678733\n",
            "Best Hyperparameters: {'step': 0.1, 'n_subclasses': 10, 'prototypes_per_class': [5, 5]}\n",
            "=========Random Search Results for LVQ Teste 1==========\n",
            "Best Score: 0.8277903469079939\n",
            "Best Hyperparameters: {'step': 0.1, 'n_subclasses': 10, 'prototypes_per_class': [5, 5]}\n",
            "=========Random Search Results for LVQ Teste 1==========\n",
            "Best Score: 0.8258672699849171\n",
            "Best Hyperparameters: {'step': 0.1, 'n_subclasses': 10, 'prototypes_per_class': [5, 5]}\n",
            "=========Random Search Results for LVQ Teste 1==========\n",
            "Best Score: 0.8317496229260936\n",
            "Best Hyperparameters: {'step': 0.1, 'n_subclasses': 12, 'prototypes_per_class': [6, 6]}\n",
            "=========Random Search Results for LVQ Teste 1==========\n",
            "Best Score: 0.8277526395173453\n",
            "Best Hyperparameters: {'step': 0.1, 'n_subclasses': 12, 'prototypes_per_class': [6, 6]}\n",
            "=========Random Search Results for LVQ Teste 1==========\n",
            "Best Score: 0.8297511312217196\n",
            "Best Hyperparameters: {'step': 0.1, 'n_subclasses': 12, 'prototypes_per_class': [6, 6]}\n",
            "=========Random Search Results for LVQ Teste 1==========\n",
            "Best Score: 0.8144042232277527\n",
            "Best Hyperparameters: {'step': 0.1, 'n_subclasses': 12, 'prototypes_per_class': [6, 6]}\n"
          ]
        }
      ],
      "source": [
        "lvq_best_scores = (0, {}, None)\n",
        "\n",
        "for n_subclasses, prototypes_per_class in [(6, [3,3]), (8, [4,4]), (10, [5,5]), (12, [6,6])]:\n",
        "  lvqnet = algorithms.LVQ(n_inputs=X_train.shape[1], n_classes=2, n_subclasses=n_subclasses, prototypes_per_class = prototypes_per_class)\n",
        "  for i in range(1, len(param_lvq['step'])):\n",
        "    search_lvq = RandomizedSearchCV(lvqnet, param_lvq, n_iter=i, scoring='accuracy', n_jobs =4, cv=cv, random_state=seed)\n",
        "    result_lvq = search_lvq.fit(X_train, y_train)\n",
        "    print('=========Random Search Results for LVQ Teste 1==========')\n",
        "    best_params = result_lvq.best_params_\n",
        "    best_params['n_subclasses'] = n_subclasses\n",
        "    best_params['prototypes_per_class'] = prototypes_per_class\n",
        "    print('Best Score: %s' % result_lvq.best_score_)\n",
        "    print('Best Hyperparameters: %s' % best_params)\n",
        "    if result_lvq.best_score_ > lvq_best_scores[0]:\n",
        "      best_params = result_lvq.best_params_\n",
        "      best_params['n_subclasses'] = n_subclasses\n",
        "      best_params['prototypes_per_class'] = prototypes_per_class\n",
        "      lvq_best_scores = (result_lvq.best_score_, best_params, result_lvq)"
      ]
    },
    {
      "cell_type": "code",
      "execution_count": null,
      "metadata": {
        "colab": {
          "base_uri": "https://localhost:8080/"
        },
        "id": "k4eD8DP6ccx9",
        "outputId": "a21c01c5-e16f-41b9-da47-02202836a09e"
      },
      "outputs": [
        {
          "name": "stdout",
          "output_type": "stream",
          "text": [
            "=========Random Search Results for LVQ - Teste 1==========\n",
            "Best Score: 83.3522%\n",
            "Best Hyperparameters:  {'step': 0.1, 'n_subclasses': 8, 'prototypes_per_class': [4, 4]}\n"
          ]
        }
      ],
      "source": [
        "print('=========Random Search Results for LVQ - Teste 1==========')\n",
        "print(f'Best Score: {round(lvq_best_scores[0]*100, 4)}%')\n",
        "print(f'Best Hyperparameters:  {lvq_best_scores[1]}')\n",
        "result_lvq = lvq_best_scores[2]"
      ]
    },
    {
      "cell_type": "markdown",
      "metadata": {
        "id": "P5DaTDsaayN_"
      },
      "source": [
        "#### Teste 2"
      ]
    },
    {
      "cell_type": "code",
      "execution_count": null,
      "metadata": {
        "id": "IAIV54Dua0H_"
      },
      "outputs": [],
      "source": [
        "param_lvq = {'step': [0.01, 0.03, 0.05, 0.07, 0.1]}"
      ]
    },
    {
      "cell_type": "code",
      "execution_count": null,
      "metadata": {
        "colab": {
          "base_uri": "https://localhost:8080/"
        },
        "id": "1GDeDNwObN30",
        "outputId": "458bbaf2-5ae3-464f-a35b-1a3db05a124a"
      },
      "outputs": [
        {
          "name": "stdout",
          "output_type": "stream",
          "text": [
            "=========Random Search Results for LVQ Teste 2==========\n",
            "Best Score: 0.8394042232277528\n",
            "Best Hyperparameters: {'step': 0.01, 'n_subclasses': 8, 'prototypes_per_class': [4, 4]}\n",
            "=========Random Search Results for LVQ Teste 2==========\n",
            "Best Score: 0.8316742081447964\n",
            "Best Hyperparameters: {'step': 0.01, 'n_subclasses': 8, 'prototypes_per_class': [4, 4]}\n",
            "=========Random Search Results for LVQ Teste 2==========\n",
            "Best Score: 0.8259426847662142\n",
            "Best Hyperparameters: {'step': 0.05, 'n_subclasses': 8, 'prototypes_per_class': [4, 4]}\n",
            "=========Random Search Results for LVQ Teste 2==========\n",
            "Best Score: 0.8394419306184012\n",
            "Best Hyperparameters: {'step': 0.07, 'n_subclasses': 8, 'prototypes_per_class': [4, 4]}\n",
            "=========Random Search Results for LVQ Teste 2==========\n",
            "Best Score: 0.831636500754148\n",
            "Best Hyperparameters: {'step': 0.01, 'n_subclasses': 10, 'prototypes_per_class': [5, 5]}\n",
            "=========Random Search Results for LVQ Teste 2==========\n",
            "Best Score: 0.8316742081447964\n",
            "Best Hyperparameters: {'step': 0.01, 'n_subclasses': 10, 'prototypes_per_class': [5, 5]}\n",
            "=========Random Search Results for LVQ Teste 2==========\n",
            "Best Score: 0.839555052790347\n",
            "Best Hyperparameters: {'step': 0.01, 'n_subclasses': 10, 'prototypes_per_class': [5, 5]}\n",
            "=========Random Search Results for LVQ Teste 2==========\n",
            "Best Score: 0.8317119155354451\n",
            "Best Hyperparameters: {'step': 0.07, 'n_subclasses': 10, 'prototypes_per_class': [5, 5]}\n",
            "=========Random Search Results for LVQ Teste 2==========\n",
            "Best Score: 0.8430618401206635\n",
            "Best Hyperparameters: {'step': 0.01, 'n_subclasses': 12, 'prototypes_per_class': [6, 6]}\n",
            "=========Random Search Results for LVQ Teste 2==========\n",
            "Best Score: 0.845135746606335\n",
            "Best Hyperparameters: {'step': 0.01, 'n_subclasses': 12, 'prototypes_per_class': [6, 6]}\n",
            "=========Random Search Results for LVQ Teste 2==========\n",
            "Best Score: 0.8355580693815989\n",
            "Best Hyperparameters: {'step': 0.01, 'n_subclasses': 12, 'prototypes_per_class': [6, 6]}\n",
            "=========Random Search Results for LVQ Teste 2==========\n",
            "Best Score: 0.8471342383107091\n",
            "Best Hyperparameters: {'step': 0.03, 'n_subclasses': 12, 'prototypes_per_class': [6, 6]}\n",
            "=========Random Search Results for LVQ Teste 2==========\n",
            "Best Score: 0.8259803921568629\n",
            "Best Hyperparameters: {'step': 0.01, 'n_subclasses': 14, 'prototypes_per_class': [7, 7]}\n",
            "=========Random Search Results for LVQ Teste 2==========\n",
            "Best Score: 0.8412141779788838\n",
            "Best Hyperparameters: {'step': 0.01, 'n_subclasses': 14, 'prototypes_per_class': [7, 7]}\n",
            "=========Random Search Results for LVQ Teste 2==========\n",
            "Best Score: 0.8394042232277528\n",
            "Best Hyperparameters: {'step': 0.01, 'n_subclasses': 14, 'prototypes_per_class': [7, 7]}\n",
            "=========Random Search Results for LVQ Teste 2==========\n",
            "Best Score: 0.8490196078431372\n",
            "Best Hyperparameters: {'step': 0.07, 'n_subclasses': 14, 'prototypes_per_class': [7, 7]}\n"
          ]
        }
      ],
      "source": [
        "lvq_best_scores = (0, {}, None)\n",
        "best_scores_count = {'step': 0, 'n_subclasses': 0, 'prototypes_per_class': 0}\n",
        "\n",
        "for n_subclasses, prototypes_per_class in [(8, [4,4]), (10, [5,5]), (12, [6,6]), (14, [7, 7])]:\n",
        "  lvqnet = algorithms.LVQ(n_inputs=X_train.shape[1], n_classes=2, n_subclasses=n_subclasses, prototypes_per_class = prototypes_per_class)\n",
        "  for i in range(1, len(param_lvq['step'])):\n",
        "    search_lvq = RandomizedSearchCV(lvqnet, param_lvq, n_iter=i, scoring='accuracy', n_jobs =4, cv=cv, random_state=seed)\n",
        "    result_lvq = search_lvq.fit(X_train, y_train)\n",
        "    print('=========Random Search Results for LVQ Teste 2==========')\n",
        "    best_params = result_lvq.best_params_\n",
        "    best_params['n_subclasses'] = n_subclasses\n",
        "    best_params['prototypes_per_class'] = prototypes_per_class\n",
        "\n",
        "    print('Best Score: %s' % result_lvq.best_score_)\n",
        "    print('Best Hyperparameters: %s' % best_params)\n",
        "    if result_lvq.best_score_ > lvq_best_scores[0]:\n",
        "      best_params = result_lvq.best_params_\n",
        "      best_params['n_subclasses'] = n_subclasses\n",
        "      best_params['prototypes_per_class'] = prototypes_per_class\n",
        "      lvq_best_scores = (result_lvq.best_score_, best_params, result_lvq)"
      ]
    },
    {
      "cell_type": "code",
      "execution_count": null,
      "metadata": {
        "colab": {
          "base_uri": "https://localhost:8080/"
        },
        "id": "QMefDKOHUoul",
        "outputId": "8afd1375-b7b4-4523-abfb-7262a0dfcc13"
      },
      "outputs": [
        {
          "name": "stdout",
          "output_type": "stream",
          "text": [
            "=========Random Search Results for LVQ - Teste 2==========\n",
            "Best Score: 84.902%\n",
            "Best Hyperparameters:  {'step': 0.07, 'n_subclasses': 14, 'prototypes_per_class': [7, 7]}\n"
          ]
        }
      ],
      "source": [
        "print('=========Random Search Results for LVQ - Teste 2==========')\n",
        "print(f'Best Score: {round(lvq_best_scores[0]*100, 4)}%')\n",
        "print(f'Best Hyperparameters:  {lvq_best_scores[1]}')\n",
        "result_lvq = lvq_best_scores[2]"
      ]
    },
    {
      "cell_type": "markdown",
      "metadata": {
        "id": "19VR4eM9s37a"
      },
      "source": [
        "### SVC"
      ]
    },
    {
      "cell_type": "markdown",
      "metadata": {
        "id": "JOl1SqqIekRL"
      },
      "source": [
        "#### Teste 1"
      ]
    },
    {
      "cell_type": "code",
      "execution_count": null,
      "metadata": {
        "id": "wP885taItSe7"
      },
      "outputs": [],
      "source": [
        "svc = SVC()\n",
        "param_svc = {'C': [0.1, 1, 10,],\n",
        "              'gamma': [1, 0.1, 0.01, 0.001, 'scale', 'auto'],\n",
        "              'kernel': ['rbf', 'linear', 'sigmoid','poly'],\n",
        "              'decision_function_shape': ['ovo','ovr']\n",
        "              }"
      ]
    },
    {
      "cell_type": "code",
      "execution_count": null,
      "metadata": {
        "colab": {
          "base_uri": "https://localhost:8080/"
        },
        "id": "GggF-Ym21iuo",
        "outputId": "68ce8f9e-6cfc-4e6c-907c-5e34e9e7ecf6"
      },
      "outputs": [
        {
          "name": "stdout",
          "output_type": "stream",
          "text": [
            "=========Random Search Results for SVM Teste 1==========\n",
            "Best Score: 0.8549019607843137\n",
            "Best Hyperparameters: {'kernel': 'rbf', 'gamma': 'auto', 'decision_function_shape': 'ovo', 'C': 10}\n",
            "=========Random Search Results for SVM Teste 1==========\n",
            "Best Score: 0.8549019607843137\n",
            "Best Hyperparameters: {'kernel': 'rbf', 'gamma': 'auto', 'decision_function_shape': 'ovo', 'C': 10}\n",
            "=========Random Search Results for SVM Teste 1==========\n",
            "Best Score: 0.8549019607843137\n",
            "Best Hyperparameters: {'kernel': 'rbf', 'gamma': 'auto', 'decision_function_shape': 'ovo', 'C': 10}\n",
            "=========Random Search Results for SVM Teste 1==========\n",
            "Best Score: 0.8568250377073907\n",
            "Best Hyperparameters: {'kernel': 'poly', 'gamma': 0.1, 'decision_function_shape': 'ovr', 'C': 1}\n",
            "=========Random Search Results for SVM Teste 1==========\n",
            "Best Score: 0.8568250377073907\n",
            "Best Hyperparameters: {'kernel': 'poly', 'gamma': 0.1, 'decision_function_shape': 'ovr', 'C': 1}\n",
            "=========Random Search Results for SVM Teste 1==========\n",
            "Best Score: 0.8568250377073907\n",
            "Best Hyperparameters: {'kernel': 'poly', 'gamma': 0.1, 'decision_function_shape': 'ovr', 'C': 1}\n",
            "=========Random Search Results for SVM Teste 1==========\n",
            "Best Score: 0.8568250377073907\n",
            "Best Hyperparameters: {'kernel': 'poly', 'gamma': 0.1, 'decision_function_shape': 'ovr', 'C': 1}\n",
            "=========Random Search Results for SVM Teste 1==========\n",
            "Best Score: 0.8588612368024133\n",
            "Best Hyperparameters: {'kernel': 'sigmoid', 'gamma': 'scale', 'decision_function_shape': 'ovo', 'C': 0.1}\n",
            "=========Random Search Results for SVM Teste 1==========\n",
            "Best Score: 0.8644419306184012\n",
            "Best Hyperparameters: {'kernel': 'poly', 'gamma': 0.1, 'decision_function_shape': 'ovo', 'C': 0.1}\n",
            "=========Random Search Results for SVM Teste 1==========\n",
            "Best Score: 0.8644419306184012\n",
            "Best Hyperparameters: {'kernel': 'poly', 'gamma': 0.1, 'decision_function_shape': 'ovo', 'C': 0.1}\n"
          ]
        }
      ],
      "source": [
        "# define random search for SVM\n",
        "param_svc_max_n_iter = len(param_svc['C']) * len(param_svc['gamma']) * len(param_svc['kernel']) * len(param_svc['decision_function_shape'])\n",
        "for_range = definir_n_iter(param_svc_max_n_iter)\n",
        "svc_best_scores = (0, {}, None)\n",
        "for i in for_range:\n",
        "  search_svc = RandomizedSearchCV(svc, param_svc, n_iter=i, scoring='accuracy', n_jobs=4, cv=cv, random_state=seed)\n",
        "  result_svc = search_svc.fit(X_train, y_train)\n",
        "  print('=========Random Search Results for SVM Teste 1==========')\n",
        "  print('Best Score: %s' % result_svc.best_score_)\n",
        "  print('Best Hyperparameters: %s' % result_svc.best_params_)\n",
        "  if result_svc.best_score_ > svc_best_scores[0]:\n",
        "    svc_best_scores = (result_svc.best_score_, result_svc.best_params_, result_svc)"
      ]
    },
    {
      "cell_type": "code",
      "execution_count": null,
      "metadata": {
        "colab": {
          "base_uri": "https://localhost:8080/"
        },
        "id": "UH4krJ_l4PCP",
        "outputId": "d124b5d1-b181-4dd7-e5e8-157d95db27f8"
      },
      "outputs": [
        {
          "name": "stdout",
          "output_type": "stream",
          "text": [
            "=========Random Search Results for SVM Teste 1==========\n",
            "Best Score: 86.4442%\n",
            "Best Hyperparameters:  {'kernel': 'poly', 'gamma': 0.1, 'decision_function_shape': 'ovo', 'C': 0.1}\n"
          ]
        }
      ],
      "source": [
        "print('=========Random Search Results for SVM Teste 1==========')\n",
        "print(f'Best Score: {round(svc_best_scores[0]*100, 4)}%')\n",
        "print(f'Best Hyperparameters:  {svc_best_scores[1]}')\n",
        "result_svc = svc_best_scores[2]"
      ]
    },
    {
      "cell_type": "markdown",
      "metadata": {
        "id": "hy5XMb5jeoeu"
      },
      "source": [
        "#### Teste 2"
      ]
    },
    {
      "cell_type": "code",
      "execution_count": null,
      "metadata": {
        "id": "67wVNa4aeutT"
      },
      "outputs": [],
      "source": [
        "svc = SVC()\n",
        "param_svc = {'C': [0.1, 1, 10, 25, 50],\n",
        "              'gamma': [0.01, 0.05, 0.07, 'auto'],\n",
        "              'kernel': ['rbf','poly'],\n",
        "              'decision_function_shape': ['ovo','ovr']\n",
        "              }"
      ]
    },
    {
      "cell_type": "code",
      "execution_count": null,
      "metadata": {
        "colab": {
          "base_uri": "https://localhost:8080/"
        },
        "id": "hnapvPBIfHcr",
        "outputId": "7f8e6739-6e40-43c7-ddbf-5e31b00bb335"
      },
      "outputs": [
        {
          "name": "stdout",
          "output_type": "stream",
          "text": [
            "=========Random Search Results for SVM Teste 2==========\n",
            "Best Score: 0.8741704374057315\n",
            "Best Hyperparameters: {'kernel': 'rbf', 'gamma': 'auto', 'decision_function_shape': 'ovr', 'C': 25}\n",
            "=========Random Search Results for SVM Teste 2==========\n",
            "Best Score: 0.8741704374057315\n",
            "Best Hyperparameters: {'kernel': 'rbf', 'gamma': 'auto', 'decision_function_shape': 'ovr', 'C': 25}\n",
            "=========Random Search Results for SVM Teste 2==========\n",
            "Best Score: 0.8741704374057315\n",
            "Best Hyperparameters: {'kernel': 'rbf', 'gamma': 'auto', 'decision_function_shape': 'ovr', 'C': 25}\n",
            "=========Random Search Results for SVM Teste 2==========\n",
            "Best Score: 0.8741704374057315\n",
            "Best Hyperparameters: {'kernel': 'rbf', 'gamma': 'auto', 'decision_function_shape': 'ovr', 'C': 25}\n",
            "=========Random Search Results for SVM Teste 2==========\n",
            "Best Score: 0.8741704374057315\n",
            "Best Hyperparameters: {'kernel': 'rbf', 'gamma': 'auto', 'decision_function_shape': 'ovr', 'C': 25}\n",
            "=========Random Search Results for SVM Teste 2==========\n",
            "Best Score: 0.8741704374057315\n",
            "Best Hyperparameters: {'kernel': 'rbf', 'gamma': 'auto', 'decision_function_shape': 'ovr', 'C': 25}\n",
            "=========Random Search Results for SVM Teste 2==========\n",
            "Best Score: 0.8741704374057315\n",
            "Best Hyperparameters: {'kernel': 'rbf', 'gamma': 'auto', 'decision_function_shape': 'ovr', 'C': 25}\n",
            "=========Random Search Results for SVM Teste 2==========\n",
            "Best Score: 0.8741704374057315\n",
            "Best Hyperparameters: {'kernel': 'rbf', 'gamma': 'auto', 'decision_function_shape': 'ovr', 'C': 25}\n",
            "=========Random Search Results for SVM Teste 2==========\n",
            "Best Score: 0.8741704374057315\n",
            "Best Hyperparameters: {'kernel': 'rbf', 'gamma': 'auto', 'decision_function_shape': 'ovr', 'C': 25}\n",
            "=========Random Search Results for SVM Teste 2==========\n",
            "Best Score: 0.8741704374057315\n",
            "Best Hyperparameters: {'kernel': 'rbf', 'gamma': 'auto', 'decision_function_shape': 'ovr', 'C': 25}\n"
          ]
        }
      ],
      "source": [
        "# define random search for SVM\n",
        "param_svc_max_n_iter = len(param_svc['C']) * len(param_svc['gamma']) * len(param_svc['kernel']) * len(param_svc['decision_function_shape'])\n",
        "for_range = definir_n_iter(param_svc_max_n_iter)\n",
        "svc_best_scores = (0, {}, None)\n",
        "for i in for_range:\n",
        "  search_svc = RandomizedSearchCV(svc, param_svc, n_iter=i, scoring='accuracy', n_jobs=4, cv=cv, random_state=seed)\n",
        "  result_svc = search_svc.fit(X_train, y_train)\n",
        "  print('=========Random Search Results for SVM Teste 2==========')\n",
        "  print('Best Score: %s' % result_svc.best_score_)\n",
        "  print('Best Hyperparameters: %s' % result_svc.best_params_)\n",
        "  if result_svc.best_score_ > svc_best_scores[0]:\n",
        "    svc_best_scores = (result_svc.best_score_, result_svc.best_params_, result_svc)"
      ]
    },
    {
      "cell_type": "code",
      "execution_count": null,
      "metadata": {
        "colab": {
          "base_uri": "https://localhost:8080/"
        },
        "id": "PvtlQZiffOlW",
        "outputId": "a2a502c5-9c21-4e3e-c30e-4427bf842598"
      },
      "outputs": [
        {
          "name": "stdout",
          "output_type": "stream",
          "text": [
            "=========Random Search Results for SVM Teste 2==========\n",
            "Best Score: 87.417%\n",
            "Best Hyperparameters:  {'kernel': 'rbf', 'gamma': 'auto', 'decision_function_shape': 'ovr', 'C': 25}\n"
          ]
        }
      ],
      "source": [
        "print('=========Random Search Results for SVM Teste 2==========')\n",
        "print(f'Best Score: {round(svc_best_scores[0]*100, 4)}%')\n",
        "print(f'Best Hyperparameters:  {svc_best_scores[1]}')\n",
        "result_svc = svc_best_scores[2]"
      ]
    },
    {
      "cell_type": "markdown",
      "metadata": {
        "id": "uTVyS_O358M4"
      },
      "source": [
        "#### Teste 3"
      ]
    },
    {
      "cell_type": "code",
      "execution_count": null,
      "metadata": {
        "id": "KwG7fXzX6AEm"
      },
      "outputs": [],
      "source": [
        "svc = SVC()\n",
        "param_svc = {'C': [25, 30, 35, 40],\n",
        "              'gamma': ['auto'],\n",
        "              'kernel': ['rbf'],\n",
        "              'decision_function_shape': ['ovr']\n",
        "              }"
      ]
    },
    {
      "cell_type": "code",
      "execution_count": null,
      "metadata": {
        "colab": {
          "base_uri": "https://localhost:8080/"
        },
        "id": "f06KO0Pm6Bgj",
        "outputId": "2d1b1b8b-18d2-4809-ccdc-47342f5fe73b"
      },
      "outputs": [
        {
          "name": "stdout",
          "output_type": "stream",
          "text": [
            "=========Random Search Results for SVM Teste 3==========\n",
            "Best Score: 0.872209653092006\n",
            "Best Hyperparameters: {'kernel': 'rbf', 'gamma': 'auto', 'decision_function_shape': 'ovr', 'C': 35}\n",
            "=========Random Search Results for SVM Teste 3==========\n",
            "Best Score: 0.8741704374057315\n",
            "Best Hyperparameters: {'kernel': 'rbf', 'gamma': 'auto', 'decision_function_shape': 'ovr', 'C': 25}\n",
            "=========Random Search Results for SVM Teste 3==========\n",
            "Best Score: 0.8741704374057315\n",
            "Best Hyperparameters: {'kernel': 'rbf', 'gamma': 'auto', 'decision_function_shape': 'ovr', 'C': 25}\n",
            "=========Random Search Results for SVM Teste 3==========\n",
            "Best Score: 0.8741704374057315\n",
            "Best Hyperparameters: {'kernel': 'rbf', 'gamma': 'auto', 'decision_function_shape': 'ovr', 'C': 25}\n",
            "=========Random Search Results for SVM Teste 3==========\n",
            "Best Score: 0.8741704374057315\n",
            "Best Hyperparameters: {'kernel': 'rbf', 'gamma': 'auto', 'decision_function_shape': 'ovr', 'C': 25}\n",
            "=========Random Search Results for SVM Teste 3==========\n",
            "Best Score: 0.8741704374057315\n",
            "Best Hyperparameters: {'kernel': 'rbf', 'gamma': 'auto', 'decision_function_shape': 'ovr', 'C': 25}\n",
            "=========Random Search Results for SVM Teste 3==========\n",
            "Best Score: 0.8741704374057315\n",
            "Best Hyperparameters: {'kernel': 'rbf', 'gamma': 'auto', 'decision_function_shape': 'ovr', 'C': 25}\n",
            "=========Random Search Results for SVM Teste 3==========\n",
            "Best Score: 0.8741704374057315\n",
            "Best Hyperparameters: {'kernel': 'rbf', 'gamma': 'auto', 'decision_function_shape': 'ovr', 'C': 25}\n",
            "=========Random Search Results for SVM Teste 3==========\n",
            "Best Score: 0.8741704374057315\n",
            "Best Hyperparameters: {'kernel': 'rbf', 'gamma': 'auto', 'decision_function_shape': 'ovr', 'C': 25}\n",
            "=========Random Search Results for SVM Teste 3==========\n",
            "Best Score: 0.8741704374057315\n",
            "Best Hyperparameters: {'kernel': 'rbf', 'gamma': 'auto', 'decision_function_shape': 'ovr', 'C': 25}\n",
            "=========Random Search Results for SVM Teste 3==========\n",
            "Best Score: 0.8741704374057315\n",
            "Best Hyperparameters: {'kernel': 'rbf', 'gamma': 'auto', 'decision_function_shape': 'ovr', 'C': 25}\n",
            "=========Random Search Results for SVM Teste 3==========\n",
            "Best Score: 0.8741704374057315\n",
            "Best Hyperparameters: {'kernel': 'rbf', 'gamma': 'auto', 'decision_function_shape': 'ovr', 'C': 25}\n"
          ]
        }
      ],
      "source": [
        "# define random search for SVM\n",
        "param_svc_max_n_iter = len(param_svc['C']) * len(param_svc['gamma']) * len(param_svc['kernel']) * len(param_svc['decision_function_shape'])\n",
        "for_range = definir_n_iter(param_svc_max_n_iter)\n",
        "svc_best_scores = (0, {}, None)\n",
        "for i in for_range:\n",
        "  search_svc = RandomizedSearchCV(svc, param_svc, n_iter=i, scoring='accuracy', n_jobs=4, cv=cv, random_state=seed)\n",
        "  result_svc = search_svc.fit(X_train, y_train)\n",
        "  print('=========Random Search Results for SVM Teste 3==========')\n",
        "  print('Best Score: %s' % result_svc.best_score_)\n",
        "  print('Best Hyperparameters: %s' % result_svc.best_params_)\n",
        "  if result_svc.best_score_ > svc_best_scores[0]:\n",
        "    svc_best_scores = (result_svc.best_score_, result_svc.best_params_, result_svc)"
      ]
    },
    {
      "cell_type": "code",
      "execution_count": null,
      "metadata": {
        "colab": {
          "base_uri": "https://localhost:8080/"
        },
        "id": "5h7D59Ec6CGk",
        "outputId": "251c1aa2-db66-4eda-8460-f68ac0d29c7f"
      },
      "outputs": [
        {
          "name": "stdout",
          "output_type": "stream",
          "text": [
            "=========Random Search Results for SVM Teste 3==========\n",
            "Best Score: 87.417%\n",
            "Best Hyperparameters:  {'kernel': 'rbf', 'gamma': 'auto', 'decision_function_shape': 'ovr', 'C': 25}\n"
          ]
        }
      ],
      "source": [
        "print('=========Random Search Results for SVM Teste 3==========')\n",
        "print(f'Best Score: {round(svc_best_scores[0]*100, 4)}%')\n",
        "print(f'Best Hyperparameters:  {svc_best_scores[1]}')\n",
        "result_svc = svc_best_scores[2]"
      ]
    },
    {
      "cell_type": "markdown",
      "metadata": {
        "id": "itVhgYagtbnp"
      },
      "source": [
        "### Decision Tree"
      ]
    },
    {
      "cell_type": "markdown",
      "metadata": {
        "id": "G5ea73DHfUpb"
      },
      "source": [
        "#### Teste 1"
      ]
    },
    {
      "cell_type": "code",
      "execution_count": null,
      "metadata": {
        "id": "md2yk5OhtrXs"
      },
      "outputs": [],
      "source": [
        "decisionTree = DecisionTreeClassifier()\n",
        "space = dict()\n",
        "space['criterion'] = ['gini', 'entropy']\n",
        "space['min_samples_split'] = [2,3,5,7]\n",
        "space['max_depth'] = [3,5,6,7,9,11,13,15,17,19]\n",
        "space['min_samples_leaf'] = [2, 3]"
      ]
    },
    {
      "cell_type": "code",
      "execution_count": null,
      "metadata": {
        "colab": {
          "base_uri": "https://localhost:8080/"
        },
        "id": "UfronPLczY1Q",
        "outputId": "eafeaadd-6362-4fd4-9dd5-0c430fb5ce29"
      },
      "outputs": [
        {
          "name": "stdout",
          "output_type": "stream",
          "text": [
            "=========Random Search Results fro TREE Teste 1==========\n",
            "Best Score: 0.8432126696832579\n",
            "Best Hyperparameters: {'min_samples_split': 7, 'min_samples_leaf': 2, 'max_depth': 9, 'criterion': 'entropy'}\n",
            "=========Random Search Results fro TREE Teste 1==========\n",
            "Best Score: 0.8433634992458522\n",
            "Best Hyperparameters: {'min_samples_split': 2, 'min_samples_leaf': 2, 'max_depth': 5, 'criterion': 'entropy'}\n",
            "=========Random Search Results fro TREE Teste 1==========\n",
            "Best Score: 0.8413273001508296\n",
            "Best Hyperparameters: {'min_samples_split': 7, 'min_samples_leaf': 2, 'max_depth': 9, 'criterion': 'entropy'}\n",
            "=========Random Search Results fro TREE Teste 1==========\n",
            "Best Score: 0.8451357466063347\n",
            "Best Hyperparameters: {'min_samples_split': 5, 'min_samples_leaf': 2, 'max_depth': 9, 'criterion': 'entropy'}\n",
            "=========Random Search Results fro TREE Teste 1==========\n",
            "Best Score: 0.8453242835595777\n",
            "Best Hyperparameters: {'min_samples_split': 5, 'min_samples_leaf': 2, 'max_depth': 5, 'criterion': 'entropy'}\n",
            "=========Random Search Results fro TREE Teste 1==========\n",
            "Best Score: 0.8453242835595777\n",
            "Best Hyperparameters: {'min_samples_split': 5, 'min_samples_leaf': 2, 'max_depth': 5, 'criterion': 'entropy'}\n",
            "=========Random Search Results fro TREE Teste 1==========\n",
            "Best Score: 0.8470588235294118\n",
            "Best Hyperparameters: {'min_samples_split': 7, 'min_samples_leaf': 2, 'max_depth': 17, 'criterion': 'entropy'}\n",
            "=========Random Search Results fro TREE Teste 1==========\n",
            "Best Score: 0.8469834087481146\n",
            "Best Hyperparameters: {'min_samples_split': 5, 'min_samples_leaf': 2, 'max_depth': 13, 'criterion': 'entropy'}\n",
            "=========Random Search Results fro TREE Teste 1==========\n",
            "Best Score: 0.8453242835595777\n",
            "Best Hyperparameters: {'min_samples_split': 5, 'min_samples_leaf': 2, 'max_depth': 5, 'criterion': 'entropy'}\n",
            "=========Random Search Results fro TREE Teste 1==========\n",
            "Best Score: 0.8453242835595777\n",
            "Best Hyperparameters: {'min_samples_split': 5, 'min_samples_leaf': 2, 'max_depth': 5, 'criterion': 'entropy'}\n"
          ]
        }
      ],
      "source": [
        "space_max_n_iter = len(space['criterion']) * len(space['min_samples_split']) * len(space['max_depth']) * len(space['min_samples_leaf'])\n",
        "for_range = definir_n_iter(space_max_n_iter)\n",
        "tree_best_scores = (0, {}, None)\n",
        "for i in for_range:\n",
        "  search_tree = RandomizedSearchCV(decisionTree, space, n_iter=i, scoring='accuracy', n_jobs=4, cv=cv, random_state=seed)\n",
        "  result_tree = search_tree.fit(X_train, y_train)\n",
        "  print('=========Random Search Results fro TREE Teste 1==========')\n",
        "  print('Best Score: %s' % result_tree.best_score_)\n",
        "  print('Best Hyperparameters: %s' % result_tree.best_params_)\n",
        "  if result_tree.best_score_ > tree_best_scores[0]:\n",
        "    tree_best_scores = (result_tree.best_score_, result_tree.best_params_, result_tree)"
      ]
    },
    {
      "cell_type": "code",
      "execution_count": null,
      "metadata": {
        "colab": {
          "base_uri": "https://localhost:8080/"
        },
        "id": "6Gk3NqDe0789",
        "outputId": "c6b03420-a09a-4d0e-a78c-a2d285994289"
      },
      "outputs": [
        {
          "name": "stdout",
          "output_type": "stream",
          "text": [
            "=========Random Search Results from TREE Teste 1==========\n",
            "Best Score: 84.7059%\n",
            "Best Hyperparameters: {'min_samples_split': 7, 'min_samples_leaf': 2, 'max_depth': 17, 'criterion': 'entropy'}\n"
          ]
        }
      ],
      "source": [
        "print('=========Random Search Results from TREE Teste 1==========')\n",
        "print(f'Best Score: {round(tree_best_scores[0]*100, 4)}%')\n",
        "print(f'Best Hyperparameters: {tree_best_scores[1]}')\n",
        "result_tree = tree_best_scores[2]"
      ]
    },
    {
      "cell_type": "markdown",
      "metadata": {
        "id": "-00Embm5fpW_"
      },
      "source": [
        "#### Teste 2"
      ]
    },
    {
      "cell_type": "code",
      "execution_count": null,
      "metadata": {
        "id": "BOhCUT5TfrZu"
      },
      "outputs": [],
      "source": [
        "decisionTree = DecisionTreeClassifier()\n",
        "space = dict()\n",
        "space['criterion'] = ['entropy']\n",
        "space['min_samples_split'] = [5, 6, 7]\n",
        "space['max_depth'] = [5, 6, 8, 9]\n",
        "space['min_samples_leaf'] = [2]"
      ]
    },
    {
      "cell_type": "code",
      "execution_count": null,
      "metadata": {
        "colab": {
          "base_uri": "https://localhost:8080/"
        },
        "id": "rr2poXgxgWCl",
        "outputId": "ae84b11f-0e0a-40d3-d88a-fbe8e2c9b929"
      },
      "outputs": [
        {
          "name": "stdout",
          "output_type": "stream",
          "text": [
            "=========Random Search Results fro TREE Teste 2==========\n",
            "Best Score: 0.8509049773755656\n",
            "Best Hyperparameters: {'min_samples_split': 6, 'min_samples_leaf': 2, 'max_depth': 8, 'criterion': 'entropy'}\n",
            "=========Random Search Results fro TREE Teste 2==========\n",
            "Best Score: 0.8453242835595777\n",
            "Best Hyperparameters: {'min_samples_split': 7, 'min_samples_leaf': 2, 'max_depth': 5, 'criterion': 'entropy'}\n",
            "=========Random Search Results fro TREE Teste 2==========\n",
            "Best Score: 0.8470211161387631\n",
            "Best Hyperparameters: {'min_samples_split': 6, 'min_samples_leaf': 2, 'max_depth': 8, 'criterion': 'entropy'}\n",
            "=========Random Search Results fro TREE Teste 2==========\n",
            "Best Score: 0.8453242835595777\n",
            "Best Hyperparameters: {'min_samples_split': 7, 'min_samples_leaf': 2, 'max_depth': 5, 'criterion': 'entropy'}\n",
            "=========Random Search Results fro TREE Teste 2==========\n",
            "Best Score: 0.8453242835595777\n",
            "Best Hyperparameters: {'min_samples_split': 7, 'min_samples_leaf': 2, 'max_depth': 5, 'criterion': 'entropy'}\n",
            "=========Random Search Results fro TREE Teste 2==========\n",
            "Best Score: 0.8453242835595777\n",
            "Best Hyperparameters: {'min_samples_split': 5, 'min_samples_leaf': 2, 'max_depth': 5, 'criterion': 'entropy'}\n",
            "=========Random Search Results fro TREE Teste 2==========\n",
            "Best Score: 0.8453242835595777\n",
            "Best Hyperparameters: {'min_samples_split': 5, 'min_samples_leaf': 2, 'max_depth': 5, 'criterion': 'entropy'}\n",
            "=========Random Search Results fro TREE Teste 2==========\n",
            "Best Score: 0.8453242835595777\n",
            "Best Hyperparameters: {'min_samples_split': 7, 'min_samples_leaf': 2, 'max_depth': 5, 'criterion': 'entropy'}\n",
            "=========Random Search Results fro TREE Teste 2==========\n",
            "Best Score: 0.8509049773755656\n",
            "Best Hyperparameters: {'min_samples_split': 5, 'min_samples_leaf': 2, 'max_depth': 8, 'criterion': 'entropy'}\n",
            "=========Random Search Results fro TREE Teste 2==========\n",
            "Best Score: 0.8508295625942685\n",
            "Best Hyperparameters: {'min_samples_split': 5, 'min_samples_leaf': 2, 'max_depth': 8, 'criterion': 'entropy'}\n",
            "=========Random Search Results fro TREE Teste 2==========\n",
            "Best Score: 0.8509049773755656\n",
            "Best Hyperparameters: {'min_samples_split': 6, 'min_samples_leaf': 2, 'max_depth': 8, 'criterion': 'entropy'}\n",
            "=========Random Search Results fro TREE Teste 2==========\n",
            "Best Score: 0.8489819004524886\n",
            "Best Hyperparameters: {'min_samples_split': 5, 'min_samples_leaf': 2, 'max_depth': 8, 'criterion': 'entropy'}\n"
          ]
        }
      ],
      "source": [
        "space_max_n_iter = len(space['criterion']) * len(space['min_samples_split']) * len(space['max_depth']) * len(space['min_samples_leaf'])\n",
        "for_range = definir_n_iter(space_max_n_iter)\n",
        "tree_best_scores = (0, {}, None)\n",
        "for i in for_range:\n",
        "  search_tree = RandomizedSearchCV(decisionTree, space, n_iter=i, scoring='accuracy', n_jobs=4, cv=cv, random_state=seed)\n",
        "  result_tree = search_tree.fit(X_train, y_train)\n",
        "  print('=========Random Search Results fro TREE Teste 2==========')\n",
        "  print('Best Score: %s' % result_tree.best_score_)\n",
        "  print('Best Hyperparameters: %s' % result_tree.best_params_)\n",
        "  if result_tree.best_score_ > tree_best_scores[0]:\n",
        "    tree_best_scores = (result_tree.best_score_, result_tree.best_params_, result_tree)"
      ]
    },
    {
      "cell_type": "code",
      "execution_count": null,
      "metadata": {
        "colab": {
          "base_uri": "https://localhost:8080/"
        },
        "id": "ylhqDlyngaCf",
        "outputId": "3a8e99b9-3754-41a4-9479-68fb88e63d1a"
      },
      "outputs": [
        {
          "name": "stdout",
          "output_type": "stream",
          "text": [
            "=========Random Search Results from TREE Teste 2==========\n",
            "Best Score: 85.0905%\n",
            "Best Hyperparameters: {'min_samples_split': 6, 'min_samples_leaf': 2, 'max_depth': 8, 'criterion': 'entropy'}\n"
          ]
        }
      ],
      "source": [
        "print('=========Random Search Results from TREE Teste 2==========')\n",
        "print(f'Best Score: {round(tree_best_scores[0]*100, 4)}%')\n",
        "print(f'Best Hyperparameters: {tree_best_scores[1]}')\n",
        "result_tree = tree_best_scores[2]"
      ]
    },
    {
      "cell_type": "markdown",
      "metadata": {
        "id": "kgQ_T4sE8UQM"
      },
      "source": [
        "#### Teste 3"
      ]
    },
    {
      "cell_type": "code",
      "execution_count": null,
      "metadata": {
        "id": "wgQjXcXx8WW5"
      },
      "outputs": [],
      "source": [
        "decisionTree = DecisionTreeClassifier()\n",
        "space = dict()\n",
        "space['criterion'] = ['entropy']\n",
        "space['min_samples_split'] = [5, 6, 7]\n",
        "space['max_depth'] = [5, 8]\n",
        "space['min_samples_leaf'] = [2]"
      ]
    },
    {
      "cell_type": "code",
      "execution_count": null,
      "metadata": {
        "colab": {
          "base_uri": "https://localhost:8080/"
        },
        "id": "jZ9KAt-F8WzB",
        "outputId": "088f029d-756f-4d17-e291-b5079364d2e1"
      },
      "outputs": [
        {
          "name": "stdout",
          "output_type": "stream",
          "text": [
            "=========Random Search Results fro TREE Teste 3==========\n",
            "Best Score: 0.8451357466063347\n",
            "Best Hyperparameters: {'min_samples_split': 7, 'min_samples_leaf': 2, 'max_depth': 8, 'criterion': 'entropy'}\n",
            "=========Random Search Results fro TREE Teste 3==========\n",
            "Best Score: 0.8453242835595777\n",
            "Best Hyperparameters: {'min_samples_split': 5, 'min_samples_leaf': 2, 'max_depth': 5, 'criterion': 'entropy'}\n",
            "=========Random Search Results fro TREE Teste 3==========\n",
            "Best Score: 0.8469834087481146\n",
            "Best Hyperparameters: {'min_samples_split': 5, 'min_samples_leaf': 2, 'max_depth': 8, 'criterion': 'entropy'}\n",
            "=========Random Search Results fro TREE Teste 3==========\n",
            "Best Score: 0.8509049773755656\n",
            "Best Hyperparameters: {'min_samples_split': 5, 'min_samples_leaf': 2, 'max_depth': 8, 'criterion': 'entropy'}\n",
            "=========Random Search Results fro TREE Teste 3==========\n",
            "Best Score: 0.8508672699849171\n",
            "Best Hyperparameters: {'min_samples_split': 5, 'min_samples_leaf': 2, 'max_depth': 8, 'criterion': 'entropy'}\n",
            "=========Random Search Results fro TREE Teste 3==========\n",
            "Best Score: 0.8489819004524886\n",
            "Best Hyperparameters: {'min_samples_split': 5, 'min_samples_leaf': 2, 'max_depth': 8, 'criterion': 'entropy'}\n",
            "=========Random Search Results fro TREE Teste 3==========\n",
            "Best Score: 0.8490196078431372\n",
            "Best Hyperparameters: {'min_samples_split': 7, 'min_samples_leaf': 2, 'max_depth': 8, 'criterion': 'entropy'}\n",
            "=========Random Search Results fro TREE Teste 3==========\n",
            "Best Score: 0.8509049773755656\n",
            "Best Hyperparameters: {'min_samples_split': 7, 'min_samples_leaf': 2, 'max_depth': 8, 'criterion': 'entropy'}\n",
            "=========Random Search Results fro TREE Teste 3==========\n",
            "Best Score: 0.8509049773755656\n",
            "Best Hyperparameters: {'min_samples_split': 5, 'min_samples_leaf': 2, 'max_depth': 8, 'criterion': 'entropy'}\n",
            "=========Random Search Results fro TREE Teste 3==========\n",
            "Best Score: 0.8453242835595777\n",
            "Best Hyperparameters: {'min_samples_split': 6, 'min_samples_leaf': 2, 'max_depth': 5, 'criterion': 'entropy'}\n",
            "=========Random Search Results fro TREE Teste 3==========\n",
            "Best Score: 0.8508672699849171\n",
            "Best Hyperparameters: {'min_samples_split': 5, 'min_samples_leaf': 2, 'max_depth': 8, 'criterion': 'entropy'}\n",
            "=========Random Search Results fro TREE Teste 3==========\n",
            "Best Score: 0.8509049773755656\n",
            "Best Hyperparameters: {'min_samples_split': 6, 'min_samples_leaf': 2, 'max_depth': 8, 'criterion': 'entropy'}\n"
          ]
        }
      ],
      "source": [
        "space_max_n_iter = len(space['criterion']) * len(space['min_samples_split']) * len(space['max_depth']) * len(space['min_samples_leaf'])\n",
        "for_range = definir_n_iter(space_max_n_iter)\n",
        "tree_best_scores = (0, {}, None)\n",
        "for i in for_range:\n",
        "  search_tree = RandomizedSearchCV(decisionTree, space, n_iter=i, scoring='accuracy', n_jobs=4, cv=cv, random_state=seed)\n",
        "  result_tree = search_tree.fit(X_train, y_train)\n",
        "  print('=========Random Search Results fro TREE Teste 3==========')\n",
        "  print('Best Score: %s' % result_tree.best_score_)\n",
        "  print('Best Hyperparameters: %s' % result_tree.best_params_)\n",
        "  if result_tree.best_score_ > tree_best_scores[0]:\n",
        "    tree_best_scores = (result_tree.best_score_, result_tree.best_params_, result_tree)"
      ]
    },
    {
      "cell_type": "code",
      "execution_count": null,
      "metadata": {
        "colab": {
          "base_uri": "https://localhost:8080/"
        },
        "id": "tiB4_xb98XP3",
        "outputId": "1243f39a-2c4e-4186-c79b-ef16f27a6c86"
      },
      "outputs": [
        {
          "name": "stdout",
          "output_type": "stream",
          "text": [
            "=========Random Search Results from TREE Teste 3==========\n",
            "Best Score: 85.0905%\n",
            "Best Hyperparameters: {'min_samples_split': 5, 'min_samples_leaf': 2, 'max_depth': 8, 'criterion': 'entropy'}\n"
          ]
        }
      ],
      "source": [
        "print('=========Random Search Results from TREE Teste 3==========')\n",
        "print(f'Best Score: {round(tree_best_scores[0]*100, 4)}%')\n",
        "print(f'Best Hyperparameters: {tree_best_scores[1]}')\n",
        "result_tree = tree_best_scores[2]"
      ]
    },
    {
      "cell_type": "markdown",
      "metadata": {
        "id": "ZuuiJWQet7Xa"
      },
      "source": [
        "### KNN"
      ]
    },
    {
      "cell_type": "markdown",
      "metadata": {
        "id": "ByQwdpGbg5Mh"
      },
      "source": [
        "#### Teste 1"
      ]
    },
    {
      "cell_type": "code",
      "execution_count": null,
      "metadata": {
        "id": "iybPOtqJt8XI"
      },
      "outputs": [],
      "source": [
        "knn = KNeighborsClassifier()\n",
        "knn_param = dict()\n",
        "knn_param['n_neighbors'] = range(4,11)\n",
        "knn_param['weights'] = ['uniform', 'distance']\n",
        "knn_param['algorithm'] = ['auto', 'ball_tree', 'kd_tree', 'brute']\n",
        "knn_param['metric'] = ['euclidean', 'manhattan', 'chebyshev', 'minkowski', 'wminkowski', 'seuclidean', 'mahalanobis']"
      ]
    },
    {
      "cell_type": "code",
      "execution_count": null,
      "metadata": {
        "colab": {
          "base_uri": "https://localhost:8080/"
        },
        "id": "yoB7md69f281",
        "outputId": "4b04c88d-37b6-44d1-efa6-17ef203c24bf"
      },
      "outputs": [
        {
          "name": "stdout",
          "output_type": "stream",
          "text": [
            "=========Random Search Results for KNN Teste 1==========\n",
            "Best Score: 0.847058823529412\n",
            "Best Hyperparameters: {'weights': 'distance', 'n_neighbors': 5, 'metric': 'manhattan', 'algorithm': 'kd_tree'}\n",
            "=========Random Search Results for KNN Teste 1==========\n",
            "Best Score: 0.847058823529412\n",
            "Best Hyperparameters: {'weights': 'distance', 'n_neighbors': 5, 'metric': 'manhattan', 'algorithm': 'kd_tree'}\n",
            "=========Random Search Results for KNN Teste 1==========\n",
            "Best Score: 0.847058823529412\n",
            "Best Hyperparameters: {'weights': 'distance', 'n_neighbors': 5, 'metric': 'manhattan', 'algorithm': 'kd_tree'}\n",
            "=========Random Search Results for KNN Teste 1==========\n",
            "Best Score: 0.847058823529412\n",
            "Best Hyperparameters: {'weights': 'distance', 'n_neighbors': 5, 'metric': 'manhattan', 'algorithm': 'kd_tree'}\n",
            "=========Random Search Results for KNN Teste 1==========\n",
            "Best Score: 0.847058823529412\n",
            "Best Hyperparameters: {'weights': 'distance', 'n_neighbors': 5, 'metric': 'manhattan', 'algorithm': 'kd_tree'}\n",
            "=========Random Search Results for KNN Teste 1==========\n",
            "Best Score: 0.8547511312217193\n",
            "Best Hyperparameters: {'weights': 'uniform', 'n_neighbors': 9, 'metric': 'manhattan', 'algorithm': 'kd_tree'}\n",
            "=========Random Search Results for KNN Teste 1==========\n",
            "Best Score: 0.8547511312217193\n",
            "Best Hyperparameters: {'weights': 'uniform', 'n_neighbors': 9, 'metric': 'manhattan', 'algorithm': 'kd_tree'}\n",
            "=========Random Search Results for KNN Teste 1==========\n",
            "Best Score: 0.8547511312217193\n",
            "Best Hyperparameters: {'weights': 'uniform', 'n_neighbors': 9, 'metric': 'manhattan', 'algorithm': 'kd_tree'}\n",
            "=========Random Search Results for KNN Teste 1==========\n",
            "Best Score: 0.8547511312217193\n",
            "Best Hyperparameters: {'weights': 'uniform', 'n_neighbors': 9, 'metric': 'manhattan', 'algorithm': 'kd_tree'}\n",
            "=========Random Search Results for KNN Teste 1==========\n",
            "Best Score: 0.8568250377073907\n",
            "Best Hyperparameters: {'weights': 'distance', 'n_neighbors': 4, 'metric': 'manhattan', 'algorithm': 'auto'}\n"
          ]
        }
      ],
      "source": [
        "knn_max_n_iter = len(knn_param['n_neighbors']) * len(knn_param['weights']) * len(knn_param['algorithm']) * len(knn_param['metric'])\n",
        "for_range = definir_n_iter(knn_max_n_iter)\n",
        "\n",
        "knn_best_scores = (0, {}, None)\n",
        "for i in for_range:\n",
        "  search_knn = RandomizedSearchCV(knn, knn_param, n_iter=i, scoring='accuracy', n_jobs=4, cv=cv, random_state=seed)\n",
        "  result_knn = search_knn.fit(X_train, y_train)\n",
        "  print('=========Random Search Results for KNN Teste 1==========')\n",
        "  print('Best Score: %s' % result_knn.best_score_)\n",
        "  print('Best Hyperparameters: %s' % result_knn.best_params_)\n",
        "\n",
        "  if result_knn.best_score_ > knn_best_scores[0]:\n",
        "    knn_best_scores = (result_knn.best_score_, result_knn.best_params_, result_knn)"
      ]
    },
    {
      "cell_type": "code",
      "execution_count": null,
      "metadata": {
        "colab": {
          "base_uri": "https://localhost:8080/"
        },
        "id": "jx5LsD5Kgwef",
        "outputId": "e2a15738-9640-428d-d1f3-46f2bbbf2569"
      },
      "outputs": [
        {
          "name": "stdout",
          "output_type": "stream",
          "text": [
            "=========Random Search Results for KNN Teste 1==========\n",
            "Best Score: 85.6825%\n",
            "Best Hyperparameters: {'weights': 'distance', 'n_neighbors': 4, 'metric': 'manhattan', 'algorithm': 'auto'}\n"
          ]
        }
      ],
      "source": [
        "print('=========Random Search Results for KNN Teste 1==========')\n",
        "print(f'Best Score: {round(knn_best_scores[0]*100, 4)}%')\n",
        "print(f'Best Hyperparameters: {knn_best_scores[1]}')\n",
        "result_knn = knn_best_scores[2]"
      ]
    },
    {
      "cell_type": "markdown",
      "metadata": {
        "id": "2sy6Zqu2g8HA"
      },
      "source": [
        "#### Teste 2"
      ]
    },
    {
      "cell_type": "code",
      "execution_count": null,
      "metadata": {
        "id": "14Oasuhvg9_q"
      },
      "outputs": [],
      "source": [
        "knn = KNeighborsClassifier()\n",
        "knn_param = dict()\n",
        "knn_param['n_neighbors'] = [5, 6, 8, 9]\n",
        "knn_param['weights'] = ['uniform', 'distance']\n",
        "knn_param['algorithm'] = ['kd_tree']\n",
        "knn_param['metric'] = ['manhattan']"
      ]
    },
    {
      "cell_type": "code",
      "execution_count": null,
      "metadata": {
        "colab": {
          "base_uri": "https://localhost:8080/"
        },
        "id": "IeOxy8AahXLb",
        "outputId": "694a9007-137e-4804-ff5a-171994de5a5f"
      },
      "outputs": [
        {
          "name": "stdout",
          "output_type": "stream",
          "text": [
            "=========Random Search Results for KNN Teste 2==========\n",
            "Best Score: 0.850942684766214\n",
            "Best Hyperparameters: {'weights': 'distance', 'n_neighbors': 8, 'metric': 'manhattan', 'algorithm': 'kd_tree'}\n",
            "=========Random Search Results for KNN Teste 2==========\n",
            "Best Score: 0.850942684766214\n",
            "Best Hyperparameters: {'weights': 'distance', 'n_neighbors': 8, 'metric': 'manhattan', 'algorithm': 'kd_tree'}\n",
            "=========Random Search Results for KNN Teste 2==========\n",
            "Best Score: 0.8547511312217193\n",
            "Best Hyperparameters: {'weights': 'uniform', 'n_neighbors': 9, 'metric': 'manhattan', 'algorithm': 'kd_tree'}\n",
            "=========Random Search Results for KNN Teste 2==========\n",
            "Best Score: 0.8548265460030166\n",
            "Best Hyperparameters: {'weights': 'distance', 'n_neighbors': 6, 'metric': 'manhattan', 'algorithm': 'kd_tree'}\n",
            "=========Random Search Results for KNN Teste 2==========\n",
            "Best Score: 0.8548265460030166\n",
            "Best Hyperparameters: {'weights': 'distance', 'n_neighbors': 6, 'metric': 'manhattan', 'algorithm': 'kd_tree'}\n",
            "=========Random Search Results for KNN Teste 2==========\n",
            "Best Score: 0.8548265460030166\n",
            "Best Hyperparameters: {'weights': 'distance', 'n_neighbors': 6, 'metric': 'manhattan', 'algorithm': 'kd_tree'}\n",
            "=========Random Search Results for KNN Teste 2==========\n",
            "Best Score: 0.8548265460030166\n",
            "Best Hyperparameters: {'weights': 'distance', 'n_neighbors': 6, 'metric': 'manhattan', 'algorithm': 'kd_tree'}\n",
            "=========Random Search Results for KNN Teste 2==========\n",
            "Best Score: 0.8548265460030166\n",
            "Best Hyperparameters: {'weights': 'distance', 'n_neighbors': 6, 'metric': 'manhattan', 'algorithm': 'kd_tree'}\n",
            "=========Random Search Results for KNN Teste 2==========\n",
            "Best Score: 0.8548265460030166\n",
            "Best Hyperparameters: {'weights': 'distance', 'n_neighbors': 6, 'metric': 'manhattan', 'algorithm': 'kd_tree'}\n",
            "=========Random Search Results for KNN Teste 2==========\n",
            "Best Score: 0.8548265460030166\n",
            "Best Hyperparameters: {'weights': 'distance', 'n_neighbors': 6, 'metric': 'manhattan', 'algorithm': 'kd_tree'}\n",
            "=========Random Search Results for KNN Teste 2==========\n",
            "Best Score: 0.8548265460030166\n",
            "Best Hyperparameters: {'weights': 'distance', 'n_neighbors': 6, 'metric': 'manhattan', 'algorithm': 'kd_tree'}\n",
            "=========Random Search Results for KNN Teste 2==========\n",
            "Best Score: 0.8548265460030166\n",
            "Best Hyperparameters: {'weights': 'distance', 'n_neighbors': 6, 'metric': 'manhattan', 'algorithm': 'kd_tree'}\n"
          ]
        }
      ],
      "source": [
        "knn_max_n_iter = len(knn_param['n_neighbors']) * len(knn_param['weights']) * len(knn_param['algorithm']) * len(knn_param['metric'])\n",
        "for_range = definir_n_iter(knn_max_n_iter)\n",
        "\n",
        "knn_best_scores = (0, {}, None)\n",
        "for i in for_range:\n",
        "  search_knn = RandomizedSearchCV(knn, knn_param, n_iter=i, scoring='accuracy', n_jobs=4, cv=cv, random_state=seed)\n",
        "  result_knn = search_knn.fit(X_train, y_train)\n",
        "  print('=========Random Search Results for KNN Teste 2==========')\n",
        "  print('Best Score: %s' % result_knn.best_score_)\n",
        "  print('Best Hyperparameters: %s' % result_knn.best_params_)\n",
        "\n",
        "  if result_knn.best_score_ > knn_best_scores[0]:\n",
        "    knn_best_scores = (result_knn.best_score_, result_knn.best_params_, result_knn)"
      ]
    },
    {
      "cell_type": "code",
      "execution_count": null,
      "metadata": {
        "colab": {
          "base_uri": "https://localhost:8080/"
        },
        "id": "P7c-HbCJhdDA",
        "outputId": "e52cfb1e-158d-47c3-edc4-d0f654ec9041"
      },
      "outputs": [
        {
          "name": "stdout",
          "output_type": "stream",
          "text": [
            "=========Random Search Results for KNN Teste 2==========\n",
            "Best Score: 85.4827%\n",
            "Best Hyperparameters: {'weights': 'distance', 'n_neighbors': 6, 'metric': 'manhattan', 'algorithm': 'kd_tree'}\n"
          ]
        }
      ],
      "source": [
        "print('=========Random Search Results for KNN Teste 2==========')\n",
        "print(f'Best Score: {round(knn_best_scores[0]*100, 4)}%')\n",
        "print(f'Best Hyperparameters: {knn_best_scores[1]}')\n",
        "result_knn = knn_best_scores[2]"
      ]
    },
    {
      "cell_type": "markdown",
      "metadata": {
        "id": "4BiNDq6Hn9wG"
      },
      "source": [
        "### RFC"
      ]
    },
    {
      "cell_type": "markdown",
      "metadata": {
        "id": "qZMxnjzbhmrH"
      },
      "source": [
        "#### Teste 1"
      ]
    },
    {
      "cell_type": "code",
      "execution_count": null,
      "metadata": {
        "id": "dJYrUK0hn88_"
      },
      "outputs": [],
      "source": [
        "rfc = RandomForestClassifier(random_state=seed)\n",
        "rfc_param = dict()\n",
        "rfc_param['n_estimators'] = [10, 30, 50, 70, 90]\n",
        "rfc_param['criterion'] = ['gini', 'entropy']\n",
        "rfc_param['min_samples_split'] = [2, 4, 6, 8, 10]\n",
        "rfc_param['max_features'] = ['auto', 'sqrt', 'log2']\n",
        "rfc_param['class_weight'] = ['balanced', 'balanced_subsample', None]"
      ]
    },
    {
      "cell_type": "code",
      "execution_count": null,
      "metadata": {
        "colab": {
          "base_uri": "https://localhost:8080/"
        },
        "id": "RfMRZS-XxxFs",
        "outputId": "53fb7a7c-3d0c-4f8e-c158-6cd64dfba128"
      },
      "outputs": [
        {
          "name": "stdout",
          "output_type": "stream",
          "text": [
            "=========Random Search Results for RFC Teste 1==========\n",
            "Best Score: 0.8722473604826547\n",
            "Best Hyperparameters: {'n_estimators': 70, 'min_samples_split': 8, 'max_features': 'sqrt', 'criterion': 'entropy', 'class_weight': 'balanced_subsample'}\n",
            "=========Random Search Results for RFC Teste 1==========\n",
            "Best Score: 0.8818250377073907\n",
            "Best Hyperparameters: {'n_estimators': 90, 'min_samples_split': 4, 'max_features': 'sqrt', 'criterion': 'entropy', 'class_weight': None}\n",
            "=========Random Search Results for RFC Teste 1==========\n",
            "Best Score: 0.8818250377073907\n",
            "Best Hyperparameters: {'n_estimators': 90, 'min_samples_split': 4, 'max_features': 'sqrt', 'criterion': 'entropy', 'class_weight': None}\n",
            "=========Random Search Results for RFC Teste 1==========\n",
            "Best Score: 0.8818250377073907\n",
            "Best Hyperparameters: {'n_estimators': 90, 'min_samples_split': 4, 'max_features': 'sqrt', 'criterion': 'entropy', 'class_weight': None}\n",
            "=========Random Search Results for RFC Teste 1==========\n",
            "Best Score: 0.8818250377073907\n",
            "Best Hyperparameters: {'n_estimators': 90, 'min_samples_split': 4, 'max_features': 'sqrt', 'criterion': 'entropy', 'class_weight': None}\n",
            "=========Random Search Results for RFC Teste 1==========\n",
            "Best Score: 0.8818250377073907\n",
            "Best Hyperparameters: {'n_estimators': 90, 'min_samples_split': 4, 'max_features': 'sqrt', 'criterion': 'entropy', 'class_weight': None}\n",
            "=========Random Search Results for RFC Teste 1==========\n",
            "Best Score: 0.8818250377073907\n",
            "Best Hyperparameters: {'n_estimators': 90, 'min_samples_split': 4, 'max_features': 'sqrt', 'criterion': 'entropy', 'class_weight': None}\n",
            "=========Random Search Results for RFC Teste 1==========\n",
            "Best Score: 0.8818250377073907\n",
            "Best Hyperparameters: {'n_estimators': 90, 'min_samples_split': 4, 'max_features': 'sqrt', 'criterion': 'entropy', 'class_weight': None}\n",
            "=========Random Search Results for RFC Teste 1==========\n",
            "Best Score: 0.8818250377073907\n",
            "Best Hyperparameters: {'n_estimators': 90, 'min_samples_split': 4, 'max_features': 'sqrt', 'criterion': 'entropy', 'class_weight': None}\n",
            "=========Random Search Results for RFC Teste 1==========\n",
            "Best Score: 0.8818250377073907\n",
            "Best Hyperparameters: {'n_estimators': 90, 'min_samples_split': 4, 'max_features': 'sqrt', 'criterion': 'entropy', 'class_weight': None}\n"
          ]
        }
      ],
      "source": [
        "rfc_max_n_iter = len(rfc_param['n_estimators']) * len(rfc_param['criterion']) * len(rfc_param['min_samples_split']) * len(rfc_param['max_features']) * len(rfc_param['class_weight'])\n",
        "for_range = definir_n_iter(rfc_max_n_iter)\n",
        "\n",
        "rfc_best_scores = (0, {}, None)\n",
        "for i in for_range:\n",
        "  search_rfc = RandomizedSearchCV(rfc, rfc_param, n_iter=i, scoring='accuracy', n_jobs=4, cv=cv, random_state=seed)\n",
        "  result_rfc = search_rfc.fit(X_train, y_train)\n",
        "  print('=========Random Search Results for RFC Teste 1==========')\n",
        "  print('Best Score: %s' % result_rfc.best_score_)\n",
        "  print('Best Hyperparameters: %s' % result_rfc.best_params_)\n",
        "\n",
        "  if result_rfc.best_score_ > rfc_best_scores[0]:\n",
        "    rfc_best_scores = (result_rfc.best_score_, result_rfc.best_params_, result_rfc)"
      ]
    },
    {
      "cell_type": "code",
      "execution_count": null,
      "metadata": {
        "colab": {
          "base_uri": "https://localhost:8080/"
        },
        "id": "-iguBVVCyahp",
        "outputId": "2ebd7fec-6765-42c7-a7da-d442228ff460"
      },
      "outputs": [
        {
          "name": "stdout",
          "output_type": "stream",
          "text": [
            "=========Random Search Results for RFC==========\n",
            "Best Score: 88.1825%\n",
            "Best Hyperparameters: {'n_estimators': 90, 'min_samples_split': 4, 'max_features': 'sqrt', 'criterion': 'entropy', 'class_weight': None}\n"
          ]
        }
      ],
      "source": [
        "print('=========Random Search Results for RFC==========')\n",
        "print(f'Best Score: {round(rfc_best_scores[0]*100, 4)}%')\n",
        "print(f'Best Hyperparameters: {rfc_best_scores[1]}')\n",
        "result_rfc = rfc_best_scores[2]"
      ]
    },
    {
      "cell_type": "markdown",
      "metadata": {
        "id": "8LJ4d72Oi0cr"
      },
      "source": [
        "#### Teste 2"
      ]
    },
    {
      "cell_type": "code",
      "execution_count": null,
      "metadata": {
        "id": "VQStCUemizeS"
      },
      "outputs": [],
      "source": [
        "rfc = RandomForestClassifier(random_state=seed)\n",
        "rfc_param = dict()\n",
        "rfc_param['n_estimators'] = [90, 92, 94, 96, 98, 100, 110, 120]\n",
        "rfc_param['criterion'] = ['entropy']\n",
        "rfc_param['min_samples_split'] = [3, 4, 5]\n",
        "rfc_param['max_features'] = ['sqrt']\n",
        "rfc_param['class_weight'] = [None]"
      ]
    },
    {
      "cell_type": "code",
      "execution_count": null,
      "metadata": {
        "colab": {
          "base_uri": "https://localhost:8080/"
        },
        "id": "P8RTqz2Si6uo",
        "outputId": "db835dee-1f23-4601-81ea-471a918b775a"
      },
      "outputs": [
        {
          "name": "stdout",
          "output_type": "stream",
          "text": [
            "=========Random Search Results for RFC Teste 2==========\n",
            "Best Score: 0.8664027149321267\n",
            "Best Hyperparameters: {'n_estimators': 92, 'min_samples_split': 3, 'max_features': 'sqrt', 'criterion': 'entropy', 'class_weight': None}\n",
            "=========Random Search Results for RFC Teste 2==========\n",
            "Best Score: 0.8818250377073907\n",
            "Best Hyperparameters: {'n_estimators': 96, 'min_samples_split': 4, 'max_features': 'sqrt', 'criterion': 'entropy', 'class_weight': None}\n",
            "=========Random Search Results for RFC Teste 2==========\n",
            "Best Score: 0.8818250377073907\n",
            "Best Hyperparameters: {'n_estimators': 96, 'min_samples_split': 4, 'max_features': 'sqrt', 'criterion': 'entropy', 'class_weight': None}\n",
            "=========Random Search Results for RFC Teste 2==========\n",
            "Best Score: 0.8818250377073907\n",
            "Best Hyperparameters: {'n_estimators': 96, 'min_samples_split': 4, 'max_features': 'sqrt', 'criterion': 'entropy', 'class_weight': None}\n",
            "=========Random Search Results for RFC Teste 2==========\n",
            "Best Score: 0.8818250377073907\n",
            "Best Hyperparameters: {'n_estimators': 96, 'min_samples_split': 4, 'max_features': 'sqrt', 'criterion': 'entropy', 'class_weight': None}\n",
            "=========Random Search Results for RFC Teste 2==========\n",
            "Best Score: 0.8818250377073907\n",
            "Best Hyperparameters: {'n_estimators': 96, 'min_samples_split': 4, 'max_features': 'sqrt', 'criterion': 'entropy', 'class_weight': None}\n",
            "=========Random Search Results for RFC Teste 2==========\n",
            "Best Score: 0.8818250377073907\n",
            "Best Hyperparameters: {'n_estimators': 96, 'min_samples_split': 4, 'max_features': 'sqrt', 'criterion': 'entropy', 'class_weight': None}\n",
            "=========Random Search Results for RFC Teste 2==========\n",
            "Best Score: 0.8818250377073907\n",
            "Best Hyperparameters: {'n_estimators': 96, 'min_samples_split': 4, 'max_features': 'sqrt', 'criterion': 'entropy', 'class_weight': None}\n",
            "=========Random Search Results for RFC Teste 2==========\n",
            "Best Score: 0.8818250377073907\n",
            "Best Hyperparameters: {'n_estimators': 96, 'min_samples_split': 4, 'max_features': 'sqrt', 'criterion': 'entropy', 'class_weight': None}\n",
            "=========Random Search Results for RFC Teste 2==========\n",
            "Best Score: 0.8818250377073907\n",
            "Best Hyperparameters: {'n_estimators': 96, 'min_samples_split': 4, 'max_features': 'sqrt', 'criterion': 'entropy', 'class_weight': None}\n"
          ]
        }
      ],
      "source": [
        "rfc_max_n_iter = len(rfc_param['n_estimators']) * len(rfc_param['criterion']) * len(rfc_param['min_samples_split']) * len(rfc_param['max_features']) * len(rfc_param['class_weight'])\n",
        "for_range = definir_n_iter(rfc_max_n_iter)\n",
        "\n",
        "rfc_best_scores = (0, {}, None)\n",
        "for i in for_range:\n",
        "  search_rfc = RandomizedSearchCV(rfc, rfc_param, n_iter=i, scoring='accuracy', n_jobs=4, cv=cv, random_state=seed)\n",
        "  result_rfc = search_rfc.fit(X_train, y_train)\n",
        "  print('=========Random Search Results for RFC Teste 2==========')\n",
        "  print('Best Score: %s' % result_rfc.best_score_)\n",
        "  print('Best Hyperparameters: %s' % result_rfc.best_params_)\n",
        "\n",
        "  if result_rfc.best_score_ > rfc_best_scores[0]:\n",
        "    rfc_best_scores = (result_rfc.best_score_, result_rfc.best_params_, result_rfc)"
      ]
    },
    {
      "cell_type": "code",
      "execution_count": null,
      "metadata": {
        "colab": {
          "base_uri": "https://localhost:8080/"
        },
        "id": "2Vv8UDX7i20Q",
        "outputId": "25395a12-0919-48ee-afed-1ff3bc39ed31"
      },
      "outputs": [
        {
          "name": "stdout",
          "output_type": "stream",
          "text": [
            "=========Random Search Results for RFC Teste 2==========\n",
            "Best Score: 88.1825%\n",
            "Best Hyperparameters: {'n_estimators': 96, 'min_samples_split': 4, 'max_features': 'sqrt', 'criterion': 'entropy', 'class_weight': None}\n"
          ]
        }
      ],
      "source": [
        "print('=========Random Search Results for RFC Teste 2==========')\n",
        "print(f'Best Score: {round(rfc_best_scores[0]*100, 4)}%')\n",
        "print(f'Best Hyperparameters: {rfc_best_scores[1]}')\n",
        "result_rfc = rfc_best_scores[2]"
      ]
    },
    {
      "cell_type": "markdown",
      "metadata": {
        "id": "6IPwSiB-8FNX"
      },
      "source": [
        "### MLP"
      ]
    },
    {
      "cell_type": "code",
      "execution_count": null,
      "metadata": {
        "id": "WyWkElKi8EdS"
      },
      "outputs": [],
      "source": [
        "from random import shuffle\n",
        "\n",
        "hidden_layer_sizes_1 = [(6, 6), (8, 8), (36, 36), (16, 16)]\n",
        "\n",
        "hidden_layer_sizes_2 = [(16, 8, 4), (32, 16, 8), (64, 32, 16), (36, 24, 36)]\n",
        "\n",
        "hidden_layer_sizes_3 = [(8, 32, 16, 8), (16, 64, 32, 16), (32, 128, 64, 32)]\n",
        "\n",
        "hidden_layer_sizes_4 = [(36, 50, 45, 36), (36, 24, 36), (36, 24, 12, 36)]\n",
        "\n",
        "shuffle(hidden_layer_sizes_1)\n",
        "shuffle(hidden_layer_sizes_2)\n",
        "shuffle(hidden_layer_sizes_3)\n",
        "shuffle(hidden_layer_sizes_4)"
      ]
    },
    {
      "cell_type": "markdown",
      "metadata": {
        "id": "k4i1e6jkje1k"
      },
      "source": [
        "#### Teste 1\n"
      ]
    },
    {
      "cell_type": "code",
      "execution_count": null,
      "metadata": {
        "id": "AxKhQjbMQrET"
      },
      "outputs": [],
      "source": [
        "mlp = MLP = MLPClassifier(random_state=seed, alpha=1e-5)\n",
        "mlp_param = dict()\n",
        "mlp_param['solver'] =  ['lbfgs', 'adam']\n",
        "mlp_param['activation'] = ['identity', 'tanh']\n",
        "mlp_param['hidden_layer_sizes'] = hidden_layer_sizes_1\n",
        "mlp_param['learning_rate'] = ['constant', 'adaptive']"
      ]
    },
    {
      "cell_type": "code",
      "execution_count": null,
      "metadata": {
        "colab": {
          "base_uri": "https://localhost:8080/"
        },
        "id": "XwxEshxj-K-1",
        "outputId": "dedb02b3-f8b3-4107-fdbb-2dd31c3398ad"
      },
      "outputs": [
        {
          "name": "stdout",
          "output_type": "stream",
          "text": [
            "=========Random Search Results for MLP Teste 1==========\n",
            "Best Score: 0.835444947209653\n",
            "Best Hyperparameters: {'solver': 'lbfgs', 'learning_rate': 'adaptive', 'hidden_layer_sizes': (36, 36), 'activation': 'identity'}\n",
            "=========Random Search Results for MLP Teste 1==========\n",
            "Best Score: 0.8490196078431372\n",
            "Best Hyperparameters: {'solver': 'adam', 'learning_rate': 'constant', 'hidden_layer_sizes': (6, 6), 'activation': 'identity'}\n",
            "=========Random Search Results for MLP Teste 1==========\n",
            "Best Score: 0.8529034690799395\n",
            "Best Hyperparameters: {'solver': 'adam', 'learning_rate': 'constant', 'hidden_layer_sizes': (8, 8), 'activation': 'identity'}\n",
            "=========Random Search Results for MLP Teste 1==========\n",
            "Best Score: 0.8529034690799395\n",
            "Best Hyperparameters: {'solver': 'adam', 'learning_rate': 'constant', 'hidden_layer_sizes': (8, 8), 'activation': 'identity'}\n",
            "=========Random Search Results for MLP Teste 1==========\n",
            "Best Score: 0.8547511312217196\n",
            "Best Hyperparameters: {'solver': 'adam', 'learning_rate': 'constant', 'hidden_layer_sizes': (36, 36), 'activation': 'tanh'}\n",
            "=========Random Search Results for MLP Teste 1==========\n",
            "Best Score: 0.8567119155354449\n",
            "Best Hyperparameters: {'solver': 'adam', 'learning_rate': 'constant', 'hidden_layer_sizes': (8, 8), 'activation': 'tanh'}\n",
            "=========Random Search Results for MLP Teste 1==========\n",
            "Best Score: 0.8585972850678733\n",
            "Best Hyperparameters: {'solver': 'adam', 'learning_rate': 'adaptive', 'hidden_layer_sizes': (16, 16), 'activation': 'tanh'}\n",
            "=========Random Search Results for MLP Teste 1==========\n",
            "Best Score: 0.8585972850678733\n",
            "Best Hyperparameters: {'solver': 'adam', 'learning_rate': 'adaptive', 'hidden_layer_sizes': (16, 16), 'activation': 'tanh'}\n",
            "=========Random Search Results for MLP Teste 1==========\n",
            "Best Score: 0.8585972850678733\n",
            "Best Hyperparameters: {'solver': 'adam', 'learning_rate': 'adaptive', 'hidden_layer_sizes': (16, 16), 'activation': 'tanh'}\n",
            "=========Random Search Results for MLP Teste 1==========\n",
            "Best Score: 0.8585972850678733\n",
            "Best Hyperparameters: {'solver': 'adam', 'learning_rate': 'adaptive', 'hidden_layer_sizes': (16, 16), 'activation': 'tanh'}\n"
          ]
        }
      ],
      "source": [
        "mlp_max_n_iter = len(mlp_param['solver']) * len(mlp_param['activation']) * len(mlp_param['hidden_layer_sizes']) * len(mlp_param['learning_rate'])\n",
        "for_range = definir_n_iter(mlp_max_n_iter)\n",
        "\n",
        "mlp_best_scores = (0, {}, None)\n",
        "for i in for_range:\n",
        "  search_mlp = RandomizedSearchCV(mlp, mlp_param, n_iter=i, scoring='accuracy', n_jobs=4, cv=cv, random_state=seed)\n",
        "  result_mlp = search_mlp.fit(X_train, y_train)\n",
        "  print('=========Random Search Results for MLP Teste 1==========')\n",
        "  print('Best Score: %s' % result_mlp.best_score_)\n",
        "  print('Best Hyperparameters: %s' % result_mlp.best_params_)\n",
        "\n",
        "  if result_mlp.best_score_ > mlp_best_scores[0]:\n",
        "    mlp_best_scores = (result_mlp.best_score_, result_mlp.best_params_, result_mlp)"
      ]
    },
    {
      "cell_type": "code",
      "execution_count": null,
      "metadata": {
        "colab": {
          "base_uri": "https://localhost:8080/"
        },
        "id": "U6nVTIg6Br7k",
        "outputId": "46d40b3c-506d-4850-b138-808515a4d73b"
      },
      "outputs": [
        {
          "name": "stdout",
          "output_type": "stream",
          "text": [
            "=========Random Search Results for MLP Teste 1==========\n",
            "Best Score: 85.8597%\n",
            "Best Hyperparameters: {'solver': 'adam', 'learning_rate': 'adaptive', 'hidden_layer_sizes': (16, 16), 'activation': 'tanh'}\n"
          ]
        }
      ],
      "source": [
        "print('=========Random Search Results for MLP Teste 1==========')\n",
        "print(f'Best Score: {round(mlp_best_scores[0]*100, 4)}%')\n",
        "print(f'Best Hyperparameters: {mlp_best_scores[1]}')\n",
        "result_mlp = mlp_best_scores[2]"
      ]
    },
    {
      "cell_type": "markdown",
      "metadata": {
        "id": "dDWS1_p-jhsW"
      },
      "source": [
        "#### Teste 2"
      ]
    },
    {
      "cell_type": "code",
      "execution_count": null,
      "metadata": {
        "id": "kwryVP6eRATs"
      },
      "outputs": [],
      "source": [
        "mlp = MLP = MLPClassifier(random_state=seed, alpha=1e-5)\n",
        "mlp_param = dict()\n",
        "mlp_param['solver'] =  ['lbfgs', 'adam']\n",
        "mlp_param['activation'] = ['identity', 'tanh']\n",
        "mlp_param['hidden_layer_sizes'] = hidden_layer_sizes_2\n",
        "mlp_param['learning_rate'] = ['constant', 'adaptive']"
      ]
    },
    {
      "cell_type": "code",
      "execution_count": null,
      "metadata": {
        "colab": {
          "base_uri": "https://localhost:8080/"
        },
        "id": "wicYIl_fRBPt",
        "outputId": "31cd9b76-99e4-41fb-f55b-d4fd82262cec"
      },
      "outputs": [
        {
          "name": "stdout",
          "output_type": "stream",
          "text": [
            "=========Random Search Results for MLP Teste 2==========\n",
            "Best Score: 0.835444947209653\n",
            "Best Hyperparameters: {'solver': 'lbfgs', 'learning_rate': 'adaptive', 'hidden_layer_sizes': (36, 24, 36), 'activation': 'identity'}\n",
            "=========Random Search Results for MLP Teste 2==========\n",
            "Best Score: 0.8432503770739066\n",
            "Best Hyperparameters: {'solver': 'adam', 'learning_rate': 'constant', 'hidden_layer_sizes': (36, 24, 36), 'activation': 'identity'}\n",
            "=========Random Search Results for MLP Teste 2==========\n",
            "Best Score: 0.845135746606335\n",
            "Best Hyperparameters: {'solver': 'adam', 'learning_rate': 'constant', 'hidden_layer_sizes': (16, 8, 4), 'activation': 'identity'}\n",
            "=========Random Search Results for MLP Teste 2==========\n",
            "Best Score: 0.845135746606335\n",
            "Best Hyperparameters: {'solver': 'adam', 'learning_rate': 'constant', 'hidden_layer_sizes': (16, 8, 4), 'activation': 'identity'}\n",
            "=========Random Search Results for MLP Teste 2==========\n",
            "Best Score: 0.8489819004524886\n",
            "Best Hyperparameters: {'solver': 'adam', 'learning_rate': 'adaptive', 'hidden_layer_sizes': (64, 32, 16), 'activation': 'tanh'}\n",
            "=========Random Search Results for MLP Teste 2==========\n",
            "Best Score: 0.8547888386123681\n",
            "Best Hyperparameters: {'solver': 'adam', 'learning_rate': 'constant', 'hidden_layer_sizes': (16, 8, 4), 'activation': 'tanh'}\n",
            "=========Random Search Results for MLP Teste 2==========\n",
            "Best Score: 0.8547888386123681\n",
            "Best Hyperparameters: {'solver': 'adam', 'learning_rate': 'constant', 'hidden_layer_sizes': (16, 8, 4), 'activation': 'tanh'}\n",
            "=========Random Search Results for MLP Teste 2==========\n",
            "Best Score: 0.8547888386123681\n",
            "Best Hyperparameters: {'solver': 'adam', 'learning_rate': 'constant', 'hidden_layer_sizes': (16, 8, 4), 'activation': 'tanh'}\n",
            "=========Random Search Results for MLP Teste 2==========\n",
            "Best Score: 0.8547888386123681\n",
            "Best Hyperparameters: {'solver': 'adam', 'learning_rate': 'constant', 'hidden_layer_sizes': (16, 8, 4), 'activation': 'tanh'}\n",
            "=========Random Search Results for MLP Teste 2==========\n",
            "Best Score: 0.8547888386123681\n",
            "Best Hyperparameters: {'solver': 'adam', 'learning_rate': 'constant', 'hidden_layer_sizes': (16, 8, 4), 'activation': 'tanh'}\n"
          ]
        }
      ],
      "source": [
        "mlp_max_n_iter = len(mlp_param['solver']) * len(mlp_param['activation']) * len(mlp_param['hidden_layer_sizes']) * len(mlp_param['learning_rate'])\n",
        "for_range = definir_n_iter(mlp_max_n_iter)\n",
        "\n",
        "mlp_best_scores = (0, {}, None)\n",
        "for i in for_range:\n",
        "  search_mlp = RandomizedSearchCV(mlp, mlp_param, n_iter=i, scoring='accuracy', n_jobs=4, cv=cv, random_state=seed)\n",
        "  result_mlp = search_mlp.fit(X_train, y_train)\n",
        "  print('=========Random Search Results for MLP Teste 2==========')\n",
        "  print('Best Score: %s' % result_mlp.best_score_)\n",
        "  print('Best Hyperparameters: %s' % result_mlp.best_params_)\n",
        "\n",
        "  if result_mlp.best_score_ > mlp_best_scores[0]:\n",
        "    mlp_best_scores = (result_mlp.best_score_, result_mlp.best_params_, result_mlp)"
      ]
    },
    {
      "cell_type": "code",
      "execution_count": null,
      "metadata": {
        "colab": {
          "base_uri": "https://localhost:8080/"
        },
        "id": "w_lsq05FRCmG",
        "outputId": "051e3ea8-0a22-4bbd-bcb6-21f8f40a0a7a"
      },
      "outputs": [
        {
          "name": "stdout",
          "output_type": "stream",
          "text": [
            "=========Random Search Results for MLP Teste 2==========\n",
            "Best Score: 85.4789%\n",
            "Best Hyperparameters: {'solver': 'adam', 'learning_rate': 'constant', 'hidden_layer_sizes': (16, 8, 4), 'activation': 'tanh'}\n"
          ]
        }
      ],
      "source": [
        "print('=========Random Search Results for MLP Teste 2==========')\n",
        "print(f'Best Score: {round(mlp_best_scores[0]*100, 4)}%')\n",
        "print(f'Best Hyperparameters: {mlp_best_scores[1]}')\n",
        "result_mlp = mlp_best_scores[2]"
      ]
    },
    {
      "cell_type": "markdown",
      "metadata": {
        "id": "pUNnZA66RIu5"
      },
      "source": [
        "#### Teste 3"
      ]
    },
    {
      "cell_type": "code",
      "execution_count": null,
      "metadata": {
        "id": "i1_ABVfmRLJk"
      },
      "outputs": [],
      "source": [
        "mlp = MLP = MLPClassifier(random_state=seed, alpha=1e-5)\n",
        "mlp_param = dict()\n",
        "mlp_param['solver'] =  ['lbfgs', 'adam']\n",
        "mlp_param['activation'] = ['identity', 'tanh']\n",
        "mlp_param['hidden_layer_sizes'] = hidden_layer_sizes_3\n",
        "mlp_param['learning_rate'] = ['constant', 'adaptive']"
      ]
    },
    {
      "cell_type": "code",
      "execution_count": null,
      "metadata": {
        "colab": {
          "base_uri": "https://localhost:8080/"
        },
        "id": "jb-9SPGdRMdY",
        "outputId": "9b4f6d61-a083-45c3-e034-6edc495273a3"
      },
      "outputs": [
        {
          "name": "stdout",
          "output_type": "stream",
          "text": [
            "=========Random Search Results for MLP Teste 3==========\n",
            "Best Score: 0.845135746606335\n",
            "Best Hyperparameters: {'solver': 'adam', 'learning_rate': 'constant', 'hidden_layer_sizes': (16, 64, 32, 16), 'activation': 'identity'}\n",
            "=========Random Search Results for MLP Teste 3==========\n",
            "Best Score: 0.8585972850678733\n",
            "Best Hyperparameters: {'solver': 'adam', 'learning_rate': 'constant', 'hidden_layer_sizes': (16, 64, 32, 16), 'activation': 'tanh'}\n",
            "=========Random Search Results for MLP Teste 3==========\n",
            "Best Score: 0.8585972850678733\n",
            "Best Hyperparameters: {'solver': 'adam', 'learning_rate': 'constant', 'hidden_layer_sizes': (16, 64, 32, 16), 'activation': 'tanh'}\n",
            "=========Random Search Results for MLP Teste 3==========\n",
            "Best Score: 0.8585972850678733\n",
            "Best Hyperparameters: {'solver': 'adam', 'learning_rate': 'constant', 'hidden_layer_sizes': (16, 64, 32, 16), 'activation': 'tanh'}\n",
            "=========Random Search Results for MLP Teste 3==========\n",
            "Best Score: 0.8585972850678733\n",
            "Best Hyperparameters: {'solver': 'adam', 'learning_rate': 'constant', 'hidden_layer_sizes': (16, 64, 32, 16), 'activation': 'tanh'}\n",
            "=========Random Search Results for MLP Teste 3==========\n",
            "Best Score: 0.8585972850678733\n",
            "Best Hyperparameters: {'solver': 'adam', 'learning_rate': 'constant', 'hidden_layer_sizes': (16, 64, 32, 16), 'activation': 'tanh'}\n",
            "=========Random Search Results for MLP Teste 3==========\n",
            "Best Score: 0.8586349924585217\n",
            "Best Hyperparameters: {'solver': 'adam', 'learning_rate': 'constant', 'hidden_layer_sizes': (8, 32, 16, 8), 'activation': 'tanh'}\n",
            "=========Random Search Results for MLP Teste 3==========\n",
            "Best Score: 0.8586349924585217\n",
            "Best Hyperparameters: {'solver': 'adam', 'learning_rate': 'constant', 'hidden_layer_sizes': (8, 32, 16, 8), 'activation': 'tanh'}\n",
            "=========Random Search Results for MLP Teste 3==========\n",
            "Best Score: 0.8586349924585217\n",
            "Best Hyperparameters: {'solver': 'adam', 'learning_rate': 'constant', 'hidden_layer_sizes': (8, 32, 16, 8), 'activation': 'tanh'}\n",
            "=========Random Search Results for MLP Teste 3==========\n",
            "Best Score: 0.8586349924585217\n",
            "Best Hyperparameters: {'solver': 'adam', 'learning_rate': 'constant', 'hidden_layer_sizes': (8, 32, 16, 8), 'activation': 'tanh'}\n"
          ]
        }
      ],
      "source": [
        "mlp_max_n_iter = len(mlp_param['solver']) * len(mlp_param['activation']) * len(mlp_param['hidden_layer_sizes']) * len(mlp_param['learning_rate'])\n",
        "for_range = definir_n_iter(mlp_max_n_iter)\n",
        "\n",
        "mlp_best_scores = (0, {}, None)\n",
        "for i in for_range:\n",
        "  search_mlp = RandomizedSearchCV(mlp, mlp_param, n_iter=i, scoring='accuracy', n_jobs=4, cv=cv, random_state=seed)\n",
        "  result_mlp = search_mlp.fit(X_train, y_train)\n",
        "  print('=========Random Search Results for MLP Teste 3==========')\n",
        "  print('Best Score: %s' % result_mlp.best_score_)\n",
        "  print('Best Hyperparameters: %s' % result_mlp.best_params_)\n",
        "\n",
        "  if result_mlp.best_score_ > mlp_best_scores[0]:\n",
        "    mlp_best_scores = (result_mlp.best_score_, result_mlp.best_params_, result_mlp)"
      ]
    },
    {
      "cell_type": "code",
      "execution_count": null,
      "metadata": {
        "colab": {
          "base_uri": "https://localhost:8080/"
        },
        "id": "g7aej1zVRNvh",
        "outputId": "3b27c4ff-00e5-46be-a2c1-48c9fbca20cf"
      },
      "outputs": [
        {
          "name": "stdout",
          "output_type": "stream",
          "text": [
            "=========Random Search Results for MLP Teste 3==========\n",
            "Best Score: 85.8635%\n",
            "Best Hyperparameters: {'solver': 'adam', 'learning_rate': 'constant', 'hidden_layer_sizes': (8, 32, 16, 8), 'activation': 'tanh'}\n"
          ]
        }
      ],
      "source": [
        "print('=========Random Search Results for MLP Teste 3==========')\n",
        "print(f'Best Score: {round(mlp_best_scores[0]*100, 4)}%')\n",
        "print(f'Best Hyperparameters: {mlp_best_scores[1]}')\n",
        "result_mlp = mlp_best_scores[2]"
      ]
    },
    {
      "cell_type": "markdown",
      "metadata": {
        "id": "hQ6lYiZjRStI"
      },
      "source": [
        "#### Teste 4"
      ]
    },
    {
      "cell_type": "code",
      "execution_count": null,
      "metadata": {
        "id": "YLAhv7KYRVzZ"
      },
      "outputs": [],
      "source": [
        "mlp = MLP = MLPClassifier(random_state=seed, alpha=1e-5)\n",
        "mlp_param = dict()\n",
        "mlp_param['solver'] =  ['lbfgs', 'adam']\n",
        "mlp_param['activation'] = ['identity', 'tanh']\n",
        "mlp_param['hidden_layer_sizes'] = hidden_layer_sizes_4\n",
        "mlp_param['learning_rate'] = ['constant', 'adaptive']"
      ]
    },
    {
      "cell_type": "code",
      "execution_count": null,
      "metadata": {
        "colab": {
          "background_save": true,
          "base_uri": "https://localhost:8080/"
        },
        "id": "Bq6qyE5ORXBP",
        "outputId": "40fa0c37-2dce-4272-dda7-cccbbb4173b1"
      },
      "outputs": [
        {
          "name": "stdout",
          "output_type": "stream",
          "text": [
            "=========Random Search Results for MLP Teste 4==========\n",
            "Best Score: 0.8355203619909503\n",
            "Best Hyperparameters: {'solver': 'lbfgs', 'learning_rate': 'adaptive', 'hidden_layer_sizes': (36, 50, 45, 36), 'activation': 'tanh'}\n",
            "=========Random Search Results for MLP Teste 4==========\n",
            "Best Score: 0.8490573152337859\n",
            "Best Hyperparameters: {'solver': 'adam', 'learning_rate': 'constant', 'hidden_layer_sizes': (36, 50, 45, 36), 'activation': 'identity'}\n",
            "=========Random Search Results for MLP Teste 4==========\n",
            "Best Score: 0.8490573152337859\n",
            "Best Hyperparameters: {'solver': 'adam', 'learning_rate': 'constant', 'hidden_layer_sizes': (36, 50, 45, 36), 'activation': 'identity'}\n",
            "=========Random Search Results for MLP Teste 4==========\n",
            "Best Score: 0.8490573152337859\n",
            "Best Hyperparameters: {'solver': 'adam', 'learning_rate': 'constant', 'hidden_layer_sizes': (36, 50, 45, 36), 'activation': 'identity'}\n",
            "=========Random Search Results for MLP Teste 4==========\n",
            "Best Score: 0.8490573152337859\n",
            "Best Hyperparameters: {'solver': 'adam', 'learning_rate': 'constant', 'hidden_layer_sizes': (36, 50, 45, 36), 'activation': 'identity'}\n",
            "=========Random Search Results for MLP Teste 4==========\n",
            "Best Score: 0.8547511312217196\n",
            "Best Hyperparameters: {'solver': 'adam', 'learning_rate': 'constant', 'hidden_layer_sizes': (36, 36), 'activation': 'tanh'}\n",
            "=========Random Search Results for MLP Teste 4==========\n",
            "Best Score: 0.8547511312217196\n",
            "Best Hyperparameters: {'solver': 'adam', 'learning_rate': 'constant', 'hidden_layer_sizes': (36, 36), 'activation': 'tanh'}\n",
            "=========Random Search Results for MLP Teste 4==========\n",
            "Best Score: 0.8547511312217196\n",
            "Best Hyperparameters: {'solver': 'adam', 'learning_rate': 'constant', 'hidden_layer_sizes': (36, 36), 'activation': 'tanh'}\n",
            "=========Random Search Results for MLP Teste 4==========\n",
            "Best Score: 0.8547511312217196\n",
            "Best Hyperparameters: {'solver': 'adam', 'learning_rate': 'constant', 'hidden_layer_sizes': (36, 36), 'activation': 'tanh'}\n",
            "=========Random Search Results for MLP Teste 4==========\n",
            "Best Score: 0.8547511312217196\n",
            "Best Hyperparameters: {'solver': 'adam', 'learning_rate': 'constant', 'hidden_layer_sizes': (36, 36), 'activation': 'tanh'}\n"
          ]
        }
      ],
      "source": [
        "mlp_max_n_iter = len(mlp_param['solver']) * len(mlp_param['activation']) * len(mlp_param['hidden_layer_sizes']) * len(mlp_param['learning_rate'])\n",
        "for_range = definir_n_iter(mlp_max_n_iter)\n",
        "\n",
        "mlp_best_scores = (0, {}, None)\n",
        "for i in for_range:\n",
        "  search_mlp = RandomizedSearchCV(mlp, mlp_param, n_iter=i, scoring='accuracy', n_jobs=4, cv=cv, random_state=seed)\n",
        "  result_mlp = search_mlp.fit(X_train, y_train)\n",
        "  print('=========Random Search Results for MLP Teste 4==========')\n",
        "  print('Best Score: %s' % result_mlp.best_score_)\n",
        "  print('Best Hyperparameters: %s' % result_mlp.best_params_)\n",
        "\n",
        "  if result_mlp.best_score_ > mlp_best_scores[0]:\n",
        "    mlp_best_scores = (result_mlp.best_score_, result_mlp.best_params_, result_mlp)"
      ]
    },
    {
      "cell_type": "code",
      "execution_count": null,
      "metadata": {
        "colab": {
          "background_save": true
        },
        "id": "eP8bIjv8RYOs",
        "outputId": "d42f9b93-3c1a-49c0-dd5e-ba77c6b049b4"
      },
      "outputs": [
        {
          "name": "stdout",
          "output_type": "stream",
          "text": [
            "=========Random Search Results for MLP Teste 4==========\n",
            "Best Score: 85.4751%\n",
            "Best Hyperparameters: {'solver': 'adam', 'learning_rate': 'constant', 'hidden_layer_sizes': (36, 36), 'activation': 'tanh'}\n"
          ]
        }
      ],
      "source": [
        "print('=========Random Search Results for MLP Teste 4==========')\n",
        "print(f'Best Score: {round(mlp_best_scores[0]*100, 4)}%')\n",
        "print(f'Best Hyperparameters: {mlp_best_scores[1]}')\n",
        "result_mlp = mlp_best_scores[2]"
      ]
    },
    {
      "cell_type": "markdown",
      "source": [
        "#### Teste 5"
      ],
      "metadata": {
        "id": "aqxqPxJRZiif"
      }
    },
    {
      "cell_type": "code",
      "source": [
        "mlp = MLP = MLPClassifier(random_state=seed, alpha=1e-5)\n",
        "mlp_param = dict()\n",
        "mlp_param['solver'] =  ['adam']\n",
        "mlp_param['activation'] = ['identity', 'tanh']\n",
        "mlp_param['hidden_layer_sizes'] = [(8,8),(16,16),(36, 36),(16, 8, 4),(8, 32, 16, 8),(16, 64, 32, 16),(36, 50, 45, 36)]\n",
        "mlp_param['learning_rate'] = ['constant']"
      ],
      "metadata": {
        "id": "s4KuHP5HZl55"
      },
      "execution_count": 16,
      "outputs": []
    },
    {
      "cell_type": "code",
      "source": [
        "mlp_max_n_iter = len(mlp_param['solver']) * len(mlp_param['activation']) * len(mlp_param['hidden_layer_sizes']) * len(mlp_param['learning_rate'])\n",
        "for_range = definir_n_iter(mlp_max_n_iter)\n",
        "\n",
        "mlp_best_scores = (0, {}, None)\n",
        "for i in for_range:\n",
        "  search_mlp = RandomizedSearchCV(mlp, mlp_param, n_iter=i, scoring='accuracy', n_jobs=4, cv=cv, random_state=seed)\n",
        "  result_mlp = search_mlp.fit(X_train, y_train)\n",
        "  print('=========Random Search Results for MLP Teste 5==========')\n",
        "  print('Best Score: %s' % result_mlp.best_score_)\n",
        "  print('Best Hyperparameters: %s' % result_mlp.best_params_)\n",
        "\n",
        "  if result_mlp.best_score_ > mlp_best_scores[0]:\n",
        "    mlp_best_scores = (result_mlp.best_score_, result_mlp.best_params_, result_mlp)"
      ],
      "metadata": {
        "colab": {
          "base_uri": "https://localhost:8080/"
        },
        "id": "uimbyIpwZmGu",
        "outputId": "a12995a0-081f-490f-a0ae-f484216d0cdd"
      },
      "execution_count": null,
      "outputs": [
        {
          "output_type": "stream",
          "name": "stdout",
          "text": [
            "=========Random Search Results for MLP Teste 5==========\n",
            "Best Score: 0.8586349924585217\n",
            "Best Hyperparameters: {'solver': 'adam', 'learning_rate': 'constant', 'hidden_layer_sizes': (8, 32, 16, 8), 'activation': 'tanh'}\n",
            "=========Random Search Results for MLP Teste 5==========\n",
            "Best Score: 0.8586349924585217\n",
            "Best Hyperparameters: {'solver': 'adam', 'learning_rate': 'constant', 'hidden_layer_sizes': (8, 32, 16, 8), 'activation': 'tanh'}\n",
            "=========Random Search Results for MLP Teste 5==========\n",
            "Best Score: 0.8586349924585217\n",
            "Best Hyperparameters: {'solver': 'adam', 'learning_rate': 'constant', 'hidden_layer_sizes': (8, 32, 16, 8), 'activation': 'tanh'}\n",
            "=========Random Search Results for MLP Teste 5==========\n",
            "Best Score: 0.8586349924585217\n",
            "Best Hyperparameters: {'solver': 'adam', 'learning_rate': 'constant', 'hidden_layer_sizes': (8, 32, 16, 8), 'activation': 'tanh'}\n",
            "=========Random Search Results for MLP Teste 5==========\n",
            "Best Score: 0.8586349924585217\n",
            "Best Hyperparameters: {'solver': 'adam', 'learning_rate': 'constant', 'hidden_layer_sizes': (8, 32, 16, 8), 'activation': 'tanh'}\n",
            "=========Random Search Results for MLP Teste 5==========\n",
            "Best Score: 0.8586349924585217\n",
            "Best Hyperparameters: {'solver': 'adam', 'learning_rate': 'constant', 'hidden_layer_sizes': (8, 32, 16, 8), 'activation': 'tanh'}\n",
            "=========Random Search Results for MLP Teste 5==========\n",
            "Best Score: 0.8586349924585217\n",
            "Best Hyperparameters: {'solver': 'adam', 'learning_rate': 'constant', 'hidden_layer_sizes': (8, 32, 16, 8), 'activation': 'tanh'}\n",
            "=========Random Search Results for MLP Teste 5==========\n",
            "Best Score: 0.8586349924585217\n",
            "Best Hyperparameters: {'solver': 'adam', 'learning_rate': 'constant', 'hidden_layer_sizes': (8, 32, 16, 8), 'activation': 'tanh'}\n",
            "=========Random Search Results for MLP Teste 5==========\n",
            "Best Score: 0.8586349924585217\n",
            "Best Hyperparameters: {'solver': 'adam', 'learning_rate': 'constant', 'hidden_layer_sizes': (8, 32, 16, 8), 'activation': 'tanh'}\n",
            "=========Random Search Results for MLP Teste 5==========\n",
            "Best Score: 0.8586349924585217\n",
            "Best Hyperparameters: {'solver': 'adam', 'learning_rate': 'constant', 'hidden_layer_sizes': (8, 32, 16, 8), 'activation': 'tanh'}\n",
            "=========Random Search Results for MLP Teste 5==========\n",
            "Best Score: 0.8586349924585217\n",
            "Best Hyperparameters: {'solver': 'adam', 'learning_rate': 'constant', 'hidden_layer_sizes': (8, 32, 16, 8), 'activation': 'tanh'}\n",
            "=========Random Search Results for MLP Teste 5==========\n",
            "Best Score: 0.8586349924585217\n",
            "Best Hyperparameters: {'solver': 'adam', 'learning_rate': 'constant', 'hidden_layer_sizes': (8, 32, 16, 8), 'activation': 'tanh'}\n"
          ]
        }
      ]
    },
    {
      "cell_type": "code",
      "source": [
        "print('=========Random Search Results for MLP Teste 5==========')\n",
        "print(f'Best Score: {round(mlp_best_scores[0]*100, 4)}%')\n",
        "print(f'Best Hyperparameters: {mlp_best_scores[1]}')\n",
        "result_mlp = mlp_best_scores[2]"
      ],
      "metadata": {
        "id": "tTGtlsyzZmOQ"
      },
      "execution_count": null,
      "outputs": []
    },
    {
      "cell_type": "markdown",
      "metadata": {
        "id": "lR-Z2ytzU2HB"
      },
      "source": [
        "# Classificação com as melhores configurações"
      ]
    },
    {
      "cell_type": "code",
      "execution_count": 13,
      "metadata": {
        "id": "8IxcqQ2eHYqB"
      },
      "outputs": [],
      "source": [
        "#8. Definicao dos modelos de classificacao com as melhores configuracoes\n",
        "# criacao dos modelos com os melhores parametros\n",
        "\n",
        "### KNN = result_knn.best_estimator_\n",
        "### RFC = result_rfc.best_estimator_\n",
        "### SVC = result_svc.best_estimator_\n",
        "### DTC = result_tree.best_estimator_ \n",
        "#MLP = result_mlp.best_estimator_\n",
        "#LVQ = result_lvq.best_estimator_\n",
        "#BMLP = BaggingClassifier(base_estimator=MLP, n_estimators=10, random_state=seed)\n",
        "\n",
        "KNN = KNeighborsClassifier(weights = 'distance', n_neighbors = 6, metric = 'manhattan', algorithm = 'kd_tree')\n",
        "RFC = RandomForestClassifier(random_state=seed, n_estimators = 96, min_samples_split = 4, max_features = 'sqrt', criterion = 'entropy', class_weight = None)\n",
        "SVC = SVC(kernel = 'rbf', gamma = 'auto', decision_function_shape = 'ovr', C = 25)\n",
        "DTC = DecisionTreeClassifier(criterion = 'entropy', min_samples_leaf = 2, max_depth = 8, min_samples_split = 5)\n",
        "MLP = MLPClassifier(random_state=seed, alpha=1e-5, solver = 'adam', learning_rate = 'constant', hidden_layer_sizes = (8, 32, 16, 8), activation = 'tanh')\n",
        "LVQ = algorithms.LVQ(n_inputs=X_train.shape[1], n_classes=2, n_subclasses=12, prototypes_per_class = [6,6], step = 0.01)\n",
        "\n",
        "#adiciona os modelos em uma lista\n",
        "models = []\n",
        "models.append(('K-NN', KNN))\n",
        "models.append(('Arvore', DTC))\n",
        "models.append(('SVM', SVC))\n",
        "models.append(('ComiteArvore', RFC))\n",
        "models.append(('RedeNeural', MLP))\n",
        "#models.append(('ComiteRede', BMLP))\n",
        "models.append(('LVQ', LVQ))\n",
        "# evaluate each model in turn\n",
        "results = []\n",
        "names = []\n",
        "#deficao da metrica a ser utilizada\n",
        "scoring = 'accuracy'\n",
        "\n",
        "#9. Definicao do modelo experimental\n",
        "#amostragem estratificada\n",
        "#kfold = cv"
      ]
    },
    {
      "cell_type": "code",
      "execution_count": 14,
      "metadata": {
        "id": "VgFsmmfmHf_6",
        "colab": {
          "base_uri": "https://localhost:8080/"
        },
        "outputId": "0a2948d4-3f60-414e-b859-32b504c4d058"
      },
      "outputs": [
        {
          "output_type": "stream",
          "name": "stdout",
          "text": [
            "\n",
            "Desempenhos medios dos modelos:\n",
            "K-NN: 85.4827% (5.0393%)\n",
            "Arvore: 84.3213% (3.2178%)\n",
            "SVM: 87.417% (4.9257%)\n",
            "ComiteArvore: 88.1825% (4.5793%)\n",
            "RedeNeural: 85.8635% (5.5167%)\n",
            "LVQ: 83.3597% (4.3416%)\n"
          ]
        }
      ],
      "source": [
        "#10 Execucao do modelo experimental\n",
        "#avaliacao de cada modelo nas amotragens estratificas\n",
        "print('\\nDesempenhos medios dos modelos:')\n",
        "for name, model in models:\n",
        "\tcv_results = model_selection.cross_val_score(model, X_train, y_train, cv=10, scoring=scoring)\n",
        "\tresults.append(cv_results)\n",
        "\tnames.append(name)\n",
        "\tmsg = f'{name}: {round(cv_results.mean()*100, 4)}% ({round(cv_results.std()*100, 4)}%)'\n",
        "\tprint(msg)\n"
      ]
    },
    {
      "cell_type": "code",
      "execution_count": 15,
      "metadata": {
        "id": "QhQlnHiCHjs8",
        "colab": {
          "base_uri": "https://localhost:8080/"
        },
        "outputId": "a9cf65f6-4915-40fa-930a-d026f8d4915d"
      },
      "outputs": [
        {
          "output_type": "stream",
          "name": "stdout",
          "text": [
            "Mann-Whitney Statistic: s=4597.000, p=0.163\n",
            "\n",
            "Same distributions (fail to reject H0)\n",
            "\n",
            "Comparison stats 5.835103137507348\n",
            "Comparacao Arvore | SVM -> KruskalResult(statistic=0.0, pvalue=1.0)\n",
            "Comparacao Arvore | ComiteArvore -> KruskalResult(statistic=3.645433614735224, pvalue=0.05622316176795617)\n",
            "Comparacao Arvore | RedeNeural -> KruskalResult(statistic=1.3991570881226054, pvalue=0.23686475252889502)\n",
            "Comparacao Arvore | CRNA -> KruskalResult(statistic=0.013043478260862851, pvalue=0.9090728721601653)\n",
            "Comparacao SVM | RedeNeural -> KruskalResult(statistic=0.763753799392088, pvalue=0.3821563277782446)\n",
            "Comparacao SVM | ComiteRede -> KruskalResult(statistic=3.7438636363636353, pvalue=0.05300175543258778)\n",
            "Comparacao RedeNeural | ComiteRede -> KruskalResult(statistic=1.2225707727620583, pvalue=0.26885672625312595)\n",
            "Comparacao K-NN | SVM -> KruskalResult(statistic=0.1782170542635702, pvalue=0.6729099743905884)\n",
            "Comparacao K-NN | RedeNeural -> KruskalResult(statistic=0.02325937260903401, pvalue=0.8787845163601213)\n",
            "Comparacao K-NN | ComiteRede -> KruskalResult(statistic=0.7608629825889385, pvalue=0.38305858933697456)\n"
          ]
        }
      ],
      "source": [
        "#11 Comparacao de modelos\n",
        "\n",
        "# Significance stats tests\n",
        "from numpy.random import seed\n",
        "from numpy.random import randn\n",
        "from scipy.stats import mannwhitneyu\n",
        "from scipy.stats import friedmanchisquare\n",
        "from scipy.stats import kruskal\n",
        "from scipy.stats import wilcoxon\n",
        "# seed the random number generator\n",
        "seed(1)\n",
        "# generate three independent samples\n",
        "data1 = 5 * randn(100) + 50\n",
        "data2 = 5 * randn(100) + 50\n",
        "data3 = 5 * randn(100) + 52\n",
        "\n",
        "# compare samples\n",
        "stat, p = mannwhitneyu(data1, data2)\n",
        "print('Mann-Whitney Statistic: s=%.3f, p=%.3f' % (stat, p))\n",
        "# interpret\n",
        "# Teste de hipotese analisando o p-value\n",
        "stat, p = stats.kruskal(results[0],results[1],results[2],results[3],results[4],results[5])\n",
        "alpha = 0.05\n",
        "if p > alpha:\n",
        "\tprint('\\nSame distributions (fail to reject H0)')\n",
        "else:\n",
        "\tprint('\\nDifferent distributions (reject H0)')\n",
        "print('\\nComparison stats', stat)\n",
        "\n",
        "print('Comparacao Arvore | SVM ->', stats.kruskal(results[1],results[1]))\n",
        "print('Comparacao Arvore | ComiteArvore ->', stats.kruskal(results[1],results[3]))\n",
        "print('Comparacao Arvore | RedeNeural ->',stats.kruskal(results[1],results[4]))\n",
        "print('Comparacao Arvore | CRNA ->',stats.kruskal(results[1],results[5]))\n",
        "print('Comparacao SVM | RedeNeural ->',stats.kruskal(results[3],results[4]))\n",
        "print('Comparacao SVM | ComiteRede ->',stats.kruskal(results[3],results[5]))\n",
        "print('Comparacao RedeNeural | ComiteRede ->',stats.kruskal(results[4],results[5]))\t\n",
        "print('Comparacao K-NN | SVM ->', stats.kruskal(results[0],results[1]))\n",
        "print('Comparacao K-NN | RedeNeural ->',stats.kruskal(results[0],results[4]))\n",
        "print('Comparacao K-NN | ComiteRede ->',stats.kruskal(results[0],results[5]))\t\n"
      ]
    },
    {
      "cell_type": "code",
      "execution_count": 16,
      "metadata": {
        "id": "45Co1ypgHmGt"
      },
      "outputs": [],
      "source": [
        "#treinamento dos modelos no conjunto de treino completo (sem divisao de validacao)\n",
        "#LVQ.train(X_train, y_train, epochs=100);\n",
        "LVQ.fit(X_train, y_train, epochs=100);\n",
        "KNN.fit(X_train, y_train);\n",
        "RFC.fit(X_train, y_train);\n",
        "SVC.fit(X_train, y_train);\n",
        "DTC.fit(X_train, y_train);\n",
        "MLP.fit(X_train, y_train);\n",
        "#BMLP.fit(X_train, y_train);\n",
        "\n",
        "\n",
        "#predicao de cada modelo para a base de teste\n",
        "Y_test_prediction_LVQ = LVQ.predict(X_test)\n",
        "Y_test_prediction_KNN = KNN.predict(X_test)\n",
        "Y_test_prediction_RFC = RFC.predict(X_test)\n",
        "Y_test_prediction_SVC = SVC.predict(X_test)\n",
        "Y_test_prediction_DTC = DTC.predict(X_test)\n",
        "Y_test_prediction_MLP = MLP.predict(X_test)\n",
        "#Y_test_prediction_BMLP = BMLP.predict(X_test)"
      ]
    },
    {
      "cell_type": "code",
      "execution_count": 17,
      "metadata": {
        "id": "hxgJ-sF2f1Yc",
        "colab": {
          "base_uri": "https://localhost:8080/"
        },
        "outputId": "24fc970f-930d-4fe2-cca9-dbe5ae69daf2"
      },
      "outputs": [
        {
          "output_type": "stream",
          "name": "stdout",
          "text": [
            "\n",
            "Acuracia LVQ 0.8665377176015474  Teste 0.838150289017341\n",
            "              precision    recall  f1-score   support\n",
            "\n",
            "           0       0.83      0.89      0.86        97\n",
            "           1       0.84      0.78      0.81        76\n",
            "\n",
            "    accuracy                           0.84       173\n",
            "   macro avg       0.84      0.83      0.83       173\n",
            "weighted avg       0.84      0.84      0.84       173\n",
            "\n",
            "Confussion matrix:\n",
            " [[86 11]\n",
            " [17 59]]\n",
            "\n",
            "Acuracia K-NN 1.0  Teste 0.8265895953757225\n",
            "              precision    recall  f1-score   support\n",
            "\n",
            "           0       0.83      0.88      0.85        97\n",
            "           1       0.83      0.76      0.79        76\n",
            "\n",
            "    accuracy                           0.83       173\n",
            "   macro avg       0.83      0.82      0.82       173\n",
            "weighted avg       0.83      0.83      0.83       173\n",
            "\n",
            "Confussion matrix:\n",
            " [[85 12]\n",
            " [18 58]]\n",
            "\n",
            "Acuracia Comite de Arvore: Treinamento 0.9787234042553191  Teste 0.8670520231213873\n",
            "              precision    recall  f1-score   support\n",
            "\n",
            "           0       0.87      0.90      0.88        97\n",
            "           1       0.86      0.83      0.85        76\n",
            "\n",
            "    accuracy                           0.87       173\n",
            "   macro avg       0.87      0.86      0.86       173\n",
            "weighted avg       0.87      0.87      0.87       173\n",
            "\n",
            "Confussion matrix:\n",
            " [[87 10]\n",
            " [13 63]]\n",
            "\n",
            "Acuracia SVC: Treinamento 0.9381044487427466  Teste 0.8497109826589595\n",
            "              precision    recall  f1-score   support\n",
            "\n",
            "           0       0.86      0.88      0.87        97\n",
            "           1       0.84      0.82      0.83        76\n",
            "\n",
            "    accuracy                           0.85       173\n",
            "   macro avg       0.85      0.85      0.85       173\n",
            "weighted avg       0.85      0.85      0.85       173\n",
            "\n",
            "Confussion matrix:\n",
            " [[85 12]\n",
            " [14 62]]\n",
            "\n",
            "Acuracia Arvore: Treinamento 0.941972920696325  Teste 0.838150289017341\n",
            "              precision    recall  f1-score   support\n",
            "\n",
            "           0       0.82      0.92      0.86        97\n",
            "           1       0.88      0.74      0.80        76\n",
            "\n",
            "    accuracy                           0.84       173\n",
            "   macro avg       0.85      0.83      0.83       173\n",
            "weighted avg       0.84      0.84      0.84       173\n",
            "\n",
            "Confussion matrix:\n",
            " [[89  8]\n",
            " [20 56]]\n",
            "\n",
            "Acuracia Rede Neural: Treinamento 0.941972920696325  Teste 0.838150289017341\n",
            "Clasification report:               precision    recall  f1-score   support\n",
            "\n",
            "           0       0.84      0.88      0.86        97\n",
            "           1       0.83      0.79      0.81        76\n",
            "\n",
            "    accuracy                           0.84       173\n",
            "   macro avg       0.84      0.83      0.83       173\n",
            "weighted avg       0.84      0.84      0.84       173\n",
            "\n",
            "Confussion matrix:\n",
            " [[85 12]\n",
            " [16 60]]\n"
          ]
        }
      ],
      "source": [
        "#12 Apresentacao de resultados\n",
        "\n",
        "print(\"\\nAcuracia LVQ\",  accuracy_score(LVQ.predict(X_train),y_train),\" Teste\" ,accuracy_score(LVQ.predict(X_test),y_test))\n",
        "print(classification_report(y_test, Y_test_prediction_LVQ))\n",
        "print(\"Confussion matrix:\\n\", confusion_matrix(y_test, Y_test_prediction_LVQ))\n",
        "\n",
        "print(\"\\nAcuracia K-NN\",  KNN.score(X_train, y_train),\" Teste\" ,KNN.score(X_test, y_test))\n",
        "print(classification_report(y_test, Y_test_prediction_KNN))\n",
        "print(\"Confussion matrix:\\n\", confusion_matrix(y_test, Y_test_prediction_KNN))\n",
        "\n",
        "print(\"\\nAcuracia Comite de Arvore: Treinamento\",  RFC.score(X_train, y_train),\" Teste\" ,RFC.score(X_test, y_test))\n",
        "print(classification_report(y_test, Y_test_prediction_RFC))\n",
        "print(\"Confussion matrix:\\n\", confusion_matrix(y_test, Y_test_prediction_RFC))\n",
        "\n",
        "print(\"\\nAcuracia SVC: Treinamento\",  SVC.score(X_train, y_train),\" Teste\" ,SVC.score(X_test, y_test))\n",
        "print(classification_report(y_test, Y_test_prediction_SVC))\n",
        "print(\"Confussion matrix:\\n\", confusion_matrix(y_test, Y_test_prediction_SVC))\n",
        "\n",
        "print(\"\\nAcuracia Arvore: Treinamento\",  DTC.score(X_train, y_train),\" Teste\" ,DTC.score(X_test, y_test))\n",
        "print(classification_report(y_test, Y_test_prediction_DTC))\n",
        "print(\"Confussion matrix:\\n\", confusion_matrix(y_test, Y_test_prediction_DTC))\n",
        "\n",
        "print(\"\\nAcuracia Rede Neural: Treinamento\",  MLP.score(X_train, y_train),\" Teste\" ,MLP.score(X_test, y_test))\n",
        "print(\"Clasification report:\", classification_report(y_test, Y_test_prediction_MLP))\n",
        "print(\"Confussion matrix:\\n\", confusion_matrix(y_test, Y_test_prediction_MLP))\n",
        "\n",
        "# print(\"\\nAcuracia Comite RNA: Treinamento\",  BMLP.score(X_train, y_train),\" Teste\" ,BMLP.score(X_test, y_test))\n",
        "# print(\"Clasification report:\", classification_report(y_test, Y_test_prediction_BMLP))\n",
        "# print(\"Confussion matrix:\\n\", confusion_matrix(y_test, Y_test_prediction_BMLP))"
      ]
    },
    {
      "cell_type": "code",
      "execution_count": 18,
      "metadata": {
        "id": "lQhm0LsIsj_u",
        "colab": {
          "base_uri": "https://localhost:8080/",
          "height": 540
        },
        "outputId": "1d7b44ee-9565-487e-f025-da8dc7ba2495"
      },
      "outputs": [
        {
          "output_type": "display_data",
          "data": {
            "text/plain": [
              "<Figure size 1440x576 with 1 Axes>"
            ],
            "image/png": "[encoded data removed]"
          },
          "metadata": {
            "needs_background": "light"
          }
        }
      ],
      "source": [
        "fig = plt.figure(figsize = (20,8))\n",
        "fig.suptitle('Algorithm Comparison')\n",
        "ax = fig.add_subplot(111)\n",
        "plt.boxplot(results)\n",
        "ax.set_xticklabels(names)\n",
        "plt.show()\t"
      ]
    }
  ],
  "metadata": {
    "accelerator": "GPU",
    "colab": {
      "collapsed_sections": [
        "qRvY2mbXo3bH",
        "85CxJPUCQlhP",
        "19VR4eM9s37a",
        "itVhgYagtbnp",
        "ZuuiJWQet7Xa",
        "4BiNDq6Hn9wG",
        "6IPwSiB-8FNX"
      ],
      "name": "Atvd_individual_credit_score.ipynb",
      "provenance": []
    },
    "kernelspec": {
      "display_name": "Python 3",
      "name": "python3"
    }
  },
  "nbformat": 4,
  "nbformat_minor": 0
}